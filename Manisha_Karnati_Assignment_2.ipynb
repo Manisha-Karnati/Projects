{
 "cells": [
  {
   "cell_type": "markdown",
   "id": "039d28fe",
   "metadata": {},
   "source": [
    "Unsatisfactory Performance of Logistic Regression: Suppose you are implementing a\n",
    "simple logistic regression to solve a binary classification problem but you find unsatisfactory\n",
    "results."
   ]
  },
  {
   "cell_type": "markdown",
   "id": "fbf28420",
   "metadata": {},
   "source": [
    "(a) What actions on your dataset would you consider to take in order to improve the\n",
    "performance of the model?"
   ]
  },
  {
   "cell_type": "markdown",
   "id": "dc05d7f9",
   "metadata": {},
   "source": [
    "Answer:\n",
    "There are several actions needed to consider to improve the performance of the model:\n",
    "\n",
    "- Feature Engineering: Reevaluvating the features used in the model. In order to get better capture in the data, we can consider creating new models or by transforming the existing ones.\n",
    "\n",
    "- Data Selection: It is essential to analyze the importance of each feature using techniques like feature importance scores or feature selection methods.\n",
    "\n",
    "- Data Cleaning: Checking for missing data and outliers and removing them if necessary.\n",
    "\n",
    "- Data Scaling/Normalization: Normalizing features to ensure that they have similar scales.\n",
    "\n",
    "- Hyperparameter Tuning: Experimenting with different hyperparameters like regularization strength, number of iterations, or learning rate to find best values to the model.\n",
    "\n",
    "- Regularization: To prevent overfitting, applying regularization techniques like L1 or L2 regularization can improve the performance.\n",
    "\n",
    "- Class Imbalance: If there is a class imbalance issue (i.e., one class significantly outnumbers the other), to balance the classes, consider using techniques like synthetic data generation, oversampling, or undersampling.\n",
    "\n",
    "Reference: https://www.analyticsvidhya.com/blog/2021/09/guide-for-building-an-end-to-end-logistic-regression-model/"
   ]
  },
  {
   "cell_type": "markdown",
   "id": "8b7f9603",
   "metadata": {},
   "source": [
    "(b) What would you consider to try for the existing algorithm to improve the performance\n",
    "of the model? Hint: Think about hyperparameters."
   ]
  },
  {
   "cell_type": "markdown",
   "id": "3fa64410",
   "metadata": {},
   "source": [
    "Answer:\n",
    "There are several actions to be performed inorder to improve the performance of the models. Particularly focusing on hyperparameters, we can consider below actions:\n",
    "\n",
    "- Learning Rate: To yield the best results, try experimenting with different learning rates to find the one that converges faster.\n",
    "\n",
    "- Regularization Strength: Inorder to prevent overfitting, consider tuning the strength of regularization techniques like L1 or L2 regularization\n",
    ".\n",
    "- Number of Iterations: Sometimes, the model will not yield the accurate results with the default number of iterations. Increasing or decreasing the number of iterations (epochs) during training will improve the performance of the model. \n",
    "\n",
    "Reference: https://scikit-learn.org/stable/modules/grid_search.html"
   ]
  },
  {
   "cell_type": "markdown",
   "id": "70cc32de",
   "metadata": {},
   "source": [
    "(c) What other algorithms would you consider to try in this case? Why? Explain."
   ]
  },
  {
   "cell_type": "markdown",
   "id": "b6d00b1b",
   "metadata": {},
   "source": [
    "Answer:\n",
    "Below are few alternative algorithms I might consider.\n",
    "\n",
    "- Decision trees: Able to handle both categorical and numerical features, as well as non-linear relationships between features and the target variable.\n",
    "\n",
    "- Support Vector Machines: Effective in high dimensional spaces and versatile. Effective in cases where number of dimensions is greater than the number of samples. Uses a subset of training points in the decision function (called support vectors), so it is also memory efficient.\n",
    "\n",
    "- Neural Networks: Learn and model the relationships between input and output data that are nonlinear and complex. They excel in image and text data, as well as sequential data. They are worth considering if you have access to a large amount of labeled data and computational resources.\n",
    "\n",
    "Reference: \n",
    "https://gustavwillig.medium.com/decision-tree-vs-logistic-regression-1a40c58307d0#:~:text=Decision%20trees%20are%20often%20better,features%20and%20the%20target%20variable\n",
    "\n",
    "https://www.datasciencecentral.com/alternatives-to-logistic-regression\n",
    "\n",
    "https://scikit-learn.org/stable/modules/svm.html#:~:text=Support%20vector%20machines%20(SVMs)%20are,Effective%20in%20high%20dimensional%20spaces.\n",
    "\n",
    "https://aws.amazon.com/what-is/neural-network/#:~:text=A%20neural%20network%20is%20a,that%20resembles%20the%20human%20brain."
   ]
  },
  {
   "cell_type": "markdown",
   "id": "37f0caca",
   "metadata": {},
   "source": [
    "Question - 2: \n",
    "\n",
    "(a) Build a mixed naive Bayes classifier for the Heart Disease Dataset used in lecture 6. In\n",
    "this implementation, consider all 13 features (Recall that in this dataset, 8 features are\n",
    "categorical and 5 features are continuous)."
   ]
  },
  {
   "cell_type": "code",
   "execution_count": 1,
   "id": "d1ded1ae",
   "metadata": {},
   "outputs": [
    {
     "name": "stdout",
     "output_type": "stream",
     "text": [
      "Requirement already satisfied: mixed-naive-bayes in c:\\users\\shubh\\anaconda3\\lib\\site-packages (0.0.3)\n",
      "Requirement already satisfied: numpy>=1.22.0 in c:\\users\\shubh\\anaconda3\\lib\\site-packages (from mixed-naive-bayes) (1.24.3)\n",
      "Requirement already satisfied: scikit-learn>=0.20.2 in c:\\users\\shubh\\anaconda3\\lib\\site-packages (from mixed-naive-bayes) (1.3.0)\n",
      "Requirement already satisfied: scipy>=1.5.0 in c:\\users\\shubh\\anaconda3\\lib\\site-packages (from scikit-learn>=0.20.2->mixed-naive-bayes) (1.10.1)\n",
      "Requirement already satisfied: joblib>=1.1.1 in c:\\users\\shubh\\anaconda3\\lib\\site-packages (from scikit-learn>=0.20.2->mixed-naive-bayes) (1.2.0)\n",
      "Requirement already satisfied: threadpoolctl>=2.0.0 in c:\\users\\shubh\\anaconda3\\lib\\site-packages (from scikit-learn>=0.20.2->mixed-naive-bayes) (2.2.0)\n"
     ]
    }
   ],
   "source": [
    "!pip install mixed-naive-bayes"
   ]
  },
  {
   "cell_type": "code",
   "execution_count": 3,
   "id": "cbee211c",
   "metadata": {},
   "outputs": [],
   "source": [
    "# Data Preprocessing\n",
    "\n",
    "# Loading the dataset\n",
    "import pandas as pd\n",
    "import numpy as np\n",
    "import pandas as pd\n",
    "import matplotlib.pyplot as plt\n",
    "%matplotlib inline\n",
    "import seaborn as sns\n",
    "# import mlxtend\n",
    "#reading csv file as dataframe\n",
    "heart_df = pd.read_csv('heart.csv')\n"
   ]
  },
  {
   "cell_type": "code",
   "execution_count": 4,
   "id": "43cbaa36",
   "metadata": {},
   "outputs": [
    {
     "data": {
      "text/plain": [
       "(1025, 14)"
      ]
     },
     "execution_count": 4,
     "metadata": {},
     "output_type": "execute_result"
    }
   ],
   "source": [
    "heart_df.shape"
   ]
  },
  {
   "cell_type": "code",
   "execution_count": 5,
   "id": "57762b68",
   "metadata": {},
   "outputs": [
    {
     "data": {
      "text/html": [
       "<div>\n",
       "<style scoped>\n",
       "    .dataframe tbody tr th:only-of-type {\n",
       "        vertical-align: middle;\n",
       "    }\n",
       "\n",
       "    .dataframe tbody tr th {\n",
       "        vertical-align: top;\n",
       "    }\n",
       "\n",
       "    .dataframe thead th {\n",
       "        text-align: right;\n",
       "    }\n",
       "</style>\n",
       "<table border=\"1\" class=\"dataframe\">\n",
       "  <thead>\n",
       "    <tr style=\"text-align: right;\">\n",
       "      <th></th>\n",
       "      <th>age</th>\n",
       "      <th>sex</th>\n",
       "      <th>cp</th>\n",
       "      <th>trestbps</th>\n",
       "      <th>chol</th>\n",
       "      <th>fbs</th>\n",
       "      <th>restecg</th>\n",
       "      <th>thalach</th>\n",
       "      <th>exang</th>\n",
       "      <th>oldpeak</th>\n",
       "      <th>slope</th>\n",
       "      <th>ca</th>\n",
       "      <th>thal</th>\n",
       "      <th>target</th>\n",
       "    </tr>\n",
       "  </thead>\n",
       "  <tbody>\n",
       "    <tr>\n",
       "      <th>count</th>\n",
       "      <td>1025.000000</td>\n",
       "      <td>1025.000000</td>\n",
       "      <td>1025.000000</td>\n",
       "      <td>1025.000000</td>\n",
       "      <td>1025.00000</td>\n",
       "      <td>1025.000000</td>\n",
       "      <td>1025.000000</td>\n",
       "      <td>1025.000000</td>\n",
       "      <td>1025.000000</td>\n",
       "      <td>1025.000000</td>\n",
       "      <td>1025.000000</td>\n",
       "      <td>1025.000000</td>\n",
       "      <td>1025.000000</td>\n",
       "      <td>1025.000000</td>\n",
       "    </tr>\n",
       "    <tr>\n",
       "      <th>mean</th>\n",
       "      <td>54.434146</td>\n",
       "      <td>0.695610</td>\n",
       "      <td>0.942439</td>\n",
       "      <td>131.611707</td>\n",
       "      <td>246.00000</td>\n",
       "      <td>0.149268</td>\n",
       "      <td>0.529756</td>\n",
       "      <td>149.114146</td>\n",
       "      <td>0.336585</td>\n",
       "      <td>1.071512</td>\n",
       "      <td>1.385366</td>\n",
       "      <td>0.754146</td>\n",
       "      <td>2.323902</td>\n",
       "      <td>0.513171</td>\n",
       "    </tr>\n",
       "    <tr>\n",
       "      <th>std</th>\n",
       "      <td>9.072290</td>\n",
       "      <td>0.460373</td>\n",
       "      <td>1.029641</td>\n",
       "      <td>17.516718</td>\n",
       "      <td>51.59251</td>\n",
       "      <td>0.356527</td>\n",
       "      <td>0.527878</td>\n",
       "      <td>23.005724</td>\n",
       "      <td>0.472772</td>\n",
       "      <td>1.175053</td>\n",
       "      <td>0.617755</td>\n",
       "      <td>1.030798</td>\n",
       "      <td>0.620660</td>\n",
       "      <td>0.500070</td>\n",
       "    </tr>\n",
       "    <tr>\n",
       "      <th>min</th>\n",
       "      <td>29.000000</td>\n",
       "      <td>0.000000</td>\n",
       "      <td>0.000000</td>\n",
       "      <td>94.000000</td>\n",
       "      <td>126.00000</td>\n",
       "      <td>0.000000</td>\n",
       "      <td>0.000000</td>\n",
       "      <td>71.000000</td>\n",
       "      <td>0.000000</td>\n",
       "      <td>0.000000</td>\n",
       "      <td>0.000000</td>\n",
       "      <td>0.000000</td>\n",
       "      <td>0.000000</td>\n",
       "      <td>0.000000</td>\n",
       "    </tr>\n",
       "    <tr>\n",
       "      <th>25%</th>\n",
       "      <td>48.000000</td>\n",
       "      <td>0.000000</td>\n",
       "      <td>0.000000</td>\n",
       "      <td>120.000000</td>\n",
       "      <td>211.00000</td>\n",
       "      <td>0.000000</td>\n",
       "      <td>0.000000</td>\n",
       "      <td>132.000000</td>\n",
       "      <td>0.000000</td>\n",
       "      <td>0.000000</td>\n",
       "      <td>1.000000</td>\n",
       "      <td>0.000000</td>\n",
       "      <td>2.000000</td>\n",
       "      <td>0.000000</td>\n",
       "    </tr>\n",
       "    <tr>\n",
       "      <th>50%</th>\n",
       "      <td>56.000000</td>\n",
       "      <td>1.000000</td>\n",
       "      <td>1.000000</td>\n",
       "      <td>130.000000</td>\n",
       "      <td>240.00000</td>\n",
       "      <td>0.000000</td>\n",
       "      <td>1.000000</td>\n",
       "      <td>152.000000</td>\n",
       "      <td>0.000000</td>\n",
       "      <td>0.800000</td>\n",
       "      <td>1.000000</td>\n",
       "      <td>0.000000</td>\n",
       "      <td>2.000000</td>\n",
       "      <td>1.000000</td>\n",
       "    </tr>\n",
       "    <tr>\n",
       "      <th>75%</th>\n",
       "      <td>61.000000</td>\n",
       "      <td>1.000000</td>\n",
       "      <td>2.000000</td>\n",
       "      <td>140.000000</td>\n",
       "      <td>275.00000</td>\n",
       "      <td>0.000000</td>\n",
       "      <td>1.000000</td>\n",
       "      <td>166.000000</td>\n",
       "      <td>1.000000</td>\n",
       "      <td>1.800000</td>\n",
       "      <td>2.000000</td>\n",
       "      <td>1.000000</td>\n",
       "      <td>3.000000</td>\n",
       "      <td>1.000000</td>\n",
       "    </tr>\n",
       "    <tr>\n",
       "      <th>max</th>\n",
       "      <td>77.000000</td>\n",
       "      <td>1.000000</td>\n",
       "      <td>3.000000</td>\n",
       "      <td>200.000000</td>\n",
       "      <td>564.00000</td>\n",
       "      <td>1.000000</td>\n",
       "      <td>2.000000</td>\n",
       "      <td>202.000000</td>\n",
       "      <td>1.000000</td>\n",
       "      <td>6.200000</td>\n",
       "      <td>2.000000</td>\n",
       "      <td>4.000000</td>\n",
       "      <td>3.000000</td>\n",
       "      <td>1.000000</td>\n",
       "    </tr>\n",
       "  </tbody>\n",
       "</table>\n",
       "</div>"
      ],
      "text/plain": [
       "               age          sex           cp     trestbps        chol  \\\n",
       "count  1025.000000  1025.000000  1025.000000  1025.000000  1025.00000   \n",
       "mean     54.434146     0.695610     0.942439   131.611707   246.00000   \n",
       "std       9.072290     0.460373     1.029641    17.516718    51.59251   \n",
       "min      29.000000     0.000000     0.000000    94.000000   126.00000   \n",
       "25%      48.000000     0.000000     0.000000   120.000000   211.00000   \n",
       "50%      56.000000     1.000000     1.000000   130.000000   240.00000   \n",
       "75%      61.000000     1.000000     2.000000   140.000000   275.00000   \n",
       "max      77.000000     1.000000     3.000000   200.000000   564.00000   \n",
       "\n",
       "               fbs      restecg      thalach        exang      oldpeak  \\\n",
       "count  1025.000000  1025.000000  1025.000000  1025.000000  1025.000000   \n",
       "mean      0.149268     0.529756   149.114146     0.336585     1.071512   \n",
       "std       0.356527     0.527878    23.005724     0.472772     1.175053   \n",
       "min       0.000000     0.000000    71.000000     0.000000     0.000000   \n",
       "25%       0.000000     0.000000   132.000000     0.000000     0.000000   \n",
       "50%       0.000000     1.000000   152.000000     0.000000     0.800000   \n",
       "75%       0.000000     1.000000   166.000000     1.000000     1.800000   \n",
       "max       1.000000     2.000000   202.000000     1.000000     6.200000   \n",
       "\n",
       "             slope           ca         thal       target  \n",
       "count  1025.000000  1025.000000  1025.000000  1025.000000  \n",
       "mean      1.385366     0.754146     2.323902     0.513171  \n",
       "std       0.617755     1.030798     0.620660     0.500070  \n",
       "min       0.000000     0.000000     0.000000     0.000000  \n",
       "25%       1.000000     0.000000     2.000000     0.000000  \n",
       "50%       1.000000     0.000000     2.000000     1.000000  \n",
       "75%       2.000000     1.000000     3.000000     1.000000  \n",
       "max       2.000000     4.000000     3.000000     1.000000  "
      ]
     },
     "execution_count": 5,
     "metadata": {},
     "output_type": "execute_result"
    }
   ],
   "source": [
    "heart_df.describe()"
   ]
  },
  {
   "cell_type": "code",
   "execution_count": 6,
   "id": "36900e17",
   "metadata": {},
   "outputs": [
    {
     "data": {
      "text/html": [
       "<div>\n",
       "<style scoped>\n",
       "    .dataframe tbody tr th:only-of-type {\n",
       "        vertical-align: middle;\n",
       "    }\n",
       "\n",
       "    .dataframe tbody tr th {\n",
       "        vertical-align: top;\n",
       "    }\n",
       "\n",
       "    .dataframe thead th {\n",
       "        text-align: right;\n",
       "    }\n",
       "</style>\n",
       "<table border=\"1\" class=\"dataframe\">\n",
       "  <thead>\n",
       "    <tr style=\"text-align: right;\">\n",
       "      <th></th>\n",
       "      <th>age</th>\n",
       "      <th>sex</th>\n",
       "      <th>cp</th>\n",
       "      <th>trestbps</th>\n",
       "      <th>chol</th>\n",
       "      <th>fbs</th>\n",
       "      <th>restecg</th>\n",
       "      <th>thalach</th>\n",
       "      <th>exang</th>\n",
       "      <th>oldpeak</th>\n",
       "      <th>slope</th>\n",
       "      <th>ca</th>\n",
       "      <th>thal</th>\n",
       "      <th>target</th>\n",
       "    </tr>\n",
       "  </thead>\n",
       "  <tbody>\n",
       "    <tr>\n",
       "      <th>0</th>\n",
       "      <td>52</td>\n",
       "      <td>1</td>\n",
       "      <td>0</td>\n",
       "      <td>125</td>\n",
       "      <td>212</td>\n",
       "      <td>0</td>\n",
       "      <td>1</td>\n",
       "      <td>168</td>\n",
       "      <td>0</td>\n",
       "      <td>1.0</td>\n",
       "      <td>2</td>\n",
       "      <td>2</td>\n",
       "      <td>3</td>\n",
       "      <td>0</td>\n",
       "    </tr>\n",
       "    <tr>\n",
       "      <th>1</th>\n",
       "      <td>53</td>\n",
       "      <td>1</td>\n",
       "      <td>0</td>\n",
       "      <td>140</td>\n",
       "      <td>203</td>\n",
       "      <td>1</td>\n",
       "      <td>0</td>\n",
       "      <td>155</td>\n",
       "      <td>1</td>\n",
       "      <td>3.1</td>\n",
       "      <td>0</td>\n",
       "      <td>0</td>\n",
       "      <td>3</td>\n",
       "      <td>0</td>\n",
       "    </tr>\n",
       "    <tr>\n",
       "      <th>2</th>\n",
       "      <td>70</td>\n",
       "      <td>1</td>\n",
       "      <td>0</td>\n",
       "      <td>145</td>\n",
       "      <td>174</td>\n",
       "      <td>0</td>\n",
       "      <td>1</td>\n",
       "      <td>125</td>\n",
       "      <td>1</td>\n",
       "      <td>2.6</td>\n",
       "      <td>0</td>\n",
       "      <td>0</td>\n",
       "      <td>3</td>\n",
       "      <td>0</td>\n",
       "    </tr>\n",
       "    <tr>\n",
       "      <th>3</th>\n",
       "      <td>61</td>\n",
       "      <td>1</td>\n",
       "      <td>0</td>\n",
       "      <td>148</td>\n",
       "      <td>203</td>\n",
       "      <td>0</td>\n",
       "      <td>1</td>\n",
       "      <td>161</td>\n",
       "      <td>0</td>\n",
       "      <td>0.0</td>\n",
       "      <td>2</td>\n",
       "      <td>1</td>\n",
       "      <td>3</td>\n",
       "      <td>0</td>\n",
       "    </tr>\n",
       "    <tr>\n",
       "      <th>4</th>\n",
       "      <td>62</td>\n",
       "      <td>0</td>\n",
       "      <td>0</td>\n",
       "      <td>138</td>\n",
       "      <td>294</td>\n",
       "      <td>1</td>\n",
       "      <td>1</td>\n",
       "      <td>106</td>\n",
       "      <td>0</td>\n",
       "      <td>1.9</td>\n",
       "      <td>1</td>\n",
       "      <td>3</td>\n",
       "      <td>2</td>\n",
       "      <td>0</td>\n",
       "    </tr>\n",
       "  </tbody>\n",
       "</table>\n",
       "</div>"
      ],
      "text/plain": [
       "   age  sex  cp  trestbps  chol  fbs  restecg  thalach  exang  oldpeak  slope  \\\n",
       "0   52    1   0       125   212    0        1      168      0      1.0      2   \n",
       "1   53    1   0       140   203    1        0      155      1      3.1      0   \n",
       "2   70    1   0       145   174    0        1      125      1      2.6      0   \n",
       "3   61    1   0       148   203    0        1      161      0      0.0      2   \n",
       "4   62    0   0       138   294    1        1      106      0      1.9      1   \n",
       "\n",
       "   ca  thal  target  \n",
       "0   2     3       0  \n",
       "1   0     3       0  \n",
       "2   0     3       0  \n",
       "3   1     3       0  \n",
       "4   3     2       0  "
      ]
     },
     "execution_count": 6,
     "metadata": {},
     "output_type": "execute_result"
    }
   ],
   "source": [
    "heart_df.head()"
   ]
  },
  {
   "cell_type": "code",
   "execution_count": 7,
   "id": "09ab2ac1",
   "metadata": {},
   "outputs": [],
   "source": [
    "# Defining the features and the target values of the model\n",
    "\n",
    "X = heart_df[heart_df.columns[:-1]].values #Features\n",
    "y = heart_df['target'].values#Target "
   ]
  },
  {
   "cell_type": "code",
   "execution_count": 8,
   "id": "e7002260",
   "metadata": {},
   "outputs": [
    {
     "name": "stdout",
     "output_type": "stream",
     "text": [
      "[[52.  1.  0. ...  2.  2.  3.]\n",
      " [53.  1.  0. ...  0.  0.  3.]\n",
      " [70.  1.  0. ...  0.  0.  3.]\n",
      " ...\n",
      " [47.  1.  0. ...  1.  1.  2.]\n",
      " [50.  0.  0. ...  2.  0.  2.]\n",
      " [54.  1.  0. ...  1.  1.  3.]]\n",
      "[0 0 0 ... 0 1 0]\n"
     ]
    }
   ],
   "source": [
    "print(X)\n",
    "print(y)"
   ]
  },
  {
   "cell_type": "code",
   "execution_count": 9,
   "id": "7110b2aa",
   "metadata": {},
   "outputs": [],
   "source": [
    "# Feature Encoding & Scaling\n",
    "\n",
    "from sklearn.preprocessing import LabelEncoder\n",
    "label_encoder = LabelEncoder()"
   ]
  },
  {
   "cell_type": "code",
   "execution_count": 10,
   "id": "a7e15197",
   "metadata": {},
   "outputs": [],
   "source": [
    "# Splitting the data into training and test sets\n",
    "\n",
    "from sklearn.model_selection import train_test_split\n",
    "X_train, X_test, y_train, y_test = train_test_split(X, y, test_size=0.2, random_state=3)"
   ]
  },
  {
   "cell_type": "code",
   "execution_count": 11,
   "id": "86a83765",
   "metadata": {},
   "outputs": [
    {
     "name": "stdout",
     "output_type": "stream",
     "text": [
      "[[43.  1.  0. ...  2.  0.  3.]\n",
      " [58.  0.  0. ...  1.  0.  2.]\n",
      " [29.  1.  1. ...  2.  0.  2.]\n",
      " ...\n",
      " [35.  0.  0. ...  2.  0.  2.]\n",
      " [53.  1.  0. ...  0.  0.  3.]\n",
      " [54.  0.  2. ...  2.  0.  2.]]\n",
      "820\n"
     ]
    }
   ],
   "source": [
    "print(X_train)\n",
    "print(X_train.shape[0])"
   ]
  },
  {
   "cell_type": "code",
   "execution_count": 12,
   "id": "44d328cb",
   "metadata": {},
   "outputs": [
    {
     "name": "stdout",
     "output_type": "stream",
     "text": [
      "[[58.  1.  2. ...  1.  0.  3.]\n",
      " [53.  1.  0. ...  1.  2.  3.]\n",
      " [53.  0.  0. ...  1.  0.  2.]\n",
      " ...\n",
      " [54.  1.  0. ...  2.  0.  2.]\n",
      " [44.  1.  1. ...  2.  0.  2.]\n",
      " [54.  1.  2. ...  1.  0.  3.]]\n",
      "205\n"
     ]
    }
   ],
   "source": [
    "print(X_test)\n",
    "print(X_test.shape[0])"
   ]
  },
  {
   "cell_type": "code",
   "execution_count": 13,
   "id": "6ec88dd8",
   "metadata": {},
   "outputs": [
    {
     "name": "stdout",
     "output_type": "stream",
     "text": [
      "[1 1 1 0 1 1 1 0 0 0 1 1 1 1 1 1 0 1 0 0 0 0 1 1 0 1 1 1 1 0 1 0 0 1 1 0 1\n",
      " 1 1 1 1 0 1 0 0 1 1 0 1 0 1 1 0 1 1 0 0 1 0 0 1 0 1 1 1 1 0 1 1 0 1 1 1 1\n",
      " 0 0 0 1 0 1 1 0 0 0 1 1 1 1 0 0 0 0 0 1 0 0 1 1 0 1 1 0 0 1 1 0 1 1 0 0 1\n",
      " 1 1 0 1 1 1 0 1 0 1 1 0 1 1 0 1 0 1 0 1 0 1 0 0 1 0 1 1 0 0 1 1 0 1 1 0 1\n",
      " 1 0 0 1 1 1 0 0 0 0 0 1 0 0 1 1 0 1 1 1 0 0 1 0 0 0 0 1 0 0 0 0 1 0 1 1 0\n",
      " 1 1 0 1 0 0 0 0 1 0 0 0 0 0 1 0 0 0 0 0 0 0 1 0 0 0 1 0 0 0 1 0 0 1 1 1 1\n",
      " 1 0 1 0 0 1 0 0 0 0 1 1 0 1 1 0 0 0 0 1 1 0 0 1 1 1 1 1 1 1 0 1 1 0 0 1 1\n",
      " 1 1 1 0 0 0 1 1 0 0 0 1 1 0 0 0 0 1 1 0 0 0 1 1 1 1 0 1 0 1 0 0 1 1 1 1 1\n",
      " 0 0 0 1 0 1 1 1 1 1 1 0 1 1 0 0 1 0 0 1 0 1 0 0 0 0 0 0 1 1 1 1 1 1 0 1 0\n",
      " 1 1 0 0 1 0 0 0 1 1 1 1 0 1 1 1 1 1 1 0 0 0 0 1 0 1 1 1 1 1 0 0 0 0 0 0 1\n",
      " 1 1 1 1 0 0 1 1 1 0 1 1 0 0 0 0 0 0 1 1 1 0 0 0 0 0 0 1 1 1 1 0 1 1 0 0 1\n",
      " 0 1 0 1 1 1 1 1 1 0 0 0 0 0 1 0 1 0 1 1 0 1 0 1 0 0 0 1 1 1 0 0 0 0 0 1 0\n",
      " 1 0 0 0 0 1 0 1 1 0 0 1 0 0 1 1 0 0 0 1 1 0 1 1 1 0 1 1 1 1 1 1 1 0 1 1 1\n",
      " 1 0 1 0 1 1 0 1 0 1 0 0 0 1 0 0 1 1 0 1 1 1 0 1 0 1 1 1 0 0 1 1 0 0 1 1 0\n",
      " 1 0 0 1 1 0 0 1 1 0 1 0 0 1 1 1 1 1 0 0 0 1 1 1 1 1 0 1 1 0 1 0 1 0 1 0 0\n",
      " 1 1 1 1 1 1 0 1 1 1 1 1 0 1 0 0 1 1 0 1 0 1 0 0 1 1 1 0 0 1 0 0 0 0 1 0 1\n",
      " 1 0 1 1 0 1 0 1 0 0 0 1 0 0 0 1 0 0 0 1 1 0 1 1 1 1 0 1 1 1 0 0 1 0 1 1 0\n",
      " 1 0 1 1 1 0 1 1 0 1 1 1 1 1 1 0 1 0 1 1 1 1 1 1 1 0 1 0 0 0 1 1 1 1 1 0 1\n",
      " 0 0 1 0 1 0 1 1 1 1 0 1 1 1 1 0 0 0 0 1 0 1 1 1 1 0 1 0 0 0 0 1 1 1 0 0 0\n",
      " 0 1 0 1 0 0 1 0 1 0 0 0 0 0 0 1 0 1 1 0 1 0 0 0 0 1 0 1 0 1 0 1 0 1 1 1 1\n",
      " 0 0 0 0 0 0 1 0 0 0 0 1 0 0 0 0 1 0 0 1 1 1 0 1 1 0 1 1 0 0 1 0 0 1 0 0 1\n",
      " 0 0 0 1 1 0 1 0 0 0 1 1 1 1 0 1 1 0 0 1 0 1 0 0 1 0 1 0 0 0 1 1 1 0 0 0 0\n",
      " 1 1 0 1 0 1]\n",
      "820\n"
     ]
    }
   ],
   "source": [
    "print(y_train)\n",
    "print(y_train.shape[0])"
   ]
  },
  {
   "cell_type": "code",
   "execution_count": 14,
   "id": "14d22233",
   "metadata": {},
   "outputs": [
    {
     "name": "stdout",
     "output_type": "stream",
     "text": [
      "[1 0 1 0 0 1 0 1 1 0 0 1 1 0 0 0 0 1 1 0 0 0 0 1 1 0 0 1 1 1 0 0 1 0 0 1 1\n",
      " 1 1 0 1 1 0 1 0 1 0 0 1 0 1 1 1 1 0 1 1 0 1 0 1 0 0 1 0 0 0 0 0 0 1 1 0 1\n",
      " 1 0 0 0 0 0 0 1 0 0 0 1 1 1 1 1 0 0 1 0 1 1 0 1 0 0 0 1 0 1 0 1 1 1 0 0 1\n",
      " 1 1 1 0 1 0 1 1 0 0 0 0 1 0 0 1 0 1 0 0 0 0 0 0 1 1 0 1 1 1 0 1 1 0 1 0 0\n",
      " 1 1 0 0 0 1 0 1 0 0 1 1 0 0 0 1 1 1 0 0 1 0 0 1 0 0 0 1 1 1 0 0 0 0 1 0 1\n",
      " 1 1 1 1 0 1 1 0 1 1 0 0 1 0 1 0 0 1 1 1]\n",
      "205\n"
     ]
    }
   ],
   "source": [
    "print(y_test)\n",
    "print(y_test.shape[0])"
   ]
  },
  {
   "cell_type": "code",
   "execution_count": 15,
   "id": "0c561799",
   "metadata": {},
   "outputs": [
    {
     "data": {
      "text/plain": [
       "MixedNB(alpha=0.5, var_smoothing=1e-09)"
      ]
     },
     "execution_count": 15,
     "metadata": {},
     "output_type": "execute_result"
    }
   ],
   "source": [
    "# Initialization\n",
    "\n",
    "from mixed_naive_bayes import MixedNB\n",
    "\n",
    "mnb = MixedNB(categorical_features = [1,2,5,6,8,10,11,12])\n",
    "mnb.fit(X_train, y_train)"
   ]
  },
  {
   "cell_type": "code",
   "execution_count": 16,
   "id": "92a7420a",
   "metadata": {},
   "outputs": [
    {
     "name": "stderr",
     "output_type": "stream",
     "text": [
      "C:\\Users\\shubh\\anaconda3\\Lib\\site-packages\\mixed_naive_bayes\\mixed_naive_bayes.py:423: FutureWarning: elementwise comparison failed; returning scalar instead, but in the future will perform elementwise comparison\n",
      "  if categorical_features == 'all':\n",
      "C:\\Users\\shubh\\anaconda3\\Lib\\site-packages\\mixed_naive_bayes\\mixed_naive_bayes.py:163: FutureWarning: elementwise comparison failed; returning scalar instead, but in the future will perform elementwise comparison\n",
      "  elif self.categorical_features == 'all':\n"
     ]
    },
    {
     "data": {
      "text/plain": [
       "MixedNB(alpha=0.5, var_smoothing=1e-09)"
      ]
     },
     "execution_count": 16,
     "metadata": {},
     "output_type": "execute_result"
    }
   ],
   "source": [
    "# Training the model\n",
    "\n",
    "mnb.fit(X_train, y_train)"
   ]
  },
  {
   "cell_type": "code",
   "execution_count": 17,
   "id": "ddc70a8c",
   "metadata": {},
   "outputs": [],
   "source": [
    "# Finding predictions for train and test sets\n",
    "\n",
    "train_y_pred = mnb.predict(X_train)\n",
    "test_y_pred = mnb.predict(X_test)"
   ]
  },
  {
   "cell_type": "code",
   "execution_count": 18,
   "id": "11751f98",
   "metadata": {},
   "outputs": [
    {
     "name": "stdout",
     "output_type": "stream",
     "text": [
      "[1 1 1 0 1 0 1 0 0 0 0 1 1 1 1 1 0 1 1 0 0 1 1 1 1 0 1 1 0 0 1 0 1 1 1 0 1\n",
      " 1 0 1 1 0 1 1 0 1 1 0 1 0 1 0 0 1 1 0 0 1 0 0 1 0 1 1 1 1 0 1 1 1 1 1 1 1\n",
      " 1 1 0 1 0 1 1 0 0 0 1 1 1 1 0 0 0 1 0 1 1 1 1 1 0 1 1 1 0 1 1 0 1 1 0 0 1\n",
      " 1 1 0 1 1 1 0 1 0 1 1 0 1 1 0 1 0 1 0 0 0 1 0 0 1 0 1 1 1 0 1 1 0 1 1 0 1\n",
      " 1 0 1 0 0 1 1 0 1 1 0 1 0 0 1 1 0 1 1 1 0 0 1 0 0 0 0 1 1 0 1 0 1 0 1 0 0\n",
      " 1 1 0 0 0 0 0 0 1 0 0 0 0 0 1 0 0 0 0 0 0 1 1 0 0 0 1 0 0 0 1 0 1 1 1 1 1\n",
      " 1 0 1 0 0 1 0 0 0 0 1 1 0 1 1 0 1 0 0 1 1 0 0 0 1 1 1 1 1 1 0 0 1 1 0 1 1\n",
      " 1 0 1 0 0 0 0 1 0 0 0 1 1 1 1 0 0 1 1 0 1 0 1 1 1 1 1 1 0 1 0 0 1 1 1 1 1\n",
      " 0 0 0 1 0 1 0 0 1 1 1 0 1 1 0 0 1 0 0 1 0 1 0 0 0 0 0 0 1 1 1 1 1 1 0 1 0\n",
      " 1 1 0 1 1 0 0 0 0 1 1 1 0 1 1 1 1 0 1 0 0 0 0 0 0 1 1 1 1 0 0 0 0 0 0 0 1\n",
      " 1 1 1 1 0 0 1 1 1 1 1 1 0 0 0 1 1 1 0 1 1 0 0 0 0 1 0 1 0 1 0 1 1 1 0 0 1\n",
      " 0 1 0 0 1 1 1 1 1 0 0 0 0 0 0 0 1 0 1 1 0 1 1 1 0 0 0 1 1 1 1 1 0 1 0 1 0\n",
      " 0 0 0 0 0 1 1 1 1 0 0 1 0 0 0 1 0 0 0 1 1 0 1 0 1 0 1 0 1 1 1 1 1 0 1 1 1\n",
      " 0 0 1 0 1 1 0 1 0 1 0 1 0 1 0 0 1 1 0 1 1 1 0 1 0 1 1 1 1 0 1 1 0 0 1 1 0\n",
      " 1 0 0 1 1 0 1 1 1 0 1 0 0 0 1 1 1 1 0 0 0 0 1 1 1 0 0 1 1 0 1 0 1 0 1 1 0\n",
      " 1 1 1 1 1 1 0 1 1 1 1 1 0 1 1 0 1 1 0 1 1 1 0 0 0 1 1 0 1 1 0 0 0 1 1 1 1\n",
      " 1 0 1 1 1 1 1 1 0 1 0 1 0 0 0 1 0 0 1 1 1 0 1 1 1 1 0 1 1 0 0 1 1 0 1 1 1\n",
      " 1 0 1 1 1 0 1 1 0 0 1 1 1 1 0 0 1 0 1 1 1 0 1 1 1 0 0 0 0 0 1 1 1 1 1 0 1\n",
      " 0 0 0 0 0 0 1 1 1 1 0 1 1 1 1 0 1 0 0 1 0 1 1 1 1 1 0 0 0 0 0 1 1 0 0 0 0\n",
      " 0 1 0 1 0 0 1 0 1 0 0 0 0 0 0 1 0 0 1 0 1 0 1 0 1 1 0 1 1 1 1 1 1 1 1 1 1\n",
      " 0 0 1 0 0 0 1 0 0 0 0 1 0 0 0 0 1 0 0 1 0 1 0 1 0 0 1 1 0 0 1 0 0 0 0 0 1\n",
      " 1 0 0 1 1 0 1 0 0 0 0 1 1 1 0 1 1 0 0 1 1 1 1 1 0 1 1 0 0 0 1 1 1 0 0 0 0\n",
      " 0 1 0 1 0 1]\n",
      "820\n"
     ]
    }
   ],
   "source": [
    "print(train_y_pred)\n",
    "print(train_y_pred.shape[0])"
   ]
  },
  {
   "cell_type": "code",
   "execution_count": 19,
   "id": "5a7d997b",
   "metadata": {},
   "outputs": [
    {
     "name": "stdout",
     "output_type": "stream",
     "text": [
      "[0 0 1 0 0 1 0 1 1 0 0 1 0 0 1 0 0 1 1 0 0 0 1 1 1 0 0 1 1 1 1 1 1 0 0 1 1\n",
      " 1 0 0 1 1 0 1 0 1 0 1 1 0 1 1 1 1 0 1 1 1 1 0 1 0 1 1 0 0 0 0 0 0 1 1 0 1\n",
      " 1 0 0 0 0 0 1 1 0 1 0 1 0 1 1 1 0 1 1 0 1 0 0 1 0 0 0 1 1 1 0 1 1 1 0 0 0\n",
      " 1 1 1 1 1 1 1 0 1 0 0 0 1 0 0 0 0 1 0 0 0 0 0 0 1 1 0 1 1 1 0 1 1 0 1 0 0\n",
      " 1 1 0 0 0 1 0 1 0 1 0 1 1 0 0 1 1 0 0 0 1 1 0 1 0 0 1 1 0 1 0 0 0 0 1 1 1\n",
      " 1 1 1 1 0 1 1 0 1 1 0 1 1 0 1 0 0 1 1 1]\n",
      "205\n"
     ]
    }
   ],
   "source": [
    "print(test_y_pred)\n",
    "print(test_y_pred.shape[0])"
   ]
  },
  {
   "cell_type": "code",
   "execution_count": 20,
   "id": "a9b62d73",
   "metadata": {
    "scrolled": true
   },
   "outputs": [
    {
     "name": "stdout",
     "output_type": "stream",
     "text": [
      "Mixed Gaussian NB Train Classification Report: \n",
      "\n",
      "               precision    recall  f1-score   support\n",
      "\n",
      "           0       0.86      0.83      0.85       393\n",
      "           1       0.85      0.88      0.86       427\n",
      "\n",
      "    accuracy                           0.86       820\n",
      "   macro avg       0.86      0.86      0.86       820\n",
      "weighted avg       0.86      0.86      0.86       820\n",
      " \n",
      "\n",
      "\n",
      "Mixed Gaussian NB Test Classification Report: \n",
      "\n",
      "               precision    recall  f1-score   support\n",
      "\n",
      "           0       0.89      0.81      0.85       106\n",
      "           1       0.81      0.89      0.85        99\n",
      "\n",
      "    accuracy                           0.85       205\n",
      "   macro avg       0.85      0.85      0.85       205\n",
      "weighted avg       0.85      0.85      0.85       205\n",
      "\n"
     ]
    }
   ],
   "source": [
    "from sklearn import metrics\n",
    "from sklearn.metrics import confusion_matrix, classification_report\n",
    "\n",
    "train_score = metrics.accuracy_score(y_train, train_y_pred) # Compute train accuracy\n",
    "test_score = metrics.accuracy_score(y_test, test_y_pred) # Compute test accuracy\n",
    "train_report = classification_report(y_train, train_y_pred) # Generate classification report for train data\n",
    "test_report = classification_report(y_test, test_y_pred) # Generate classification report for test data\n",
    "\n",
    "print('Mixed Gaussian NB Train Classification Report: \\n\\n', train_report,'\\n\\n')\n",
    "print('Mixed Gaussian NB Test Classification Report: \\n\\n', test_report)\n",
    "\n",
    "# Reference from Lecture Notes - 6"
   ]
  },
  {
   "cell_type": "markdown",
   "id": "42a8edb5",
   "metadata": {},
   "source": [
    "(b) How do you evaluate the performance of the mixed naive Bayes classifier in part (a)? How\n",
    "do you compare the performance of the mixed naive Bayes classifier with the classical\n",
    "and Gaussian naive Bayes classifiers constructed in lecture 6?"
   ]
  },
  {
   "cell_type": "markdown",
   "id": "daad587d",
   "metadata": {},
   "source": [
    "Answer:\n",
    "\n",
    "Accuracy of classical Naive bayes classifier from lecture notes is 83% which got improved to 85% for mixed naive bayes classifier now.\n",
    "Also, accuracy of Gaussian Naive bayes classifier from lecture notes is 74% which got improved to 85% for the mixed naive bayes classifier now. As we observe, all the other metrics improved from gaussian naive bayes classifier to Mixed gaussian naive bayes classification report."
   ]
  },
  {
   "cell_type": "markdown",
   "id": "639e2fc8",
   "metadata": {},
   "source": [
    "(c) Is there a straightforward generalization of LDA/QDA classification algorithms to hybrid\n",
    "datasets? Why? Explain."
   ]
  },
  {
   "cell_type": "markdown",
   "id": "3f1478d7",
   "metadata": {},
   "source": [
    "Answer:\n",
    "\n",
    "Because of its underlying presumptions and mathematical foundations, which are designed for continuous data,there is no straigntforward generalization for LDA/QDA to hybrid datasets."
   ]
  },
  {
   "cell_type": "markdown",
   "id": "c6b21c39",
   "metadata": {},
   "source": [
    "Question - 3:\n",
    "LDA vs. QDA: In this problem, you will compare the performances of the LDA and QDA\n",
    "classifiers on a given dataset. The goal is to find out what classifier (between LDA and QDA)\n",
    "is most appropriate to be applied in different cases. In this problem proceed as follows."
   ]
  },
  {
   "cell_type": "markdown",
   "id": "e58de399",
   "metadata": {},
   "source": [
    "a) Download LDA-QDA-Toy-Data.csv and read the csv file into a dataframe. Regard x1 and\n",
    "x2 columns as continuous features, and the y column as a binary categorical target. Split\n",
    "the data into train and test with test size=0.3."
   ]
  },
  {
   "cell_type": "code",
   "execution_count": 23,
   "id": "c96f86a4",
   "metadata": {},
   "outputs": [
    {
     "data": {
      "text/plain": [
       "(3000, 3)"
      ]
     },
     "execution_count": 23,
     "metadata": {},
     "output_type": "execute_result"
    }
   ],
   "source": [
    "toy_df = pd.read_csv('LDA-QDA-Toy-Data.csv',index_col=[0])     # Reading the csv source file as a dataframe\n",
    "toy_df.shape"
   ]
  },
  {
   "cell_type": "code",
   "execution_count": 24,
   "id": "480fbaac",
   "metadata": {},
   "outputs": [
    {
     "data": {
      "text/html": [
       "<div>\n",
       "<style scoped>\n",
       "    .dataframe tbody tr th:only-of-type {\n",
       "        vertical-align: middle;\n",
       "    }\n",
       "\n",
       "    .dataframe tbody tr th {\n",
       "        vertical-align: top;\n",
       "    }\n",
       "\n",
       "    .dataframe thead th {\n",
       "        text-align: right;\n",
       "    }\n",
       "</style>\n",
       "<table border=\"1\" class=\"dataframe\">\n",
       "  <thead>\n",
       "    <tr style=\"text-align: right;\">\n",
       "      <th></th>\n",
       "      <th>$x_1$</th>\n",
       "      <th>$x_2$</th>\n",
       "      <th>$y$</th>\n",
       "    </tr>\n",
       "  </thead>\n",
       "  <tbody>\n",
       "    <tr>\n",
       "      <th>0</th>\n",
       "      <td>-9.968499</td>\n",
       "      <td>4.297527</td>\n",
       "      <td>1</td>\n",
       "    </tr>\n",
       "    <tr>\n",
       "      <th>1</th>\n",
       "      <td>1.311400</td>\n",
       "      <td>-7.549243</td>\n",
       "      <td>0</td>\n",
       "    </tr>\n",
       "    <tr>\n",
       "      <th>2</th>\n",
       "      <td>9.872124</td>\n",
       "      <td>7.567624</td>\n",
       "      <td>1</td>\n",
       "    </tr>\n",
       "    <tr>\n",
       "      <th>3</th>\n",
       "      <td>-2.854022</td>\n",
       "      <td>-6.178098</td>\n",
       "      <td>0</td>\n",
       "    </tr>\n",
       "    <tr>\n",
       "      <th>4</th>\n",
       "      <td>-4.800956</td>\n",
       "      <td>-7.973079</td>\n",
       "      <td>0</td>\n",
       "    </tr>\n",
       "  </tbody>\n",
       "</table>\n",
       "</div>"
      ],
      "text/plain": [
       "      $x_1$     $x_2$  $y$\n",
       "0 -9.968499  4.297527    1\n",
       "1  1.311400 -7.549243    0\n",
       "2  9.872124  7.567624    1\n",
       "3 -2.854022 -6.178098    0\n",
       "4 -4.800956 -7.973079    0"
      ]
     },
     "execution_count": 24,
     "metadata": {},
     "output_type": "execute_result"
    }
   ],
   "source": [
    "toy_df.head()"
   ]
  },
  {
   "cell_type": "code",
   "execution_count": 25,
   "id": "3f1cc137",
   "metadata": {},
   "outputs": [],
   "source": [
    "# Defining the features and the target of the model\n",
    "\n",
    "X = toy_df[toy_df.columns[:-1]].values     # Features\n",
    "y = toy_df[toy_df.columns[-1]].values      # Target "
   ]
  },
  {
   "cell_type": "code",
   "execution_count": 26,
   "id": "ac46c109",
   "metadata": {},
   "outputs": [
    {
     "name": "stdout",
     "output_type": "stream",
     "text": [
      "[[-9.968499    4.29752702]\n",
      " [ 1.31139999 -7.5492433 ]\n",
      " [ 9.87212367  7.56762365]\n",
      " ...\n",
      " [ 5.07559826  0.79384041]\n",
      " [ 3.10258788  5.69322169]\n",
      " [-2.98732318 -8.02187526]]\n",
      "3000\n"
     ]
    }
   ],
   "source": [
    "print(X)\n",
    "print(X.shape[0])"
   ]
  },
  {
   "cell_type": "code",
   "execution_count": 27,
   "id": "1c1d7a1f",
   "metadata": {},
   "outputs": [
    {
     "name": "stdout",
     "output_type": "stream",
     "text": [
      "[1 0 1 ... 1 0 0]\n",
      "3000\n"
     ]
    }
   ],
   "source": [
    "print(y)\n",
    "print(y.shape[0])"
   ]
  },
  {
   "cell_type": "code",
   "execution_count": 28,
   "id": "e98aa29d",
   "metadata": {},
   "outputs": [],
   "source": [
    "# Breaking the data into train and test subsets\n",
    "\n",
    "from sklearn.model_selection import train_test_split\n",
    "X_train, X_test, y_train, y_test = train_test_split(X, y, test_size=0.25, random_state=3)\n",
    "\n",
    "# Reference from Lecture Notes - 6"
   ]
  },
  {
   "cell_type": "code",
   "execution_count": 29,
   "id": "95318283",
   "metadata": {},
   "outputs": [
    {
     "name": "stdout",
     "output_type": "stream",
     "text": [
      "[[ 3.5591752  -6.52292822]\n",
      " [-2.70518343 -0.19822184]\n",
      " [-0.49607839 -0.89936996]\n",
      " ...\n",
      " [-9.03558376 -4.12858728]\n",
      " [-1.22215815  5.62635861]\n",
      " [ 4.89350122  0.63736826]]\n",
      "2250\n"
     ]
    }
   ],
   "source": [
    "print(X_train)\n",
    "print(X_train.shape[0])"
   ]
  },
  {
   "cell_type": "code",
   "execution_count": 30,
   "id": "7b846b4e",
   "metadata": {},
   "outputs": [
    {
     "name": "stdout",
     "output_type": "stream",
     "text": [
      "[[ 8.5418545   4.74058452]\n",
      " [-9.39465948 -0.36502483]\n",
      " [ 2.84835002  2.74006469]\n",
      " ...\n",
      " [ 4.77464731 -0.29674689]\n",
      " [ 3.39988838  4.91018776]\n",
      " [ 4.55879733 -6.11852214]]\n",
      "750\n"
     ]
    }
   ],
   "source": [
    "print(X_test)\n",
    "print(X_test.shape[0])"
   ]
  },
  {
   "cell_type": "code",
   "execution_count": 31,
   "id": "4001e699",
   "metadata": {},
   "outputs": [
    {
     "name": "stdout",
     "output_type": "stream",
     "text": [
      "[0 1 0 ... 1 0 1]\n",
      "2250\n"
     ]
    }
   ],
   "source": [
    "print(y_train)\n",
    "print(y_train.shape[0])"
   ]
  },
  {
   "cell_type": "code",
   "execution_count": 32,
   "id": "f40af7ca",
   "metadata": {},
   "outputs": [
    {
     "name": "stdout",
     "output_type": "stream",
     "text": [
      "[1 1 0 1 0 1 0 1 0 1 0 0 1 0 0 0 1 1 1 1 0 0 0 0 0 0 0 0 0 1 1 0 0 1 0 0 1\n",
      " 0 0 0 1 1 0 0 0 1 0 1 0 0 1 0 0 0 0 0 1 1 1 1 1 0 0 1 0 1 1 0 0 1 0 1 0 0\n",
      " 0 1 1 1 1 1 1 0 1 0 0 0 1 1 1 0 1 1 0 1 0 1 1 0 0 1 0 0 0 0 1 0 1 1 1 0 1\n",
      " 0 0 0 0 0 0 0 0 1 0 0 1 1 1 1 1 1 1 1 0 0 0 1 1 1 0 0 0 0 0 1 0 0 1 0 0 0\n",
      " 1 1 0 0 1 1 1 1 0 0 0 0 1 1 1 1 1 1 1 0 0 0 1 0 1 1 1 1 0 0 1 0 1 0 1 0 1\n",
      " 0 0 1 1 1 1 0 1 0 1 1 1 1 1 0 0 0 1 0 0 1 1 0 0 0 0 0 1 0 1 0 0 0 1 0 0 0\n",
      " 0 1 0 0 1 0 0 1 1 1 0 1 1 1 0 0 0 0 0 0 0 0 1 0 1 1 1 0 1 0 1 0 1 0 1 1 0\n",
      " 1 0 1 1 0 1 0 0 1 1 0 1 1 1 0 1 1 0 0 1 0 1 1 1 0 0 1 0 1 1 1 0 1 0 0 0 0\n",
      " 1 0 0 0 0 0 0 1 0 0 0 1 1 1 1 1 0 0 0 1 0 0 0 1 0 0 1 1 1 1 1 0 1 0 1 1 1\n",
      " 1 0 1 0 1 0 1 0 1 1 1 1 0 1 0 1 0 0 0 0 0 0 1 1 0 1 0 1 0 1 1 1 1 1 0 0 0\n",
      " 0 1 1 1 1 0 1 1 1 1 1 1 1 1 0 0 1 0 0 1 1 1 1 0 0 1 1 0 1 1 1 0 0 1 1 0 1\n",
      " 0 0 1 1 1 1 0 1 1 1 1 1 0 0 0 1 0 0 1 1 1 1 1 1 1 0 0 0 0 0 0 0 0 0 0 1 0\n",
      " 0 0 0 0 1 1 1 0 0 0 0 1 0 0 0 1 0 0 1 1 0 1 1 0 0 1 0 1 1 0 1 0 0 1 1 1 0\n",
      " 0 0 1 0 0 0 0 0 0 1 1 1 1 1 0 1 0 0 1 0 0 1 0 1 1 1 1 0 0 0 1 0 0 0 1 1 0\n",
      " 0 1 1 0 0 1 1 1 0 1 0 0 0 1 0 0 0 0 1 0 0 0 0 0 0 1 0 0 0 1 1 1 1 0 0 0 0\n",
      " 0 0 0 0 0 1 0 1 0 1 0 0 0 1 1 0 1 0 0 1 1 0 1 1 1 0 0 0 0 1 0 1 1 0 1 1 0\n",
      " 0 0 1 1 1 0 0 1 0 0 1 0 0 0 0 1 1 0 0 1 0 0 1 0 1 0 0 1 0 1 1 0 1 1 0 0 1\n",
      " 1 1 0 1 0 0 0 0 0 1 1 0 0 0 1 1 0 1 0 0 0 1 1 0 0 0 0 1 1 0 1 1 0 1 1 1 0\n",
      " 0 1 1 0 0 0 1 1 0 0 1 0 1 1 0 1 1 1 0 1 0 1 0 0 1 1 0 0 0 0 1 0 1 0 0 0 1\n",
      " 1 0 0 0 1 1 1 1 0 1 1 0 0 0 0 1 0 1 1 0 1 1 1 0 0 0 0 0 0 0 0 1 1 1 0 1 0\n",
      " 0 0 0 0 1 0 1 1 0 0]\n",
      "750\n"
     ]
    }
   ],
   "source": [
    "print(y_test)\n",
    "print(y_test.shape[0])"
   ]
  },
  {
   "cell_type": "markdown",
   "id": "ba0191ff",
   "metadata": {},
   "source": [
    "b) Train LDA and QDA classifiers on the train subset established in part (a). Find the\n",
    "predictions of both classifiers for the test subset."
   ]
  },
  {
   "cell_type": "code",
   "execution_count": 33,
   "id": "289a7bbe",
   "metadata": {},
   "outputs": [
    {
     "data": {
      "text/html": [
       "<style>#sk-container-id-1 {color: black;}#sk-container-id-1 pre{padding: 0;}#sk-container-id-1 div.sk-toggleable {background-color: white;}#sk-container-id-1 label.sk-toggleable__label {cursor: pointer;display: block;width: 100%;margin-bottom: 0;padding: 0.3em;box-sizing: border-box;text-align: center;}#sk-container-id-1 label.sk-toggleable__label-arrow:before {content: \"▸\";float: left;margin-right: 0.25em;color: #696969;}#sk-container-id-1 label.sk-toggleable__label-arrow:hover:before {color: black;}#sk-container-id-1 div.sk-estimator:hover label.sk-toggleable__label-arrow:before {color: black;}#sk-container-id-1 div.sk-toggleable__content {max-height: 0;max-width: 0;overflow: hidden;text-align: left;background-color: #f0f8ff;}#sk-container-id-1 div.sk-toggleable__content pre {margin: 0.2em;color: black;border-radius: 0.25em;background-color: #f0f8ff;}#sk-container-id-1 input.sk-toggleable__control:checked~div.sk-toggleable__content {max-height: 200px;max-width: 100%;overflow: auto;}#sk-container-id-1 input.sk-toggleable__control:checked~label.sk-toggleable__label-arrow:before {content: \"▾\";}#sk-container-id-1 div.sk-estimator input.sk-toggleable__control:checked~label.sk-toggleable__label {background-color: #d4ebff;}#sk-container-id-1 div.sk-label input.sk-toggleable__control:checked~label.sk-toggleable__label {background-color: #d4ebff;}#sk-container-id-1 input.sk-hidden--visually {border: 0;clip: rect(1px 1px 1px 1px);clip: rect(1px, 1px, 1px, 1px);height: 1px;margin: -1px;overflow: hidden;padding: 0;position: absolute;width: 1px;}#sk-container-id-1 div.sk-estimator {font-family: monospace;background-color: #f0f8ff;border: 1px dotted black;border-radius: 0.25em;box-sizing: border-box;margin-bottom: 0.5em;}#sk-container-id-1 div.sk-estimator:hover {background-color: #d4ebff;}#sk-container-id-1 div.sk-parallel-item::after {content: \"\";width: 100%;border-bottom: 1px solid gray;flex-grow: 1;}#sk-container-id-1 div.sk-label:hover label.sk-toggleable__label {background-color: #d4ebff;}#sk-container-id-1 div.sk-serial::before {content: \"\";position: absolute;border-left: 1px solid gray;box-sizing: border-box;top: 0;bottom: 0;left: 50%;z-index: 0;}#sk-container-id-1 div.sk-serial {display: flex;flex-direction: column;align-items: center;background-color: white;padding-right: 0.2em;padding-left: 0.2em;position: relative;}#sk-container-id-1 div.sk-item {position: relative;z-index: 1;}#sk-container-id-1 div.sk-parallel {display: flex;align-items: stretch;justify-content: center;background-color: white;position: relative;}#sk-container-id-1 div.sk-item::before, #sk-container-id-1 div.sk-parallel-item::before {content: \"\";position: absolute;border-left: 1px solid gray;box-sizing: border-box;top: 0;bottom: 0;left: 50%;z-index: -1;}#sk-container-id-1 div.sk-parallel-item {display: flex;flex-direction: column;z-index: 1;position: relative;background-color: white;}#sk-container-id-1 div.sk-parallel-item:first-child::after {align-self: flex-end;width: 50%;}#sk-container-id-1 div.sk-parallel-item:last-child::after {align-self: flex-start;width: 50%;}#sk-container-id-1 div.sk-parallel-item:only-child::after {width: 0;}#sk-container-id-1 div.sk-dashed-wrapped {border: 1px dashed gray;margin: 0 0.4em 0.5em 0.4em;box-sizing: border-box;padding-bottom: 0.4em;background-color: white;}#sk-container-id-1 div.sk-label label {font-family: monospace;font-weight: bold;display: inline-block;line-height: 1.2em;}#sk-container-id-1 div.sk-label-container {text-align: center;}#sk-container-id-1 div.sk-container {/* jupyter's `normalize.less` sets `[hidden] { display: none; }` but bootstrap.min.css set `[hidden] { display: none !important; }` so we also need the `!important` here to be able to override the default hidden behavior on the sphinx rendered scikit-learn.org. See: https://github.com/scikit-learn/scikit-learn/issues/21755 */display: inline-block !important;position: relative;}#sk-container-id-1 div.sk-text-repr-fallback {display: none;}</style><div id=\"sk-container-id-1\" class=\"sk-top-container\"><div class=\"sk-text-repr-fallback\"><pre>LinearDiscriminantAnalysis()</pre><b>In a Jupyter environment, please rerun this cell to show the HTML representation or trust the notebook. <br />On GitHub, the HTML representation is unable to render, please try loading this page with nbviewer.org.</b></div><div class=\"sk-container\" hidden><div class=\"sk-item\"><div class=\"sk-estimator sk-toggleable\"><input class=\"sk-toggleable__control sk-hidden--visually\" id=\"sk-estimator-id-1\" type=\"checkbox\" checked><label for=\"sk-estimator-id-1\" class=\"sk-toggleable__label sk-toggleable__label-arrow\">LinearDiscriminantAnalysis</label><div class=\"sk-toggleable__content\"><pre>LinearDiscriminantAnalysis()</pre></div></div></div></div></div>"
      ],
      "text/plain": [
       "LinearDiscriminantAnalysis()"
      ]
     },
     "execution_count": 33,
     "metadata": {},
     "output_type": "execute_result"
    }
   ],
   "source": [
    "# Loading 'LinearDiscriminantAnalysis' from 'discriminant_analysis' module\n",
    "\n",
    "from sklearn.discriminant_analysis import LinearDiscriminantAnalysis\n",
    "\n",
    "lda_clf = LinearDiscriminantAnalysis() # Instantiating the lda classifier\n",
    "lda_clf.fit(X_train, y_train) # Fitting the train data"
   ]
  },
  {
   "cell_type": "code",
   "execution_count": 34,
   "id": "258beb2c",
   "metadata": {},
   "outputs": [],
   "source": [
    "# Finding the predictions of the lda classifier for train and test subsets\n",
    "\n",
    "lda_train_y_pred = lda_clf.predict(X_train)\n",
    "lda_test_y_pred = lda_clf.predict(X_test)\n",
    "\n",
    "# Reference from Lecture Notes - 6"
   ]
  },
  {
   "cell_type": "code",
   "execution_count": 35,
   "id": "583121be",
   "metadata": {},
   "outputs": [
    {
     "name": "stdout",
     "output_type": "stream",
     "text": [
      "[0 0 0 ... 0 1 0]\n",
      "2250\n"
     ]
    }
   ],
   "source": [
    "print(lda_train_y_pred)\n",
    "print(lda_train_y_pred.shape[0])"
   ]
  },
  {
   "cell_type": "code",
   "execution_count": 36,
   "id": "8e5913c3",
   "metadata": {},
   "outputs": [
    {
     "name": "stdout",
     "output_type": "stream",
     "text": [
      "[0 1 0 1 0 0 0 1 0 0 1 0 0 0 0 0 0 1 0 0 1 0 0 0 1 1 0 0 0 0 1 0 0 0 0 0 1\n",
      " 1 0 0 1 1 0 0 0 0 0 1 0 1 0 1 0 0 0 0 1 0 0 0 0 1 1 0 0 0 1 0 1 0 0 0 0 0\n",
      " 1 0 1 0 1 0 0 1 1 1 0 1 0 0 0 0 0 1 1 0 0 0 0 1 0 0 0 0 0 0 0 0 1 1 0 0 0\n",
      " 0 0 0 0 0 0 0 0 1 0 1 1 0 0 1 0 0 0 0 0 0 1 1 0 0 0 0 1 0 0 0 0 1 0 0 0 0\n",
      " 1 1 1 1 0 0 1 0 0 0 1 1 0 0 0 1 0 1 0 0 1 0 1 0 0 0 0 0 0 0 0 0 0 1 0 0 0\n",
      " 1 1 0 0 1 0 0 0 0 1 1 0 0 1 1 1 0 1 1 0 1 0 0 0 0 0 0 0 0 0 0 1 0 0 1 0 0\n",
      " 0 1 1 0 0 0 0 0 0 0 0 0 1 0 0 0 0 0 0 0 0 0 0 1 1 0 0 1 1 0 1 0 0 0 0 0 0\n",
      " 0 0 0 1 1 0 0 0 0 0 1 0 0 0 0 0 1 0 0 0 0 0 0 0 0 0 0 0 0 0 1 0 1 1 1 0 0\n",
      " 0 1 0 0 1 0 0 1 0 0 1 1 0 1 0 0 0 0 0 1 0 0 0 1 0 0 0 1 1 1 0 1 0 0 0 0 1\n",
      " 1 1 0 0 1 0 0 0 1 0 1 0 1 0 0 0 0 1 0 0 1 0 0 0 0 0 1 0 0 0 0 0 0 0 0 0 0\n",
      " 0 0 0 0 0 0 1 1 0 1 0 1 0 1 0 0 1 0 0 0 0 0 1 0 0 1 0 0 1 0 0 1 1 1 0 1 0\n",
      " 1 0 1 0 1 0 1 1 1 0 0 0 0 1 0 0 0 0 0 0 0 0 0 1 0 1 0 0 0 1 1 0 1 0 0 0 0\n",
      " 0 0 1 0 0 0 0 0 0 0 1 1 0 1 0 0 0 0 1 0 0 1 0 1 0 0 0 0 1 1 0 1 0 1 0 0 1\n",
      " 0 0 0 0 1 1 1 0 1 0 1 0 1 0 0 0 0 0 0 0 0 0 0 1 1 0 0 0 0 0 0 0 0 0 0 1 0\n",
      " 0 0 0 0 0 0 0 0 0 1 0 0 1 0 1 0 0 1 0 0 0 0 0 0 1 0 0 0 0 1 0 0 0 0 0 1 0\n",
      " 1 0 0 0 0 0 0 0 0 0 1 0 1 0 1 0 0 0 0 0 0 0 1 0 0 0 1 0 0 1 0 0 0 0 0 0 0\n",
      " 1 0 0 0 0 0 0 0 0 0 0 0 0 0 1 0 0 0 0 0 0 0 1 0 1 0 0 0 0 0 0 0 1 1 0 0 1\n",
      " 1 1 0 0 0 0 0 1 0 0 0 0 0 1 0 0 0 0 0 0 1 1 1 0 0 0 0 1 0 0 1 0 0 0 0 1 0\n",
      " 0 1 1 0 0 0 0 0 1 1 0 0 1 0 0 0 1 0 1 1 0 0 0 0 0 0 1 0 0 0 1 0 1 0 0 0 0\n",
      " 0 0 0 1 0 1 0 0 1 0 1 1 1 0 1 1 0 0 0 0 1 1 0 1 0 0 1 0 0 0 0 0 1 1 0 0 1\n",
      " 0 0 0 0 0 0 0 0 0 0]\n",
      "750\n"
     ]
    }
   ],
   "source": [
    "print(lda_test_y_pred)\n",
    "print(lda_test_y_pred.shape[0])"
   ]
  },
  {
   "cell_type": "code",
   "execution_count": 37,
   "id": "aeb61898",
   "metadata": {},
   "outputs": [
    {
     "name": "stdout",
     "output_type": "stream",
     "text": [
      "LDA Train Accuracy Score :  0.5293333333333333\n",
      "LDA Test Accuracy Score:  0.552\n"
     ]
    }
   ],
   "source": [
    "# Calculating trainm and test accuracy score\n",
    "\n",
    "train_s= metrics.accuracy_score(y_train, lda_train_y_pred)\n",
    "test_s= metrics.accuracy_score(y_test, lda_test_y_pred)\n",
    "print('LDA Train Accuracy Score : ', train_s)\n",
    "print('LDA Test Accuracy Score: ', test_s)"
   ]
  },
  {
   "cell_type": "markdown",
   "id": "524a04b8",
   "metadata": {},
   "source": [
    "(c) Calculate the relevant accuracy metrics by presenting the classification report for both\n",
    "train and test subsets. Assess the two classifiers and contrast their performances."
   ]
  },
  {
   "cell_type": "code",
   "execution_count": 38,
   "id": "b915703b",
   "metadata": {},
   "outputs": [
    {
     "name": "stdout",
     "output_type": "stream",
     "text": [
      "LDA Train Classification Report: \n",
      "\n",
      "               precision    recall  f1-score   support\n",
      "\n",
      "           0       0.53      0.76      0.63      1166\n",
      "           1       0.52      0.28      0.36      1084\n",
      "\n",
      "    accuracy                           0.53      2250\n",
      "   macro avg       0.53      0.52      0.50      2250\n",
      "weighted avg       0.53      0.53      0.50      2250\n",
      " \n",
      "\n",
      "\n",
      "LDA Test Classification Report: \n",
      "\n",
      "               precision    recall  f1-score   support\n",
      "\n",
      "           0       0.56      0.76      0.64       399\n",
      "           1       0.54      0.32      0.40       351\n",
      "\n",
      "    accuracy                           0.55       750\n",
      "   macro avg       0.55      0.54      0.52       750\n",
      "weighted avg       0.55      0.55      0.53       750\n",
      "\n"
     ]
    }
   ],
   "source": [
    " train_score = metrics.accuracy_score(y_train, lda_train_y_pred) # Compute train accuracy\n",
    "test_score = metrics.accuracy_score(y_test, lda_test_y_pred) # Compute test accuracy\n",
    "train_report = classification_report(y_train, lda_train_y_pred) # Generate classification report for train data\n",
    "test_report = classification_report(y_test, lda_test_y_pred) # Generate classification report for test data\n",
    "print('LDA Train Classification Report: \\n\\n', train_report,'\\n\\n')\n",
    "print('LDA Test Classification Report: \\n\\n', test_report)\n",
    "\n",
    "\n",
    "# Reference from Lecture Notes - 6"
   ]
  },
  {
   "cell_type": "markdown",
   "id": "a4e3d7a6",
   "metadata": {},
   "source": [
    "LDA Classifier"
   ]
  },
  {
   "cell_type": "code",
   "execution_count": 39,
   "id": "ad60dffd",
   "metadata": {},
   "outputs": [
    {
     "data": {
      "image/png": "[encoded data removed]",
      "text/plain": [
       "<Figure size 400x400 with 2 Axes>"
      ]
     },
     "metadata": {},
     "output_type": "display_data"
    }
   ],
   "source": [
    " # Computing lda confusion matrix\n",
    "lda_c_matrix = confusion_matrix(y_test, lda_test_y_pred)\n",
    "plt.figure(figsize=(4,4))\n",
    "sns.heatmap(lda_c_matrix, annot=True, fmt=\".0f\", linewidths=.5, square = True,cmap = 'Pastel1');\n",
    "plt.ylabel('Actual label');\n",
    "plt.xlabel('Predicted label');\n",
    "all_sample_title = 'Accuracy Score: {0}'.format(round(test_score, 4))\n",
    "plt.title(all_sample_title, size = 15);\n",
    "plt.show()\n",
    "\n",
    "# Reference from Lecture Notes - 6"
   ]
  },
  {
   "cell_type": "code",
   "execution_count": 40,
   "id": "c68dfe25",
   "metadata": {},
   "outputs": [
    {
     "data": {
      "text/plain": [
       "array([[0.52981922, 0.47018078],\n",
       "       [0.48866608, 0.51133392],\n",
       "       [0.51807464, 0.48192536],\n",
       "       [0.47587698, 0.52412302],\n",
       "       [0.5150249 , 0.4849751 ],\n",
       "       [0.54083765, 0.45916235],\n",
       "       [0.51343176, 0.48656824],\n",
       "       [0.46286294, 0.53713706],\n",
       "       [0.57263955, 0.42736045],\n",
       "       [0.55987621, 0.44012379]])"
      ]
     },
     "execution_count": 40,
     "metadata": {},
     "output_type": "execute_result"
    }
   ],
   "source": [
    " # Finding probabilities of test instances predicted by lda classifier\n",
    "    \n",
    "lda_clf.predict_proba(X_test[:10])"
   ]
  },
  {
   "cell_type": "code",
   "execution_count": 41,
   "id": "392dace9",
   "metadata": {},
   "outputs": [
    {
     "data": {
      "image/png": "[encoded data removed]",
      "text/plain": [
       "<Figure size 700x500 with 1 Axes>"
      ]
     },
     "metadata": {},
     "output_type": "display_data"
    }
   ],
   "source": [
    " # Plotting the ROC curve for the test subset\n",
    "from sklearn.metrics import roc_curve, auc # Importing 'roc_curve' and 'auc' from sklearn\n",
    "fpr, tpr, thresholds = roc_curve(lda_test_y_pred, y_test) # Computing ROC for the test subset\n",
    "auc(fpr, tpr) # Computing AUC for the test subset\n",
    "plt.figure(figsize=(7, 5))\n",
    "plt.plot(fpr, tpr, color='red', label='LDA (AUC: %.2f)'\n",
    "% auc(fpr, tpr))\n",
    "plt.plot([0, 1], [0, 1], color='blue', linestyle='--')\n",
    "plt.xlim([0.0, 1.0])\n",
    "plt.ylim([0.0, 1.01])\n",
    "plt.title('ROC Curve for the Test Subset')\n",
    "plt.xlabel('False Positive Rate (FPR)')\n",
    "plt.ylabel('True Positive Rate (TPR)')\n",
    "plt.legend()\n",
    "plt.show()\n",
    "\n",
    "# Reference from Lecture Notes - 6"
   ]
  },
  {
   "cell_type": "markdown",
   "id": "37364e9a",
   "metadata": {},
   "source": [
    "QDA Classifier"
   ]
  },
  {
   "cell_type": "code",
   "execution_count": 42,
   "id": "89f3042a",
   "metadata": {},
   "outputs": [
    {
     "data": {
      "text/html": [
       "<style>#sk-container-id-2 {color: black;}#sk-container-id-2 pre{padding: 0;}#sk-container-id-2 div.sk-toggleable {background-color: white;}#sk-container-id-2 label.sk-toggleable__label {cursor: pointer;display: block;width: 100%;margin-bottom: 0;padding: 0.3em;box-sizing: border-box;text-align: center;}#sk-container-id-2 label.sk-toggleable__label-arrow:before {content: \"▸\";float: left;margin-right: 0.25em;color: #696969;}#sk-container-id-2 label.sk-toggleable__label-arrow:hover:before {color: black;}#sk-container-id-2 div.sk-estimator:hover label.sk-toggleable__label-arrow:before {color: black;}#sk-container-id-2 div.sk-toggleable__content {max-height: 0;max-width: 0;overflow: hidden;text-align: left;background-color: #f0f8ff;}#sk-container-id-2 div.sk-toggleable__content pre {margin: 0.2em;color: black;border-radius: 0.25em;background-color: #f0f8ff;}#sk-container-id-2 input.sk-toggleable__control:checked~div.sk-toggleable__content {max-height: 200px;max-width: 100%;overflow: auto;}#sk-container-id-2 input.sk-toggleable__control:checked~label.sk-toggleable__label-arrow:before {content: \"▾\";}#sk-container-id-2 div.sk-estimator input.sk-toggleable__control:checked~label.sk-toggleable__label {background-color: #d4ebff;}#sk-container-id-2 div.sk-label input.sk-toggleable__control:checked~label.sk-toggleable__label {background-color: #d4ebff;}#sk-container-id-2 input.sk-hidden--visually {border: 0;clip: rect(1px 1px 1px 1px);clip: rect(1px, 1px, 1px, 1px);height: 1px;margin: -1px;overflow: hidden;padding: 0;position: absolute;width: 1px;}#sk-container-id-2 div.sk-estimator {font-family: monospace;background-color: #f0f8ff;border: 1px dotted black;border-radius: 0.25em;box-sizing: border-box;margin-bottom: 0.5em;}#sk-container-id-2 div.sk-estimator:hover {background-color: #d4ebff;}#sk-container-id-2 div.sk-parallel-item::after {content: \"\";width: 100%;border-bottom: 1px solid gray;flex-grow: 1;}#sk-container-id-2 div.sk-label:hover label.sk-toggleable__label {background-color: #d4ebff;}#sk-container-id-2 div.sk-serial::before {content: \"\";position: absolute;border-left: 1px solid gray;box-sizing: border-box;top: 0;bottom: 0;left: 50%;z-index: 0;}#sk-container-id-2 div.sk-serial {display: flex;flex-direction: column;align-items: center;background-color: white;padding-right: 0.2em;padding-left: 0.2em;position: relative;}#sk-container-id-2 div.sk-item {position: relative;z-index: 1;}#sk-container-id-2 div.sk-parallel {display: flex;align-items: stretch;justify-content: center;background-color: white;position: relative;}#sk-container-id-2 div.sk-item::before, #sk-container-id-2 div.sk-parallel-item::before {content: \"\";position: absolute;border-left: 1px solid gray;box-sizing: border-box;top: 0;bottom: 0;left: 50%;z-index: -1;}#sk-container-id-2 div.sk-parallel-item {display: flex;flex-direction: column;z-index: 1;position: relative;background-color: white;}#sk-container-id-2 div.sk-parallel-item:first-child::after {align-self: flex-end;width: 50%;}#sk-container-id-2 div.sk-parallel-item:last-child::after {align-self: flex-start;width: 50%;}#sk-container-id-2 div.sk-parallel-item:only-child::after {width: 0;}#sk-container-id-2 div.sk-dashed-wrapped {border: 1px dashed gray;margin: 0 0.4em 0.5em 0.4em;box-sizing: border-box;padding-bottom: 0.4em;background-color: white;}#sk-container-id-2 div.sk-label label {font-family: monospace;font-weight: bold;display: inline-block;line-height: 1.2em;}#sk-container-id-2 div.sk-label-container {text-align: center;}#sk-container-id-2 div.sk-container {/* jupyter's `normalize.less` sets `[hidden] { display: none; }` but bootstrap.min.css set `[hidden] { display: none !important; }` so we also need the `!important` here to be able to override the default hidden behavior on the sphinx rendered scikit-learn.org. See: https://github.com/scikit-learn/scikit-learn/issues/21755 */display: inline-block !important;position: relative;}#sk-container-id-2 div.sk-text-repr-fallback {display: none;}</style><div id=\"sk-container-id-2\" class=\"sk-top-container\"><div class=\"sk-text-repr-fallback\"><pre>QuadraticDiscriminantAnalysis()</pre><b>In a Jupyter environment, please rerun this cell to show the HTML representation or trust the notebook. <br />On GitHub, the HTML representation is unable to render, please try loading this page with nbviewer.org.</b></div><div class=\"sk-container\" hidden><div class=\"sk-item\"><div class=\"sk-estimator sk-toggleable\"><input class=\"sk-toggleable__control sk-hidden--visually\" id=\"sk-estimator-id-2\" type=\"checkbox\" checked><label for=\"sk-estimator-id-2\" class=\"sk-toggleable__label sk-toggleable__label-arrow\">QuadraticDiscriminantAnalysis</label><div class=\"sk-toggleable__content\"><pre>QuadraticDiscriminantAnalysis()</pre></div></div></div></div></div>"
      ],
      "text/plain": [
       "QuadraticDiscriminantAnalysis()"
      ]
     },
     "execution_count": 42,
     "metadata": {},
     "output_type": "execute_result"
    }
   ],
   "source": [
    "# Loading 'QuadraticDiscriminantAnalysis' from 'discriminant_analysis' module\n",
    "\n",
    "from sklearn.discriminant_analysis import QuadraticDiscriminantAnalysis\n",
    "\n",
    "qda_clf = QuadraticDiscriminantAnalysis() # Instantiating the QDA classifier\n",
    "qda_clf.fit(X_train, y_train) # Fitting the training data\n",
    "\n",
    "# Reference from Lecture Notes - 6"
   ]
  },
  {
   "cell_type": "code",
   "execution_count": 43,
   "id": "d4263f13",
   "metadata": {},
   "outputs": [],
   "source": [
    "# Finding predictions of qda classifier for the train and test subsets\n",
    "\n",
    "qda_train_y_pred = qda_clf.predict(X_train)\n",
    "qda_test_y_pred = qda_clf.predict(X_test)"
   ]
  },
  {
   "cell_type": "code",
   "execution_count": 44,
   "id": "13ba2e99",
   "metadata": {},
   "outputs": [
    {
     "name": "stdout",
     "output_type": "stream",
     "text": [
      "[0 1 0 ... 1 0 1]\n",
      "2250\n"
     ]
    }
   ],
   "source": [
    "print(qda_train_y_pred)\n",
    "print(qda_train_y_pred.shape[0])"
   ]
  },
  {
   "cell_type": "code",
   "execution_count": 45,
   "id": "9025ad85",
   "metadata": {},
   "outputs": [
    {
     "name": "stdout",
     "output_type": "stream",
     "text": [
      "[1 1 0 1 0 1 0 1 0 1 0 0 0 0 0 0 1 1 1 1 1 0 0 0 0 0 0 0 0 1 1 0 0 1 0 0 1\n",
      " 0 0 0 1 1 0 0 0 1 0 1 0 1 1 0 0 0 0 0 1 1 1 1 1 0 0 1 0 1 1 0 0 1 0 1 0 0\n",
      " 0 1 1 0 1 1 1 0 1 0 0 0 1 1 1 0 0 1 0 1 0 1 1 0 0 1 0 0 0 0 1 0 1 1 0 0 1\n",
      " 0 0 0 0 0 0 0 0 1 0 0 1 1 0 1 1 0 1 1 0 0 0 1 0 0 0 0 0 0 0 1 0 0 1 0 0 0\n",
      " 1 1 0 0 1 1 1 1 0 0 0 0 1 1 1 1 1 1 1 0 0 0 1 0 1 1 1 1 0 0 1 0 0 0 1 0 1\n",
      " 0 0 1 1 1 1 0 1 0 1 1 1 0 1 0 0 0 1 1 0 1 1 0 0 0 0 0 1 0 1 0 0 0 0 0 0 0\n",
      " 0 1 1 0 1 0 0 1 1 1 0 1 1 0 0 0 0 0 0 0 0 0 1 0 1 1 1 0 1 0 1 0 1 0 1 1 0\n",
      " 1 0 1 1 0 1 0 0 1 1 0 1 1 1 0 1 1 0 0 1 0 1 1 0 0 0 1 0 1 1 1 0 1 0 0 0 0\n",
      " 1 0 0 0 0 0 0 1 0 0 0 1 1 1 0 0 0 0 0 1 0 0 0 1 0 0 1 1 1 1 1 0 1 0 1 1 1\n",
      " 1 0 1 0 1 0 1 0 1 1 1 1 0 1 0 1 0 0 0 0 0 0 1 1 0 1 0 0 0 1 1 1 1 1 0 0 0\n",
      " 0 1 0 1 1 0 1 1 1 1 1 1 1 1 0 0 1 0 0 1 0 1 1 0 0 1 1 0 1 1 1 0 1 1 1 0 1\n",
      " 0 0 1 1 1 1 0 1 1 1 1 1 0 0 0 1 0 0 0 1 1 1 1 1 1 0 0 0 0 0 0 0 0 0 0 1 0\n",
      " 0 0 0 0 1 1 1 0 0 0 0 1 0 0 0 1 0 0 1 1 0 1 0 0 0 0 0 1 1 0 1 0 0 1 1 1 0\n",
      " 0 0 1 0 0 0 0 0 0 1 1 1 1 1 0 1 0 0 1 0 0 1 0 1 1 1 1 0 0 0 1 0 0 0 1 1 0\n",
      " 0 0 1 0 0 1 1 1 0 1 0 0 0 1 0 0 0 0 1 0 0 0 0 0 0 1 0 0 0 1 1 0 1 0 0 0 0\n",
      " 0 0 0 0 0 1 0 1 0 1 0 0 0 0 1 0 0 0 0 0 1 0 1 0 1 0 0 0 0 1 0 1 1 0 1 1 0\n",
      " 0 0 1 0 1 0 0 1 0 0 1 0 0 0 0 1 1 0 0 1 0 0 1 0 1 0 0 0 0 1 1 0 1 1 0 0 1\n",
      " 1 1 0 1 0 0 0 0 0 1 1 0 0 0 1 1 0 0 0 0 0 1 1 0 0 0 0 1 1 0 1 1 0 1 1 1 0\n",
      " 0 1 1 0 0 0 1 1 0 0 1 0 1 1 0 1 1 1 0 1 0 1 0 0 1 1 0 0 0 0 1 0 1 0 0 0 1\n",
      " 1 0 0 0 1 1 1 1 0 1 1 0 0 0 0 1 0 1 0 0 1 1 1 0 0 0 1 0 0 0 0 1 1 1 0 0 0\n",
      " 0 0 0 0 1 0 1 1 0 0]\n",
      "750\n"
     ]
    }
   ],
   "source": [
    "print(qda_test_y_pred)\n",
    "print(qda_test_y_pred.shape[0])"
   ]
  },
  {
   "cell_type": "code",
   "execution_count": 46,
   "id": "327011b4",
   "metadata": {},
   "outputs": [
    {
     "name": "stdout",
     "output_type": "stream",
     "text": [
      "QDA Train Accuracy Score :  0.9253333333333333\n",
      "QDA Test Accuracy Score :  0.9493333333333334\n"
     ]
    }
   ],
   "source": [
    "# Calculating the accuracy score of the Classifier\n",
    "\n",
    "train_s= metrics.accuracy_score(y_train, qda_train_y_pred)\n",
    "test_s= metrics.accuracy_score(y_test, qda_test_y_pred)\n",
    "print('QDA Train Accuracy Score : ', train_s)\n",
    "print('QDA Test Accuracy Score : ', test_s)"
   ]
  },
  {
   "cell_type": "code",
   "execution_count": 47,
   "id": "a14ecd8e",
   "metadata": {},
   "outputs": [
    {
     "name": "stdout",
     "output_type": "stream",
     "text": [
      "QDA Train Classification Report: \n",
      "\n",
      "               precision    recall  f1-score   support\n",
      "\n",
      "           0       0.89      0.97      0.93      1166\n",
      "           1       0.97      0.88      0.92      1084\n",
      "\n",
      "    accuracy                           0.93      2250\n",
      "   macro avg       0.93      0.92      0.92      2250\n",
      "weighted avg       0.93      0.93      0.93      2250\n",
      " \n",
      "\n",
      "\n",
      "QDA Test Classification Report: \n",
      "\n",
      "               precision    recall  f1-score   support\n",
      "\n",
      "           0       0.92      0.98      0.95       399\n",
      "           1       0.98      0.91      0.94       351\n",
      "\n",
      "    accuracy                           0.95       750\n",
      "   macro avg       0.95      0.95      0.95       750\n",
      "weighted avg       0.95      0.95      0.95       750\n",
      "\n"
     ]
    }
   ],
   "source": [
    "train_score = metrics.accuracy_score(y_train, qda_train_y_pred) # Compute train accuracy\n",
    "test_score = metrics.accuracy_score(y_test, qda_test_y_pred) # Compute test accuracy\n",
    "train_report = classification_report(y_train, qda_train_y_pred) # Generate classification report for train data\n",
    "test_report = classification_report(y_test, qda_test_y_pred) # Generate classification report for test data\n",
    "print('QDA Train Classification Report: \\n\\n', train_report,'\\n\\n')\n",
    "print('QDA Test Classification Report: \\n\\n', test_report)\n",
    "\n",
    "# Reference from Lecture Notes - 6"
   ]
  },
  {
   "cell_type": "code",
   "execution_count": 48,
   "id": "bc697275",
   "metadata": {},
   "outputs": [
    {
     "data": {
      "image/png": "[encoded data removed]",
      "text/plain": [
       "<Figure size 400x400 with 2 Axes>"
      ]
     },
     "metadata": {},
     "output_type": "display_data"
    }
   ],
   "source": [
    "# Computing qda confusion matrix\n",
    "qda_c_matrix = confusion_matrix(y_test, qda_test_y_pred)\n",
    "plt.figure(figsize=(4,4))\n",
    "sns.heatmap(qda_c_matrix, annot=True, fmt=\".0f\", linewidths=.5, square = True,cmap = 'Pastel1');\n",
    "plt.ylabel('Actual label');\n",
    "plt.xlabel('Predicted label');\n",
    "all_sample_title = 'Accuracy Score: {0}'.format(round(test_score, 4))\n",
    "plt.title(all_sample_title, size = 15);\n",
    "plt.show()\n",
    "\n",
    "# Reference from Lecture Notes - 6"
   ]
  },
  {
   "cell_type": "code",
   "execution_count": 49,
   "id": "898fd9aa",
   "metadata": {},
   "outputs": [
    {
     "data": {
      "text/plain": [
       "array([[0.29980531, 0.70019469],\n",
       "       [0.13411362, 0.86588638],\n",
       "       [0.53108545, 0.46891455],\n",
       "       [0.16922611, 0.83077389],\n",
       "       [0.53370808, 0.46629192],\n",
       "       [0.45080635, 0.54919365],\n",
       "       [0.54914806, 0.45085194],\n",
       "       [0.23032346, 0.76967654],\n",
       "       [0.5484808 , 0.4515192 ],\n",
       "       [0.33995878, 0.66004122]])"
      ]
     },
     "execution_count": 49,
     "metadata": {},
     "output_type": "execute_result"
    }
   ],
   "source": [
    " # Finding probabilities of test instances predicted by qda classifier\n",
    "    \n",
    "qda_clf.predict_proba(X_test[:10])"
   ]
  },
  {
   "cell_type": "code",
   "execution_count": 50,
   "id": "2ecaa410",
   "metadata": {},
   "outputs": [
    {
     "data": {
      "image/png": "[encoded data removed]",
      "text/plain": [
       "<Figure size 700x500 with 1 Axes>"
      ]
     },
     "metadata": {},
     "output_type": "display_data"
    }
   ],
   "source": [
    "# Plotting the ROC curve for the test subset\n",
    "\n",
    "from sklearn.metrics import roc_curve, auc # Importing 'roc_curve' and 'auc' from sklearn\n",
    "\n",
    "fpr, tpr, thresholds = roc_curve(qda_test_y_pred, y_test) # Computing ROC for the test subset\n",
    "auc(fpr, tpr) # Computing AUC for the test subset\n",
    "plt.figure(figsize=(7, 5))\n",
    "plt.plot(fpr, tpr, color='red', label='QDA (AUC: %.2f)'\n",
    "% auc(fpr, tpr))\n",
    "plt.plot([0, 1], [0, 1], color='blue', linestyle='--')\n",
    "plt.xlim([0.0, 1.0])\n",
    "plt.ylim([0.0, 1.01])\n",
    "plt.title('ROC Curve for the Test Subset')\n",
    "plt.xlabel('False Positive Rate (FPR)')\n",
    "plt.ylabel('True Positive Rate (TPR)')\n",
    "plt.legend()\n",
    "plt.show()\n",
    "\n",
    "# Reference from Lecture Notes - 6"
   ]
  },
  {
   "cell_type": "markdown",
   "id": "2c0024ec",
   "metadata": {},
   "source": [
    "QDA performed better than LDA, Accuracy of QDA is 95% and LDA is 55%"
   ]
  },
  {
   "cell_type": "markdown",
   "id": "1703e2f3",
   "metadata": {},
   "source": [
    "(d) Use plot decision regions from the plotting module of the mlxtend library to plot the\n",
    "decision regions for the two classifiers in the two dimensional feature space formed by\n",
    "x1 and x2 (revisit the “Binary Example” of lecture 4 to see how decision regions are\n",
    "plotted)."
   ]
  },
  {
   "cell_type": "code",
   "execution_count": 51,
   "id": "b431c71a",
   "metadata": {},
   "outputs": [
    {
     "name": "stdout",
     "output_type": "stream",
     "text": [
      "Requirement already satisfied: mlxtend in c:\\users\\shubh\\anaconda3\\lib\\site-packages (0.23.0)\n",
      "Requirement already satisfied: scipy>=1.2.1 in c:\\users\\shubh\\anaconda3\\lib\\site-packages (from mlxtend) (1.10.1)\n",
      "Requirement already satisfied: numpy>=1.16.2 in c:\\users\\shubh\\anaconda3\\lib\\site-packages (from mlxtend) (1.24.3)\n",
      "Requirement already satisfied: pandas>=0.24.2 in c:\\users\\shubh\\anaconda3\\lib\\site-packages (from mlxtend) (1.5.3)\n",
      "Requirement already satisfied: scikit-learn>=1.0.2 in c:\\users\\shubh\\anaconda3\\lib\\site-packages (from mlxtend) (1.3.0)\n",
      "Requirement already satisfied: matplotlib>=3.0.0 in c:\\users\\shubh\\anaconda3\\lib\\site-packages (from mlxtend) (3.7.1)\n",
      "Requirement already satisfied: joblib>=0.13.2 in c:\\users\\shubh\\anaconda3\\lib\\site-packages (from mlxtend) (1.2.0)\n",
      "Requirement already satisfied: contourpy>=1.0.1 in c:\\users\\shubh\\anaconda3\\lib\\site-packages (from matplotlib>=3.0.0->mlxtend) (1.0.5)\n",
      "Requirement already satisfied: cycler>=0.10 in c:\\users\\shubh\\anaconda3\\lib\\site-packages (from matplotlib>=3.0.0->mlxtend) (0.11.0)\n",
      "Requirement already satisfied: fonttools>=4.22.0 in c:\\users\\shubh\\anaconda3\\lib\\site-packages (from matplotlib>=3.0.0->mlxtend) (4.25.0)\n",
      "Requirement already satisfied: kiwisolver>=1.0.1 in c:\\users\\shubh\\anaconda3\\lib\\site-packages (from matplotlib>=3.0.0->mlxtend) (1.4.4)\n",
      "Requirement already satisfied: packaging>=20.0 in c:\\users\\shubh\\anaconda3\\lib\\site-packages (from matplotlib>=3.0.0->mlxtend) (23.0)\n",
      "Requirement already satisfied: pillow>=6.2.0 in c:\\users\\shubh\\anaconda3\\lib\\site-packages (from matplotlib>=3.0.0->mlxtend) (9.4.0)\n",
      "Requirement already satisfied: pyparsing>=2.3.1 in c:\\users\\shubh\\anaconda3\\lib\\site-packages (from matplotlib>=3.0.0->mlxtend) (3.0.9)\n",
      "Requirement already satisfied: python-dateutil>=2.7 in c:\\users\\shubh\\anaconda3\\lib\\site-packages (from matplotlib>=3.0.0->mlxtend) (2.8.2)\n",
      "Requirement already satisfied: pytz>=2020.1 in c:\\users\\shubh\\anaconda3\\lib\\site-packages (from pandas>=0.24.2->mlxtend) (2022.7)\n",
      "Requirement already satisfied: threadpoolctl>=2.0.0 in c:\\users\\shubh\\anaconda3\\lib\\site-packages (from scikit-learn>=1.0.2->mlxtend) (2.2.0)\n",
      "Requirement already satisfied: six>=1.5 in c:\\users\\shubh\\anaconda3\\lib\\site-packages (from python-dateutil>=2.7->matplotlib>=3.0.0->mlxtend) (1.16.0)\n"
     ]
    }
   ],
   "source": [
    "!pip install mlxtend"
   ]
  },
  {
   "cell_type": "code",
   "execution_count": 52,
   "id": "0836a7ac",
   "metadata": {},
   "outputs": [],
   "source": [
    "import mlxtend"
   ]
  },
  {
   "cell_type": "code",
   "execution_count": 53,
   "id": "4d082805",
   "metadata": {},
   "outputs": [
    {
     "data": {
      "image/png": "[encoded data removed]",
      "text/plain": [
       "<Figure size 700x500 with 1 Axes>"
      ]
     },
     "metadata": {},
     "output_type": "display_data"
    }
   ],
   "source": [
    "# Plotting the decision regions\n",
    "\n",
    "from mlxtend.plotting import plot_decision_regions\n",
    "\n",
    "mlxtend.plotting.plot_decision_regions(X=X_test, y=y_test, clf=lda_clf) # Plotting the decision region\n",
    "plt.title('Regions for Feature Variables')\n",
    "plt.xlabel('Minimum Temperature (F)')\n",
    "plt.ylabel('Maximum Temperature (F)')\n",
    "plt.legend(loc='lower right')\n",
    "plt.tight_layout()\n",
    "plt.gcf().set_size_inches(7, 5)\n",
    "plt.show()"
   ]
  },
  {
   "cell_type": "code",
   "execution_count": 54,
   "id": "e906f2ca",
   "metadata": {},
   "outputs": [
    {
     "data": {
      "image/png": "[encoded data removed]",
      "text/plain": [
       "<Figure size 700x500 with 1 Axes>"
      ]
     },
     "metadata": {},
     "output_type": "display_data"
    }
   ],
   "source": [
    "# Plotting the decision regions\n",
    "\n",
    "from mlxtend.plotting import plot_decision_regions\n",
    "\n",
    "mlxtend.plotting.plot_decision_regions(X=X_test, y=y_test, clf=qda_clf) # Plotting the decision region\n",
    "plt.title('Regions for Feature Variables')\n",
    "plt.xlabel('Minimum Temperature (F)')\n",
    "plt.ylabel('Maximum Temperature (F)')\n",
    "plt.legend(loc='lower right')\n",
    "plt.tight_layout()\n",
    "plt.gcf().set_size_inches(7, 5)\n",
    "plt.show()"
   ]
  },
  {
   "cell_type": "markdown",
   "id": "f5131319",
   "metadata": {},
   "source": [
    "(e) Based on your findings in parts (c) and (d) and your literature search, explain in what\n",
    "situations it would be more appropriate to use QDA classifier. In what situations is the\n",
    "LDA classifier the more appropriate choice of classifier?"
   ]
  },
  {
   "cell_type": "markdown",
   "id": "0a373d0a",
   "metadata": {},
   "source": [
    "- LDA has a linear decision surface\n",
    "\n",
    "- ODA has no assumptions on the covariance matrices of the Gaussians, leading to quadratic decision surface.\n",
    "\n",
    "- LDA tends to be a better than QDA when you have a small training set.\n",
    "\n",
    "- for QDA the covariance matrix can be different for each class. \n",
    "\n",
    "- LDA makes a lot of assumptions, such as the 1) sample measurements are independent from each other 2) distributions are normal, and 3) co-variance of the measurements are identical across different classes.\n",
    "\n",
    "- QDA assumes that each class follow a Gaussian distribution, and is more flexible than LDA.\n",
    "\n",
    "Referece : \n",
    "https://scikit-learn.org/stable/modules/lda_qda.html#:~:text=From%20the%20above%20formula%2C%20it,leading%20to%20quadratic%20decision%20surfaces.\n",
    "\n",
    "http://www.sthda.com/english/articles/36-classification-methods-essentials/146-discriminant-analysis-essentials-in-r/#:~:text=QDA%20is%20little%20bit%20more,have%20a%20small%20training%20set.\n",
    "\n",
    "https://www.raybiotech.com/learning-center/linear-discriminant-analysis-model/#:~:text=LDA%20makes%20a%20lot%20of,are%20identical%20across%20different%20classes.\n",
    "\n",
    "https://towardsdatascience.com/quadratic-discriminant-analysis-ae55d8a8148a#:~:text=QDA%20assumes%20that%20each%20class,that%20belong%20to%20the%20class."
   ]
  },
  {
   "cell_type": "markdown",
   "id": "0bbd986d",
   "metadata": {},
   "source": [
    "Question - 4:\n",
    "Random Forests vs. Gradient Boosting: Contrast and compare random forest and\n",
    "gradient boosting classifiers from the point of view of"
   ]
  },
  {
   "cell_type": "markdown",
   "id": "1a2645cf",
   "metadata": {},
   "source": [
    "(a) internal structures of the algorithms"
   ]
  },
  {
   "cell_type": "markdown",
   "id": "52a6b5a1",
   "metadata": {},
   "source": [
    "- Random Forest: Builds multiple decision trees and merges them to get a more accurate and stable prediction. Each tree is built independently.\n",
    "- Gradient Boosting: Builds decision trees sequentially, where each tree tries to correct the errors of the previous one.\n",
    "\n",
    "Reference:\n",
    "https://www.tutorialspoint.com/random-forest-vs-gradient-boosting-algorithm"
   ]
  },
  {
   "cell_type": "markdown",
   "id": "e18e611e",
   "metadata": {},
   "source": [
    "(b) being prone to overfitting"
   ]
  },
  {
   "cell_type": "markdown",
   "id": "131441e2",
   "metadata": {},
   "source": [
    "- Random Forest: Less prone to overfitting due to its random feature selection and averaging of multiple trees.\n",
    "- Gradient Boosting: More prone to overfitting, especially if the number of trees is large or the learning rate is too high.\n",
    "\n",
    "Reference:\n",
    "https://www.tutorialspoint.com/random-forest-vs-gradient-boosting-algorithm"
   ]
  },
  {
   "cell_type": "markdown",
   "id": "20e4c569",
   "metadata": {},
   "source": [
    "(c) tuning hyperparameters"
   ]
  },
  {
   "cell_type": "markdown",
   "id": "353814e6",
   "metadata": {},
   "source": [
    "- Random Forest: Requires tuning for parameters such as the number of trees and the number of features considered for each split.\n",
    "- Gradient Boosting: Requires tuning for parameters such as the number of trees, learning rate, and tree-specific parameters like depth.\n",
    "\n",
    "Reference:\n",
    "https://towardsdatascience.com/understanding-ensemble-methods-random-forest-adaboost-and-gradient-boosting-in-10-minutes-ca5a1e305af2\n",
    "https://towardsdatascience.com/understanding-gradient-boosting-machines-9be756fe76ab"
   ]
  },
  {
   "cell_type": "markdown",
   "id": "f5ef25f2",
   "metadata": {},
   "source": [
    "(d) execution time to train"
   ]
  },
  {
   "cell_type": "markdown",
   "id": "69463f1b",
   "metadata": {},
   "source": [
    "- Random Forest: Generally faster to train as each tree can be built independently and in parallel.\n",
    "- Gradient Boosting: Slower to train due to the sequential nature of building trees, which relies on the results of previous trees.\n",
    "\n",
    "Reference:\n",
    "https://www.tutorialspoint.com/random-forest-vs-gradient-boosting-algorithm"
   ]
  },
  {
   "cell_type": "markdown",
   "id": "aae9bcf4",
   "metadata": {},
   "source": [
    "5. Classification Analysis: For this problem, use the csv file GateArrivalDelay-Classification.csv.\n",
    "In this problem, you will employ several different classification algorithms on the data published by FAA to predict whether a gate will be experiencing arrival delay at the ORD airport.\n",
    "The target variable in this problem is the Class which is a binary categorical variable (y = 0\n",
    "corresponds to no delay, whereas y = 1 corresponds to an average of 15 minutes or more delay\n",
    "for a gate at ORD airport). Potential features are\n",
    "• % On-TimeGateArrivals\n",
    "• AverageBlockDelay\n",
    "• AverageTaxiInDelay\n",
    "• AverageAirborneDelay\n",
    "• AverageAirportDepartureDelay\n",
    "• AverageGateDepartureDelay"
   ]
  },
  {
   "cell_type": "markdown",
   "id": "d2ff96b3",
   "metadata": {},
   "source": [
    "(a) Determine the nature of the classification problem. Is the current classification problem\n",
    "closer to a balanced classification or an unbalanced classification problem?"
   ]
  },
  {
   "cell_type": "code",
   "execution_count": 55,
   "id": "9fcc8cd7",
   "metadata": {},
   "outputs": [
    {
     "data": {
      "text/html": [
       "<div>\n",
       "<style scoped>\n",
       "    .dataframe tbody tr th:only-of-type {\n",
       "        vertical-align: middle;\n",
       "    }\n",
       "\n",
       "    .dataframe tbody tr th {\n",
       "        vertical-align: top;\n",
       "    }\n",
       "\n",
       "    .dataframe thead th {\n",
       "        text-align: right;\n",
       "    }\n",
       "</style>\n",
       "<table border=\"1\" class=\"dataframe\">\n",
       "  <thead>\n",
       "    <tr style=\"text-align: right;\">\n",
       "      <th></th>\n",
       "      <th>Date_Time</th>\n",
       "      <th>% On-TimeGateArrivals</th>\n",
       "      <th>AverageBlockDelay</th>\n",
       "      <th>AverageTaxiInDelay</th>\n",
       "      <th>AverageAirborneDelay</th>\n",
       "      <th>AverageAirportDepartureDelay</th>\n",
       "      <th>AverageGateDepartureDelay</th>\n",
       "      <th>Delay_Class</th>\n",
       "    </tr>\n",
       "  </thead>\n",
       "  <tbody>\n",
       "    <tr>\n",
       "      <th>0</th>\n",
       "      <td>2019-03-01 00:00:00</td>\n",
       "      <td>90.00</td>\n",
       "      <td>7.70</td>\n",
       "      <td>9.47</td>\n",
       "      <td>0.60</td>\n",
       "      <td>13.67</td>\n",
       "      <td>6.67</td>\n",
       "      <td>0</td>\n",
       "    </tr>\n",
       "    <tr>\n",
       "      <th>1</th>\n",
       "      <td>2019-03-02 00:00:00</td>\n",
       "      <td>72.73</td>\n",
       "      <td>0.91</td>\n",
       "      <td>2.55</td>\n",
       "      <td>0.00</td>\n",
       "      <td>13.17</td>\n",
       "      <td>5.33</td>\n",
       "      <td>0</td>\n",
       "    </tr>\n",
       "    <tr>\n",
       "      <th>2</th>\n",
       "      <td>2019-03-03 00:00:00</td>\n",
       "      <td>75.00</td>\n",
       "      <td>1.00</td>\n",
       "      <td>0.91</td>\n",
       "      <td>0.00</td>\n",
       "      <td>25.50</td>\n",
       "      <td>14.00</td>\n",
       "      <td>0</td>\n",
       "    </tr>\n",
       "    <tr>\n",
       "      <th>3</th>\n",
       "      <td>2019-03-04 00:00:00</td>\n",
       "      <td>83.33</td>\n",
       "      <td>1.50</td>\n",
       "      <td>1.13</td>\n",
       "      <td>3.00</td>\n",
       "      <td>26.75</td>\n",
       "      <td>17.50</td>\n",
       "      <td>0</td>\n",
       "    </tr>\n",
       "    <tr>\n",
       "      <th>4</th>\n",
       "      <td>2019-03-05 00:00:00</td>\n",
       "      <td>90.91</td>\n",
       "      <td>0.64</td>\n",
       "      <td>1.38</td>\n",
       "      <td>1.27</td>\n",
       "      <td>15.00</td>\n",
       "      <td>12.50</td>\n",
       "      <td>0</td>\n",
       "    </tr>\n",
       "    <tr>\n",
       "      <th>...</th>\n",
       "      <td>...</td>\n",
       "      <td>...</td>\n",
       "      <td>...</td>\n",
       "      <td>...</td>\n",
       "      <td>...</td>\n",
       "      <td>...</td>\n",
       "      <td>...</td>\n",
       "      <td>...</td>\n",
       "    </tr>\n",
       "    <tr>\n",
       "      <th>2202</th>\n",
       "      <td>2019-05-27 23:00:00</td>\n",
       "      <td>47.62</td>\n",
       "      <td>16.29</td>\n",
       "      <td>20.23</td>\n",
       "      <td>1.81</td>\n",
       "      <td>32.00</td>\n",
       "      <td>30.75</td>\n",
       "      <td>1</td>\n",
       "    </tr>\n",
       "    <tr>\n",
       "      <th>2203</th>\n",
       "      <td>2019-05-28 23:00:00</td>\n",
       "      <td>47.06</td>\n",
       "      <td>10.29</td>\n",
       "      <td>8.49</td>\n",
       "      <td>3.00</td>\n",
       "      <td>71.17</td>\n",
       "      <td>64.67</td>\n",
       "      <td>1</td>\n",
       "    </tr>\n",
       "    <tr>\n",
       "      <th>2204</th>\n",
       "      <td>2019-05-29 23:00:00</td>\n",
       "      <td>68.18</td>\n",
       "      <td>4.59</td>\n",
       "      <td>2.64</td>\n",
       "      <td>2.18</td>\n",
       "      <td>11.83</td>\n",
       "      <td>9.17</td>\n",
       "      <td>1</td>\n",
       "    </tr>\n",
       "    <tr>\n",
       "      <th>2205</th>\n",
       "      <td>2019-05-30 23:00:00</td>\n",
       "      <td>59.09</td>\n",
       "      <td>2.55</td>\n",
       "      <td>3.04</td>\n",
       "      <td>2.14</td>\n",
       "      <td>25.75</td>\n",
       "      <td>23.00</td>\n",
       "      <td>1</td>\n",
       "    </tr>\n",
       "    <tr>\n",
       "      <th>2206</th>\n",
       "      <td>2019-05-31 23:00:00</td>\n",
       "      <td>90.91</td>\n",
       "      <td>1.27</td>\n",
       "      <td>5.71</td>\n",
       "      <td>0.86</td>\n",
       "      <td>21.50</td>\n",
       "      <td>18.83</td>\n",
       "      <td>0</td>\n",
       "    </tr>\n",
       "  </tbody>\n",
       "</table>\n",
       "<p>2207 rows × 8 columns</p>\n",
       "</div>"
      ],
      "text/plain": [
       "                Date_Time  % On-TimeGateArrivals  AverageBlockDelay  \\\n",
       "0     2019-03-01 00:00:00                  90.00               7.70   \n",
       "1     2019-03-02 00:00:00                  72.73               0.91   \n",
       "2     2019-03-03 00:00:00                  75.00               1.00   \n",
       "3     2019-03-04 00:00:00                  83.33               1.50   \n",
       "4     2019-03-05 00:00:00                  90.91               0.64   \n",
       "...                   ...                    ...                ...   \n",
       "2202  2019-05-27 23:00:00                  47.62              16.29   \n",
       "2203  2019-05-28 23:00:00                  47.06              10.29   \n",
       "2204  2019-05-29 23:00:00                  68.18               4.59   \n",
       "2205  2019-05-30 23:00:00                  59.09               2.55   \n",
       "2206  2019-05-31 23:00:00                  90.91               1.27   \n",
       "\n",
       "      AverageTaxiInDelay  AverageAirborneDelay  AverageAirportDepartureDelay  \\\n",
       "0                   9.47                  0.60                         13.67   \n",
       "1                   2.55                  0.00                         13.17   \n",
       "2                   0.91                  0.00                         25.50   \n",
       "3                   1.13                  3.00                         26.75   \n",
       "4                   1.38                  1.27                         15.00   \n",
       "...                  ...                   ...                           ...   \n",
       "2202               20.23                  1.81                         32.00   \n",
       "2203                8.49                  3.00                         71.17   \n",
       "2204                2.64                  2.18                         11.83   \n",
       "2205                3.04                  2.14                         25.75   \n",
       "2206                5.71                  0.86                         21.50   \n",
       "\n",
       "      AverageGateDepartureDelay  Delay_Class  \n",
       "0                          6.67            0  \n",
       "1                          5.33            0  \n",
       "2                         14.00            0  \n",
       "3                         17.50            0  \n",
       "4                         12.50            0  \n",
       "...                         ...          ...  \n",
       "2202                      30.75            1  \n",
       "2203                      64.67            1  \n",
       "2204                       9.17            1  \n",
       "2205                      23.00            1  \n",
       "2206                      18.83            0  \n",
       "\n",
       "[2207 rows x 8 columns]"
      ]
     },
     "execution_count": 55,
     "metadata": {},
     "output_type": "execute_result"
    }
   ],
   "source": [
    "import pandas as pd\n",
    "\n",
    "delay_df = pd.read_csv('GateArrivalDelay-Classification.csv', index_col=0)\n",
    "# print(delay_df['Class'].value_counts())\n",
    "delay_df\n"
   ]
  },
  {
   "cell_type": "code",
   "execution_count": 56,
   "id": "4f29fc20",
   "metadata": {},
   "outputs": [
    {
     "data": {
      "text/plain": [
       "array([0, 1], dtype=int64)"
      ]
     },
     "execution_count": 56,
     "metadata": {},
     "output_type": "execute_result"
    }
   ],
   "source": [
    "# To get more data about the nature of classification, firstly we need to check the unique classes in the target variable\n",
    "\n",
    "delay_df.Delay_Class.unique()"
   ]
  },
  {
   "cell_type": "markdown",
   "id": "c258afae",
   "metadata": {},
   "source": [
    "Since the Delay_Class column has 2 unique class, we can say it is a binary classifier."
   ]
  },
  {
   "cell_type": "code",
   "execution_count": 57,
   "id": "e6119600",
   "metadata": {},
   "outputs": [
    {
     "name": "stdout",
     "output_type": "stream",
     "text": [
      "0    1930\n",
      "1     277\n",
      "Name: Delay_Class, dtype: int64\n"
     ]
    },
    {
     "data": {
      "text/plain": [
       "0    0.87449\n",
       "1    0.12551\n",
       "Name: Delay_Class, dtype: float64"
      ]
     },
     "execution_count": 57,
     "metadata": {},
     "output_type": "execute_result"
    }
   ],
   "source": [
    "# Now let's check the instances of each unique class \n",
    "\n",
    "print(delay_df['Delay_Class'].value_counts())\n",
    "delay_df['Delay_Class'].value_counts()/len(delay_df)"
   ]
  },
  {
   "cell_type": "markdown",
   "id": "93cb0d7b",
   "metadata": {},
   "source": [
    "For the given problem, the number of instances of each class are significantly different, which makes it a unbalanced classifier. Class 0 is Majority class and Class 1 is Minority class."
   ]
  },
  {
   "cell_type": "markdown",
   "id": "501ea0f8",
   "metadata": {},
   "source": [
    "(b) Construct a random forest classifier for the target Class in the presence of all 6 features.\n",
    "Calculate the relative feature importance from the constructed forest and identify the two most significant features."
   ]
  },
  {
   "cell_type": "code",
   "execution_count": 58,
   "id": "586b9adb",
   "metadata": {},
   "outputs": [
    {
     "name": "stdout",
     "output_type": "stream",
     "text": [
      "      % On-TimeGateArrivals  AverageBlockDelay  AverageTaxiInDelay  \\\n",
      "0                     90.00               7.70                9.47   \n",
      "1                     72.73               0.91                2.55   \n",
      "2                     75.00               1.00                0.91   \n",
      "3                     83.33               1.50                1.13   \n",
      "4                     90.91               0.64                1.38   \n",
      "...                     ...                ...                 ...   \n",
      "2202                  47.62              16.29               20.23   \n",
      "2203                  47.06              10.29                8.49   \n",
      "2204                  68.18               4.59                2.64   \n",
      "2205                  59.09               2.55                3.04   \n",
      "2206                  90.91               1.27                5.71   \n",
      "\n",
      "      AverageAirborneDelay  AverageAirportDepartureDelay  \\\n",
      "0                     0.60                         13.67   \n",
      "1                     0.00                         13.17   \n",
      "2                     0.00                         25.50   \n",
      "3                     3.00                         26.75   \n",
      "4                     1.27                         15.00   \n",
      "...                    ...                           ...   \n",
      "2202                  1.81                         32.00   \n",
      "2203                  3.00                         71.17   \n",
      "2204                  2.18                         11.83   \n",
      "2205                  2.14                         25.75   \n",
      "2206                  0.86                         21.50   \n",
      "\n",
      "      AverageGateDepartureDelay  \n",
      "0                          6.67  \n",
      "1                          5.33  \n",
      "2                         14.00  \n",
      "3                         17.50  \n",
      "4                         12.50  \n",
      "...                         ...  \n",
      "2202                      30.75  \n",
      "2203                      64.67  \n",
      "2204                       9.17  \n",
      "2205                      23.00  \n",
      "2206                      18.83  \n",
      "\n",
      "[2207 rows x 6 columns]\n",
      "2207\n"
     ]
    }
   ],
   "source": [
    "X=delay_df.drop(['Date_Time','Delay_Class'],axis=1)\n",
    "y=delay_df['Delay_Class']\n",
    "print(X)\n",
    "print(X.shape[0])"
   ]
  },
  {
   "cell_type": "code",
   "execution_count": 59,
   "id": "7ce1f23d",
   "metadata": {},
   "outputs": [],
   "source": [
    "# Breaking the data into train and test subsets\n",
    "\n",
    "from sklearn.model_selection import train_test_split\n",
    "X_train, X_test, y_train, y_test = train_test_split(X, y, test_size=0.25, random_state=3)\n",
    "\n",
    "# Reference from Lecture Notes - 6"
   ]
  },
  {
   "cell_type": "code",
   "execution_count": 60,
   "id": "5059a1bd",
   "metadata": {},
   "outputs": [
    {
     "name": "stdout",
     "output_type": "stream",
     "text": [
      "      % On-TimeGateArrivals  AverageBlockDelay  AverageTaxiInDelay  \\\n",
      "1042                  87.67               0.93                5.38   \n",
      "670                   93.75               1.15                7.59   \n",
      "1038                  90.00               2.69                3.95   \n",
      "1907                  84.06               7.12                9.80   \n",
      "875                   87.32               4.46                6.12   \n",
      "...                     ...                ...                 ...   \n",
      "789                   90.36               4.19               11.58   \n",
      "968                   89.86               2.17                9.43   \n",
      "1667                  85.57               4.09               11.79   \n",
      "1688                  88.78               1.69                6.98   \n",
      "1898                  88.24               1.28                8.34   \n",
      "\n",
      "      AverageAirborneDelay  AverageAirportDepartureDelay  \\\n",
      "1042                  0.64                         15.11   \n",
      "670                   2.31                          6.01   \n",
      "1038                  1.79                          9.77   \n",
      "1907                  8.14                         20.01   \n",
      "875                   3.73                         14.96   \n",
      "...                    ...                           ...   \n",
      "789                   2.45                          6.04   \n",
      "968                   2.46                         18.11   \n",
      "1667                  3.55                         16.35   \n",
      "1688                  1.59                         13.84   \n",
      "1898                  3.90                         12.48   \n",
      "\n",
      "      AverageGateDepartureDelay  \n",
      "1042                      11.49  \n",
      "670                        3.27  \n",
      "1038                       6.75  \n",
      "1907                       8.84  \n",
      "875                       10.03  \n",
      "...                         ...  \n",
      "789                        2.69  \n",
      "968                        7.76  \n",
      "1667                       8.74  \n",
      "1688                       4.23  \n",
      "1898                       7.37  \n",
      "\n",
      "[1655 rows x 6 columns]\n",
      "1655\n"
     ]
    }
   ],
   "source": [
    "print(X_train)\n",
    "print(X_train.shape[0])"
   ]
  },
  {
   "cell_type": "code",
   "execution_count": 61,
   "id": "491f859d",
   "metadata": {},
   "outputs": [
    {
     "name": "stdout",
     "output_type": "stream",
     "text": [
      "      % On-TimeGateArrivals  AverageBlockDelay  AverageTaxiInDelay  \\\n",
      "1419                  79.17               6.81                9.87   \n",
      "1145                  89.29               2.58                4.14   \n",
      "1094                  75.61               9.46                3.75   \n",
      "317                  100.00               9.00                8.10   \n",
      "660                   90.79               5.46                7.97   \n",
      "...                     ...                ...                 ...   \n",
      "1984                  89.47               1.39                7.05   \n",
      "181                  100.00               1.00                6.10   \n",
      "1999                  50.00              30.29                7.07   \n",
      "1979                  91.49               2.04                7.32   \n",
      "258                  100.00               0.00                5.10   \n",
      "\n",
      "      AverageAirborneDelay  AverageAirportDepartureDelay  \\\n",
      "1419                  4.50                         16.55   \n",
      "1145                  2.50                         16.03   \n",
      "1094                  2.63                         24.50   \n",
      "317                   0.00                          0.00   \n",
      "660                   2.21                         11.91   \n",
      "...                    ...                           ...   \n",
      "1984                  1.29                          5.21   \n",
      "181                   0.00                         20.00   \n",
      "1999                 28.27                         20.54   \n",
      "1979                  1.28                         18.94   \n",
      "258                   0.00                         13.00   \n",
      "\n",
      "      AverageGateDepartureDelay  \n",
      "1419                       6.35  \n",
      "1145                       8.86  \n",
      "1094                      18.80  \n",
      "317                        0.00  \n",
      "660                        4.26  \n",
      "...                         ...  \n",
      "1984                       2.97  \n",
      "181                       10.50  \n",
      "1999                      12.45  \n",
      "1979                      10.60  \n",
      "258                        0.00  \n",
      "\n",
      "[552 rows x 6 columns]\n",
      "552\n"
     ]
    }
   ],
   "source": [
    "print(X_test)\n",
    "print(X_test.shape[0])"
   ]
  },
  {
   "cell_type": "code",
   "execution_count": 62,
   "id": "08ecf6c8",
   "metadata": {},
   "outputs": [
    {
     "name": "stdout",
     "output_type": "stream",
     "text": [
      "1042    0\n",
      "670     0\n",
      "1038    0\n",
      "1907    0\n",
      "875     0\n",
      "       ..\n",
      "789     0\n",
      "968     0\n",
      "1667    0\n",
      "1688    0\n",
      "1898    0\n",
      "Name: Delay_Class, Length: 1655, dtype: int64\n",
      "1655\n"
     ]
    }
   ],
   "source": [
    "print(y_train)\n",
    "print(y_train.shape[0])"
   ]
  },
  {
   "cell_type": "code",
   "execution_count": 63,
   "id": "3595e848",
   "metadata": {},
   "outputs": [
    {
     "name": "stdout",
     "output_type": "stream",
     "text": [
      "1419    0\n",
      "1145    0\n",
      "1094    1\n",
      "317     0\n",
      "660     0\n",
      "       ..\n",
      "1984    0\n",
      "181     0\n",
      "1999    1\n",
      "1979    0\n",
      "258     0\n",
      "Name: Delay_Class, Length: 552, dtype: int64\n",
      "552\n"
     ]
    }
   ],
   "source": [
    "print(y_test)\n",
    "print(y_test.shape[0])"
   ]
  },
  {
   "cell_type": "code",
   "execution_count": 64,
   "id": "4ff61ba4",
   "metadata": {},
   "outputs": [
    {
     "data": {
      "text/html": [
       "<style>#sk-container-id-3 {color: black;}#sk-container-id-3 pre{padding: 0;}#sk-container-id-3 div.sk-toggleable {background-color: white;}#sk-container-id-3 label.sk-toggleable__label {cursor: pointer;display: block;width: 100%;margin-bottom: 0;padding: 0.3em;box-sizing: border-box;text-align: center;}#sk-container-id-3 label.sk-toggleable__label-arrow:before {content: \"▸\";float: left;margin-right: 0.25em;color: #696969;}#sk-container-id-3 label.sk-toggleable__label-arrow:hover:before {color: black;}#sk-container-id-3 div.sk-estimator:hover label.sk-toggleable__label-arrow:before {color: black;}#sk-container-id-3 div.sk-toggleable__content {max-height: 0;max-width: 0;overflow: hidden;text-align: left;background-color: #f0f8ff;}#sk-container-id-3 div.sk-toggleable__content pre {margin: 0.2em;color: black;border-radius: 0.25em;background-color: #f0f8ff;}#sk-container-id-3 input.sk-toggleable__control:checked~div.sk-toggleable__content {max-height: 200px;max-width: 100%;overflow: auto;}#sk-container-id-3 input.sk-toggleable__control:checked~label.sk-toggleable__label-arrow:before {content: \"▾\";}#sk-container-id-3 div.sk-estimator input.sk-toggleable__control:checked~label.sk-toggleable__label {background-color: #d4ebff;}#sk-container-id-3 div.sk-label input.sk-toggleable__control:checked~label.sk-toggleable__label {background-color: #d4ebff;}#sk-container-id-3 input.sk-hidden--visually {border: 0;clip: rect(1px 1px 1px 1px);clip: rect(1px, 1px, 1px, 1px);height: 1px;margin: -1px;overflow: hidden;padding: 0;position: absolute;width: 1px;}#sk-container-id-3 div.sk-estimator {font-family: monospace;background-color: #f0f8ff;border: 1px dotted black;border-radius: 0.25em;box-sizing: border-box;margin-bottom: 0.5em;}#sk-container-id-3 div.sk-estimator:hover {background-color: #d4ebff;}#sk-container-id-3 div.sk-parallel-item::after {content: \"\";width: 100%;border-bottom: 1px solid gray;flex-grow: 1;}#sk-container-id-3 div.sk-label:hover label.sk-toggleable__label {background-color: #d4ebff;}#sk-container-id-3 div.sk-serial::before {content: \"\";position: absolute;border-left: 1px solid gray;box-sizing: border-box;top: 0;bottom: 0;left: 50%;z-index: 0;}#sk-container-id-3 div.sk-serial {display: flex;flex-direction: column;align-items: center;background-color: white;padding-right: 0.2em;padding-left: 0.2em;position: relative;}#sk-container-id-3 div.sk-item {position: relative;z-index: 1;}#sk-container-id-3 div.sk-parallel {display: flex;align-items: stretch;justify-content: center;background-color: white;position: relative;}#sk-container-id-3 div.sk-item::before, #sk-container-id-3 div.sk-parallel-item::before {content: \"\";position: absolute;border-left: 1px solid gray;box-sizing: border-box;top: 0;bottom: 0;left: 50%;z-index: -1;}#sk-container-id-3 div.sk-parallel-item {display: flex;flex-direction: column;z-index: 1;position: relative;background-color: white;}#sk-container-id-3 div.sk-parallel-item:first-child::after {align-self: flex-end;width: 50%;}#sk-container-id-3 div.sk-parallel-item:last-child::after {align-self: flex-start;width: 50%;}#sk-container-id-3 div.sk-parallel-item:only-child::after {width: 0;}#sk-container-id-3 div.sk-dashed-wrapped {border: 1px dashed gray;margin: 0 0.4em 0.5em 0.4em;box-sizing: border-box;padding-bottom: 0.4em;background-color: white;}#sk-container-id-3 div.sk-label label {font-family: monospace;font-weight: bold;display: inline-block;line-height: 1.2em;}#sk-container-id-3 div.sk-label-container {text-align: center;}#sk-container-id-3 div.sk-container {/* jupyter's `normalize.less` sets `[hidden] { display: none; }` but bootstrap.min.css set `[hidden] { display: none !important; }` so we also need the `!important` here to be able to override the default hidden behavior on the sphinx rendered scikit-learn.org. See: https://github.com/scikit-learn/scikit-learn/issues/21755 */display: inline-block !important;position: relative;}#sk-container-id-3 div.sk-text-repr-fallback {display: none;}</style><div id=\"sk-container-id-3\" class=\"sk-top-container\"><div class=\"sk-text-repr-fallback\"><pre>RandomForestClassifier(max_depth=2, random_state=3)</pre><b>In a Jupyter environment, please rerun this cell to show the HTML representation or trust the notebook. <br />On GitHub, the HTML representation is unable to render, please try loading this page with nbviewer.org.</b></div><div class=\"sk-container\" hidden><div class=\"sk-item\"><div class=\"sk-estimator sk-toggleable\"><input class=\"sk-toggleable__control sk-hidden--visually\" id=\"sk-estimator-id-3\" type=\"checkbox\" checked><label for=\"sk-estimator-id-3\" class=\"sk-toggleable__label sk-toggleable__label-arrow\">RandomForestClassifier</label><div class=\"sk-toggleable__content\"><pre>RandomForestClassifier(max_depth=2, random_state=3)</pre></div></div></div></div></div>"
      ],
      "text/plain": [
       "RandomForestClassifier(max_depth=2, random_state=3)"
      ]
     },
     "execution_count": 64,
     "metadata": {},
     "output_type": "execute_result"
    }
   ],
   "source": [
    "# Constructing a random forest classifier\n",
    "from sklearn.ensemble import RandomForestClassifier\n",
    "rf_clf = RandomForestClassifier(max_depth=2, random_state=3)\n",
    "rf_clf.fit(X_train, y_train)"
   ]
  },
  {
   "cell_type": "code",
   "execution_count": 65,
   "id": "83c34228",
   "metadata": {},
   "outputs": [],
   "source": [
    "# Finding the predictions of random forest classifier for train and test subsets\n",
    "train_y_pred = rf_clf.predict(X_train)\n",
    "test_y_pred = rf_clf.predict(X_test)"
   ]
  },
  {
   "cell_type": "code",
   "execution_count": 66,
   "id": "72677c5e",
   "metadata": {},
   "outputs": [
    {
     "name": "stdout",
     "output_type": "stream",
     "text": [
      "[0 0 0 ... 0 0 0]\n",
      "1655\n"
     ]
    }
   ],
   "source": [
    "print(train_y_pred)\n",
    "print(train_y_pred.shape[0])"
   ]
  },
  {
   "cell_type": "code",
   "execution_count": 67,
   "id": "d78a2526",
   "metadata": {},
   "outputs": [
    {
     "name": "stdout",
     "output_type": "stream",
     "text": [
      "[0 0 0 0 0 0 0 0 0 0 0 0 0 0 0 0 0 0 0 0 0 0 1 0 0 0 0 0 0 0 0 0 0 0 0 0 0\n",
      " 0 0 0 1 0 0 0 0 0 0 0 0 0 0 0 0 0 0 0 0 0 0 0 0 0 0 0 0 0 0 1 0 0 0 0 0 0\n",
      " 0 1 0 0 1 0 0 1 0 0 0 1 0 0 0 0 0 1 0 0 0 0 0 0 0 0 0 0 0 0 0 0 0 0 0 0 0\n",
      " 1 0 0 0 0 0 1 0 0 0 0 0 0 0 0 0 0 0 0 0 0 0 1 0 0 0 0 0 0 0 0 0 0 0 0 0 0\n",
      " 0 0 0 0 0 0 0 0 0 0 0 0 0 0 0 0 0 0 0 0 0 0 0 0 0 0 0 0 0 0 0 0 0 0 0 0 0\n",
      " 0 0 1 0 0 0 0 0 0 0 0 0 0 0 0 0 0 0 0 0 0 0 0 0 0 0 0 0 0 0 0 0 0 0 0 0 0\n",
      " 0 0 0 0 0 0 1 0 0 0 0 0 0 0 0 0 0 0 0 0 0 0 1 0 0 0 0 0 0 0 0 0 0 0 0 0 0\n",
      " 0 0 0 0 0 0 0 0 0 0 0 0 0 0 0 0 0 0 0 0 0 0 0 0 0 0 0 1 0 0 0 0 0 0 0 0 0\n",
      " 0 1 0 0 0 0 0 0 0 0 0 0 1 0 0 0 0 0 0 0 0 0 0 0 0 0 0 0 0 0 0 0 0 0 0 1 0\n",
      " 0 0 0 0 0 0 0 0 1 0 0 0 0 0 0 1 0 0 0 0 0 0 0 0 0 0 0 0 0 0 0 0 0 0 0 0 0\n",
      " 0 0 0 0 0 0 0 0 0 0 0 0 0 0 0 0 0 0 0 0 0 0 0 1 0 0 0 0 0 0 0 0 0 0 0 0 0\n",
      " 0 0 0 0 0 0 0 0 0 0 0 0 0 0 0 0 0 0 0 0 0 0 0 0 1 0 0 0 0 0 0 0 1 0 1 0 0\n",
      " 0 0 0 0 0 0 0 0 0 0 1 0 0 0 0 0 0 0 0 0 1 0 0 0 0 0 0 0 0 0 0 0 0 0 0 0 0\n",
      " 0 0 0 1 0 0 0 0 0 0 0 0 0 0 0 0 0 0 0 0 0 0 0 0 0 1 0 0 0 0 0 0 0 0 0 0 0\n",
      " 0 0 0 0 0 0 0 0 0 0 1 0 0 0 0 0 0 0 0 0 0 0 0 0 0 0 0 1 0 0 0 1 0 0]\n",
      "552\n"
     ]
    }
   ],
   "source": [
    "print(test_y_pred)\n",
    "print(test_y_pred.shape[0])"
   ]
  },
  {
   "cell_type": "code",
   "execution_count": 68,
   "id": "ee62e6db",
   "metadata": {},
   "outputs": [
    {
     "name": "stdout",
     "output_type": "stream",
     "text": [
      "Random Forest Classifier Train Classification Report: \n",
      "\n",
      "               precision    recall  f1-score   support\n",
      "\n",
      "           0       0.94      0.99      0.97      1436\n",
      "           1       0.92      0.60      0.73       219\n",
      "\n",
      "    accuracy                           0.94      1655\n",
      "   macro avg       0.93      0.80      0.85      1655\n",
      "weighted avg       0.94      0.94      0.94      1655\n",
      " \n",
      "\n",
      "\n",
      "Random Forest Classifier Test Classification Report: \n",
      "\n",
      "               precision    recall  f1-score   support\n",
      "\n",
      "           0       0.94      0.99      0.96       494\n",
      "           1       0.84      0.45      0.58        58\n",
      "\n",
      "    accuracy                           0.93       552\n",
      "   macro avg       0.89      0.72      0.77       552\n",
      "weighted avg       0.93      0.93      0.92       552\n",
      "\n"
     ]
    }
   ],
   "source": [
    "from sklearn import metrics\n",
    "from sklearn.metrics import confusion_matrix, classification_report\n",
    "\n",
    "train_score = metrics.accuracy_score(y_train, train_y_pred) # Compute train accuracy\n",
    "test_score = metrics.accuracy_score(y_test, test_y_pred) # Compute test accuracy\n",
    "train_report = classification_report(y_train, train_y_pred) # Generate classification report for train data\n",
    "test_report = classification_report(y_test, test_y_pred) # Generate classification report for test data\n",
    "print('Random Forest Classifier Train Classification Report: \\n\\n',train_report,'\\n\\n')\n",
    "print('Random Forest Classifier Test Classification Report: \\n\\n', test_report)\n"
   ]
  },
  {
   "cell_type": "code",
   "execution_count": 69,
   "id": "a38de762",
   "metadata": {},
   "outputs": [
    {
     "data": {
      "text/html": [
       "<style>#sk-container-id-4 {color: black;}#sk-container-id-4 pre{padding: 0;}#sk-container-id-4 div.sk-toggleable {background-color: white;}#sk-container-id-4 label.sk-toggleable__label {cursor: pointer;display: block;width: 100%;margin-bottom: 0;padding: 0.3em;box-sizing: border-box;text-align: center;}#sk-container-id-4 label.sk-toggleable__label-arrow:before {content: \"▸\";float: left;margin-right: 0.25em;color: #696969;}#sk-container-id-4 label.sk-toggleable__label-arrow:hover:before {color: black;}#sk-container-id-4 div.sk-estimator:hover label.sk-toggleable__label-arrow:before {color: black;}#sk-container-id-4 div.sk-toggleable__content {max-height: 0;max-width: 0;overflow: hidden;text-align: left;background-color: #f0f8ff;}#sk-container-id-4 div.sk-toggleable__content pre {margin: 0.2em;color: black;border-radius: 0.25em;background-color: #f0f8ff;}#sk-container-id-4 input.sk-toggleable__control:checked~div.sk-toggleable__content {max-height: 200px;max-width: 100%;overflow: auto;}#sk-container-id-4 input.sk-toggleable__control:checked~label.sk-toggleable__label-arrow:before {content: \"▾\";}#sk-container-id-4 div.sk-estimator input.sk-toggleable__control:checked~label.sk-toggleable__label {background-color: #d4ebff;}#sk-container-id-4 div.sk-label input.sk-toggleable__control:checked~label.sk-toggleable__label {background-color: #d4ebff;}#sk-container-id-4 input.sk-hidden--visually {border: 0;clip: rect(1px 1px 1px 1px);clip: rect(1px, 1px, 1px, 1px);height: 1px;margin: -1px;overflow: hidden;padding: 0;position: absolute;width: 1px;}#sk-container-id-4 div.sk-estimator {font-family: monospace;background-color: #f0f8ff;border: 1px dotted black;border-radius: 0.25em;box-sizing: border-box;margin-bottom: 0.5em;}#sk-container-id-4 div.sk-estimator:hover {background-color: #d4ebff;}#sk-container-id-4 div.sk-parallel-item::after {content: \"\";width: 100%;border-bottom: 1px solid gray;flex-grow: 1;}#sk-container-id-4 div.sk-label:hover label.sk-toggleable__label {background-color: #d4ebff;}#sk-container-id-4 div.sk-serial::before {content: \"\";position: absolute;border-left: 1px solid gray;box-sizing: border-box;top: 0;bottom: 0;left: 50%;z-index: 0;}#sk-container-id-4 div.sk-serial {display: flex;flex-direction: column;align-items: center;background-color: white;padding-right: 0.2em;padding-left: 0.2em;position: relative;}#sk-container-id-4 div.sk-item {position: relative;z-index: 1;}#sk-container-id-4 div.sk-parallel {display: flex;align-items: stretch;justify-content: center;background-color: white;position: relative;}#sk-container-id-4 div.sk-item::before, #sk-container-id-4 div.sk-parallel-item::before {content: \"\";position: absolute;border-left: 1px solid gray;box-sizing: border-box;top: 0;bottom: 0;left: 50%;z-index: -1;}#sk-container-id-4 div.sk-parallel-item {display: flex;flex-direction: column;z-index: 1;position: relative;background-color: white;}#sk-container-id-4 div.sk-parallel-item:first-child::after {align-self: flex-end;width: 50%;}#sk-container-id-4 div.sk-parallel-item:last-child::after {align-self: flex-start;width: 50%;}#sk-container-id-4 div.sk-parallel-item:only-child::after {width: 0;}#sk-container-id-4 div.sk-dashed-wrapped {border: 1px dashed gray;margin: 0 0.4em 0.5em 0.4em;box-sizing: border-box;padding-bottom: 0.4em;background-color: white;}#sk-container-id-4 div.sk-label label {font-family: monospace;font-weight: bold;display: inline-block;line-height: 1.2em;}#sk-container-id-4 div.sk-label-container {text-align: center;}#sk-container-id-4 div.sk-container {/* jupyter's `normalize.less` sets `[hidden] { display: none; }` but bootstrap.min.css set `[hidden] { display: none !important; }` so we also need the `!important` here to be able to override the default hidden behavior on the sphinx rendered scikit-learn.org. See: https://github.com/scikit-learn/scikit-learn/issues/21755 */display: inline-block !important;position: relative;}#sk-container-id-4 div.sk-text-repr-fallback {display: none;}</style><div id=\"sk-container-id-4\" class=\"sk-top-container\"><div class=\"sk-text-repr-fallback\"><pre>RandomForestClassifier(max_depth=6, max_leaf_nodes=8, n_estimators=3000,\n",
       "                       random_state=3)</pre><b>In a Jupyter environment, please rerun this cell to show the HTML representation or trust the notebook. <br />On GitHub, the HTML representation is unable to render, please try loading this page with nbviewer.org.</b></div><div class=\"sk-container\" hidden><div class=\"sk-item\"><div class=\"sk-estimator sk-toggleable\"><input class=\"sk-toggleable__control sk-hidden--visually\" id=\"sk-estimator-id-4\" type=\"checkbox\" checked><label for=\"sk-estimator-id-4\" class=\"sk-toggleable__label sk-toggleable__label-arrow\">RandomForestClassifier</label><div class=\"sk-toggleable__content\"><pre>RandomForestClassifier(max_depth=6, max_leaf_nodes=8, n_estimators=3000,\n",
       "                       random_state=3)</pre></div></div></div></div></div>"
      ],
      "text/plain": [
       "RandomForestClassifier(max_depth=6, max_leaf_nodes=8, n_estimators=3000,\n",
       "                       random_state=3)"
      ]
     },
     "execution_count": 69,
     "metadata": {},
     "output_type": "execute_result"
    }
   ],
   "source": [
    " # Constructing a new random forest classifier\n",
    "rf_clf = RandomForestClassifier(n_estimators=3000, max_depth=6,max_leaf_nodes=8, random_state=3)\n",
    "rf_clf.fit(X_train, y_train)"
   ]
  },
  {
   "cell_type": "code",
   "execution_count": 70,
   "id": "95828bd2",
   "metadata": {},
   "outputs": [
    {
     "data": {
      "image/png": "[encoded data removed]",
      "text/plain": [
       "<Figure size 700x700 with 1 Axes>"
      ]
     },
     "metadata": {},
     "output_type": "display_data"
    }
   ],
   "source": [
    "# Calculating the feature importance\n",
    "feature_importance = rf_clf.feature_importances_\n",
    "feature_importance = 100.0*(feature_importance/np.sum(feature_importance))\n",
    "# Displaying the relative feature importance by a horizontal bar chart\n",
    "sorted_idx = np.argsort(feature_importance)\n",
    "pos=np.arange(sorted_idx.shape[0])+0.5\n",
    "plt.figure(figsize=(7, 7))\n",
    "plt.title(\"Feature Importance\")\n",
    "plt.xlabel('Relative Importance')\n",
    "plt.barh(pos, feature_importance[sorted_idx], color='crimson', align=\"center\")\n",
    "#plt.yticks(pos, delay_df.columns[1:-1][sorted_idx])\n",
    "plt.yticks(pos, X.columns[:][sorted_idx])\n",
    "#plt.yticks(pos, np.array(['x_%d' %(i+1) for i in range(10)])[sorted_idx])\n",
    "plt.show()"
   ]
  },
  {
   "cell_type": "markdown",
   "id": "c22a649a",
   "metadata": {},
   "source": [
    "From the above figure, two significant features are '% On-TimeGateArrivals' and 'AverageBlockDelay'"
   ]
  },
  {
   "cell_type": "code",
   "execution_count": 71,
   "id": "814e6527",
   "metadata": {},
   "outputs": [],
   "source": [
    "# Defining the features and the target of the model\n",
    "\n",
    "features = ['% On-TimeGateArrivals', 'AverageBlockDelay']      # Feature names \n",
    "target = delay_df.columns[-1]         # Target name\n",
    "\n",
    "X = delay_df[features].values         # Features\n",
    "y = delay_df[target].values           # Target \n",
    "\n",
    "#X = delay_df[['% On-TimeGateArrivals', 'AverageBlockDelay']].values         # Features\n",
    "#y = delay_df[delay_df.columns[-1]].values           # Target "
   ]
  },
  {
   "cell_type": "code",
   "execution_count": 72,
   "id": "c41166dc",
   "metadata": {},
   "outputs": [
    {
     "name": "stdout",
     "output_type": "stream",
     "text": [
      "[[90.    7.7 ]\n",
      " [72.73  0.91]\n",
      " [75.    1.  ]\n",
      " ...\n",
      " [68.18  4.59]\n",
      " [59.09  2.55]\n",
      " [90.91  1.27]]\n",
      "2207\n"
     ]
    }
   ],
   "source": [
    "print(X)\n",
    "print(X.shape[0])"
   ]
  },
  {
   "cell_type": "code",
   "execution_count": 73,
   "id": "66532933",
   "metadata": {},
   "outputs": [
    {
     "name": "stdout",
     "output_type": "stream",
     "text": [
      "[0 0 0 ... 1 1 0]\n",
      "2207\n"
     ]
    }
   ],
   "source": [
    "print(y)\n",
    "print(y.shape[0])"
   ]
  },
  {
   "cell_type": "code",
   "execution_count": 74,
   "id": "d2d5f3b7",
   "metadata": {},
   "outputs": [],
   "source": [
    "# Breaking the data into train and test subsets\n",
    "\n",
    "from sklearn.model_selection import train_test_split\n",
    "\n",
    "X_train, X_test, y_train, y_test = train_test_split(X, y, test_size=0.25, random_state=3)"
   ]
  },
  {
   "cell_type": "code",
   "execution_count": 75,
   "id": "2b67a0af",
   "metadata": {},
   "outputs": [
    {
     "name": "stdout",
     "output_type": "stream",
     "text": [
      "[[87.67  0.93]\n",
      " [93.75  1.15]\n",
      " [90.    2.69]\n",
      " ...\n",
      " [85.57  4.09]\n",
      " [88.78  1.69]\n",
      " [88.24  1.28]]\n",
      "1655\n"
     ]
    }
   ],
   "source": [
    "print(X_train)\n",
    "print(X_train.shape[0])"
   ]
  },
  {
   "cell_type": "code",
   "execution_count": 76,
   "id": "524e464d",
   "metadata": {},
   "outputs": [
    {
     "name": "stdout",
     "output_type": "stream",
     "text": [
      "[[ 79.17   6.81]\n",
      " [ 89.29   2.58]\n",
      " [ 75.61   9.46]\n",
      " ...\n",
      " [ 50.    30.29]\n",
      " [ 91.49   2.04]\n",
      " [100.     0.  ]]\n",
      "552\n"
     ]
    }
   ],
   "source": [
    "print(X_test)\n",
    "print(X_test.shape[0])"
   ]
  },
  {
   "cell_type": "code",
   "execution_count": 77,
   "id": "ba829e78",
   "metadata": {},
   "outputs": [
    {
     "name": "stdout",
     "output_type": "stream",
     "text": [
      "[0 0 0 ... 0 0 0]\n",
      "1655\n"
     ]
    }
   ],
   "source": [
    "print(y_train)\n",
    "print(y_train.shape[0])"
   ]
  },
  {
   "cell_type": "code",
   "execution_count": 78,
   "id": "d6a6e44a",
   "metadata": {},
   "outputs": [
    {
     "name": "stdout",
     "output_type": "stream",
     "text": [
      "[0 0 1 0 0 0 0 0 0 0 0 0 0 0 0 0 0 0 0 0 0 0 1 0 0 0 0 0 1 0 0 0 0 0 0 0 0\n",
      " 0 0 0 1 0 0 0 1 0 0 0 0 0 0 0 0 0 0 0 0 0 0 0 0 0 1 0 0 0 0 1 0 0 0 0 0 0\n",
      " 0 0 0 0 1 0 0 1 0 0 0 1 0 0 0 0 0 1 0 0 0 0 0 0 1 0 0 0 0 0 0 0 0 0 0 0 0\n",
      " 1 0 0 0 0 0 1 0 0 1 0 0 0 1 0 0 0 0 0 0 0 0 1 0 0 0 0 0 0 0 0 0 0 0 0 0 0\n",
      " 0 0 0 0 0 0 0 0 0 0 0 0 0 0 0 0 0 0 0 0 1 0 0 0 0 0 0 0 0 0 0 0 0 0 0 0 0\n",
      " 1 0 0 0 0 0 0 0 0 0 0 0 0 0 0 0 0 0 0 0 0 0 0 0 0 0 0 0 0 0 0 0 0 0 0 0 0\n",
      " 0 0 0 1 0 0 1 0 0 0 0 0 0 0 0 0 0 0 0 0 0 0 1 0 0 1 0 0 1 0 0 0 0 0 0 1 0\n",
      " 0 0 0 0 1 0 0 0 0 0 0 0 1 0 0 0 0 0 0 0 0 0 1 0 0 0 0 1 0 0 0 0 0 0 0 0 0\n",
      " 0 1 0 0 0 0 0 0 0 0 0 1 1 1 0 0 0 0 0 0 0 0 1 0 0 0 0 0 0 0 0 0 0 0 0 1 0\n",
      " 0 0 0 0 0 0 0 0 1 0 0 0 0 0 0 0 0 0 0 0 1 0 0 0 0 0 1 0 0 0 0 0 1 0 0 0 0\n",
      " 1 0 0 0 0 0 0 0 0 1 0 0 1 0 0 0 0 1 0 0 0 0 0 0 0 0 0 0 0 0 0 0 0 0 0 0 0\n",
      " 0 0 0 0 0 0 0 0 0 0 0 0 0 0 0 0 0 0 0 0 0 0 0 0 1 0 0 0 1 0 0 0 1 0 1 0 0\n",
      " 0 0 0 0 0 0 0 0 0 0 1 0 0 0 0 0 0 0 0 0 1 0 0 0 0 0 0 0 0 0 0 1 0 0 0 0 1\n",
      " 0 0 0 1 0 0 0 0 0 0 0 0 0 0 0 0 0 0 0 0 0 1 0 0 0 0 0 0 0 0 0 0 0 0 0 0 0\n",
      " 0 0 0 0 1 0 0 0 0 0 1 0 0 0 0 1 0 0 0 0 0 0 0 0 0 0 0 1 0 0 0 1 0 0]\n",
      "552\n"
     ]
    }
   ],
   "source": [
    "print(y_test)\n",
    "print(y_test.shape[0])"
   ]
  },
  {
   "cell_type": "code",
   "execution_count": 79,
   "id": "1631d83b",
   "metadata": {},
   "outputs": [
    {
     "name": "stdout",
     "output_type": "stream",
     "text": [
      "[1930  277]\n",
      "[1436  219]\n",
      "[494  58]\n"
     ]
    }
   ],
   "source": [
    "# Checking the distribution of the train and test categories for the target variable \n",
    "\n",
    "print(np.bincount(y))\n",
    "print(np.bincount(y_train))\n",
    "print(np.bincount(y_test))"
   ]
  },
  {
   "cell_type": "markdown",
   "id": "7378661c",
   "metadata": {},
   "source": [
    "Reference from Leture Notes - 8 & 4"
   ]
  },
  {
   "cell_type": "markdown",
   "id": "3eb22fa3",
   "metadata": {},
   "source": [
    "(c) Construct a logistic regression classifier for the classification problem. Calculate various\n",
    "relevant accuracy metrics, and assess the performance of your constructed classifier.\n",
    "What is the AUC of the corresponding ROC curve for this binary classifier? Plot\n",
    "decision regions in the feature space."
   ]
  },
  {
   "cell_type": "code",
   "execution_count": 80,
   "id": "c1e2d691",
   "metadata": {},
   "outputs": [
    {
     "name": "stderr",
     "output_type": "stream",
     "text": [
      "C:\\Users\\shubh\\anaconda3\\Lib\\site-packages\\sklearn\\linear_model\\_logistic.py:1182: FutureWarning: `penalty='none'`has been deprecated in 1.2 and will be removed in 1.4. To keep the past behaviour, set `penalty=None`.\n",
      "  warnings.warn(\n"
     ]
    },
    {
     "data": {
      "text/html": [
       "<style>#sk-container-id-5 {color: black;}#sk-container-id-5 pre{padding: 0;}#sk-container-id-5 div.sk-toggleable {background-color: white;}#sk-container-id-5 label.sk-toggleable__label {cursor: pointer;display: block;width: 100%;margin-bottom: 0;padding: 0.3em;box-sizing: border-box;text-align: center;}#sk-container-id-5 label.sk-toggleable__label-arrow:before {content: \"▸\";float: left;margin-right: 0.25em;color: #696969;}#sk-container-id-5 label.sk-toggleable__label-arrow:hover:before {color: black;}#sk-container-id-5 div.sk-estimator:hover label.sk-toggleable__label-arrow:before {color: black;}#sk-container-id-5 div.sk-toggleable__content {max-height: 0;max-width: 0;overflow: hidden;text-align: left;background-color: #f0f8ff;}#sk-container-id-5 div.sk-toggleable__content pre {margin: 0.2em;color: black;border-radius: 0.25em;background-color: #f0f8ff;}#sk-container-id-5 input.sk-toggleable__control:checked~div.sk-toggleable__content {max-height: 200px;max-width: 100%;overflow: auto;}#sk-container-id-5 input.sk-toggleable__control:checked~label.sk-toggleable__label-arrow:before {content: \"▾\";}#sk-container-id-5 div.sk-estimator input.sk-toggleable__control:checked~label.sk-toggleable__label {background-color: #d4ebff;}#sk-container-id-5 div.sk-label input.sk-toggleable__control:checked~label.sk-toggleable__label {background-color: #d4ebff;}#sk-container-id-5 input.sk-hidden--visually {border: 0;clip: rect(1px 1px 1px 1px);clip: rect(1px, 1px, 1px, 1px);height: 1px;margin: -1px;overflow: hidden;padding: 0;position: absolute;width: 1px;}#sk-container-id-5 div.sk-estimator {font-family: monospace;background-color: #f0f8ff;border: 1px dotted black;border-radius: 0.25em;box-sizing: border-box;margin-bottom: 0.5em;}#sk-container-id-5 div.sk-estimator:hover {background-color: #d4ebff;}#sk-container-id-5 div.sk-parallel-item::after {content: \"\";width: 100%;border-bottom: 1px solid gray;flex-grow: 1;}#sk-container-id-5 div.sk-label:hover label.sk-toggleable__label {background-color: #d4ebff;}#sk-container-id-5 div.sk-serial::before {content: \"\";position: absolute;border-left: 1px solid gray;box-sizing: border-box;top: 0;bottom: 0;left: 50%;z-index: 0;}#sk-container-id-5 div.sk-serial {display: flex;flex-direction: column;align-items: center;background-color: white;padding-right: 0.2em;padding-left: 0.2em;position: relative;}#sk-container-id-5 div.sk-item {position: relative;z-index: 1;}#sk-container-id-5 div.sk-parallel {display: flex;align-items: stretch;justify-content: center;background-color: white;position: relative;}#sk-container-id-5 div.sk-item::before, #sk-container-id-5 div.sk-parallel-item::before {content: \"\";position: absolute;border-left: 1px solid gray;box-sizing: border-box;top: 0;bottom: 0;left: 50%;z-index: -1;}#sk-container-id-5 div.sk-parallel-item {display: flex;flex-direction: column;z-index: 1;position: relative;background-color: white;}#sk-container-id-5 div.sk-parallel-item:first-child::after {align-self: flex-end;width: 50%;}#sk-container-id-5 div.sk-parallel-item:last-child::after {align-self: flex-start;width: 50%;}#sk-container-id-5 div.sk-parallel-item:only-child::after {width: 0;}#sk-container-id-5 div.sk-dashed-wrapped {border: 1px dashed gray;margin: 0 0.4em 0.5em 0.4em;box-sizing: border-box;padding-bottom: 0.4em;background-color: white;}#sk-container-id-5 div.sk-label label {font-family: monospace;font-weight: bold;display: inline-block;line-height: 1.2em;}#sk-container-id-5 div.sk-label-container {text-align: center;}#sk-container-id-5 div.sk-container {/* jupyter's `normalize.less` sets `[hidden] { display: none; }` but bootstrap.min.css set `[hidden] { display: none !important; }` so we also need the `!important` here to be able to override the default hidden behavior on the sphinx rendered scikit-learn.org. See: https://github.com/scikit-learn/scikit-learn/issues/21755 */display: inline-block !important;position: relative;}#sk-container-id-5 div.sk-text-repr-fallback {display: none;}</style><div id=\"sk-container-id-5\" class=\"sk-top-container\"><div class=\"sk-text-repr-fallback\"><pre>LogisticRegression(max_iter=10000, penalty=&#x27;none&#x27;)</pre><b>In a Jupyter environment, please rerun this cell to show the HTML representation or trust the notebook. <br />On GitHub, the HTML representation is unable to render, please try loading this page with nbviewer.org.</b></div><div class=\"sk-container\" hidden><div class=\"sk-item\"><div class=\"sk-estimator sk-toggleable\"><input class=\"sk-toggleable__control sk-hidden--visually\" id=\"sk-estimator-id-5\" type=\"checkbox\" checked><label for=\"sk-estimator-id-5\" class=\"sk-toggleable__label sk-toggleable__label-arrow\">LogisticRegression</label><div class=\"sk-toggleable__content\"><pre>LogisticRegression(max_iter=10000, penalty=&#x27;none&#x27;)</pre></div></div></div></div></div>"
      ],
      "text/plain": [
       "LogisticRegression(max_iter=10000, penalty='none')"
      ]
     },
     "execution_count": 80,
     "metadata": {},
     "output_type": "execute_result"
    }
   ],
   "source": [
    " from sklearn.linear_model import LogisticRegression # Importing Logistic Regression from sklearn\n",
    "\n",
    "logreg = LogisticRegression(penalty = 'none', max_iter = 10000) # Instantiating logistic regression\n",
    "logreg.fit(X_train, y_train) # Fitting the train data to 'logreg'\n"
   ]
  },
  {
   "cell_type": "code",
   "execution_count": 81,
   "id": "271656bf",
   "metadata": {},
   "outputs": [
    {
     "name": "stdout",
     "output_type": "stream",
     "text": [
      "Train predictions for probabilities:\n",
      "\n",
      " [[0.98495639 0.01504361]\n",
      " [0.98761804 0.01238196]\n",
      " [0.97356436 0.02643564]\n",
      " [0.8332332  0.1667668 ]\n",
      " [0.94234368 0.05765632]\n",
      " [0.92540448 0.07459552]\n",
      " [0.99229349 0.00770651]\n",
      " [0.98723669 0.01276331]\n",
      " [0.90769702 0.09230298]\n",
      " [0.9179576  0.0820424 ]] \n",
      "\n",
      "Test predictions for probabilities:\n",
      "\n",
      " [[0.81781906 0.18218094]\n",
      " [0.97381295 0.02618705]\n",
      " [0.57600992 0.42399008]\n",
      " [0.83478661 0.16521339]\n",
      " [0.92869382 0.07130618]\n",
      " [0.98299847 0.01700153]\n",
      " [0.97250569 0.02749431]\n",
      " [0.97392527 0.02607473]\n",
      " [0.98575313 0.01424687]\n",
      " [0.61394317 0.38605683]]\n"
     ]
    }
   ],
   "source": [
    "# Predicted class for the test subset through logistic regression\n",
    "\n",
    "y_train_pred_prob = logreg.predict_proba(X_train) # Calculating probabilities of the two classes in train subset\n",
    "y_test_pred_prob = logreg.predict_proba(X_test) # Calculating probabilities of the two classes in test subset\n",
    "\n",
    "# Presenting the probabilities for the 1st 10 instances in train subset\n",
    "print('Train predictions for probabilities:\\n\\n', y_train_pred_prob[:10],'\\n')\n",
    "# Presenting the probabilities for the 1st 10 instances in test subset\n",
    "print('Test predictions for probabilities:\\n\\n', y_test_pred_prob[:10])\n"
   ]
  },
  {
   "cell_type": "code",
   "execution_count": 82,
   "id": "58065c57",
   "metadata": {},
   "outputs": [
    {
     "name": "stdout",
     "output_type": "stream",
     "text": [
      "Predicted class for train:  [0 0 0 0 0 0 0 0 0 0] \n",
      "\n",
      "Predicted class for train:  [0 0 0 0 0 0 0 0 0 0]\n"
     ]
    }
   ],
   "source": [
    "y_train_pred = y_train_pred_prob.argmax(axis=1) # Finding the predicted class for train predictions\n",
    "y_test_pred = y_test_pred_prob.argmax(axis=1) # Finding the predicted class for test predictions\n",
    "# Presenting the predicted classes for the 1st 10 instances of train\n",
    "print('Predicted class for train: ', y_train_pred[:10],'\\n')\n",
    "# Presenting the predicted classes for the 1st 10 instances of test\n",
    "print('Predicted class for train: ', y_test_pred[:10])\n"
   ]
  },
  {
   "cell_type": "code",
   "execution_count": 83,
   "id": "765a3d0a",
   "metadata": {},
   "outputs": [
    {
     "name": "stdout",
     "output_type": "stream",
     "text": [
      "Train accuracy score of the model is  0.93776 \n",
      "\n",
      "Test accuracy score of the model is  0.94022\n"
     ]
    }
   ],
   "source": [
    "# Calculating the train and test accuracy scores of the model\n",
    "from sklearn import metrics # Importing 'metrics' from sklearn\n",
    "train_score = metrics.accuracy_score(y_train, y_train_pred) # train accuracy\n",
    "test_score = metrics.accuracy_score(y_test, y_test_pred) # test accuracy\n",
    "print('Train accuracy score of the model is ', round(train_score, 5),'\\n')\n",
    "print('Test accuracy score of the model is ', round(test_score, 5))\n"
   ]
  },
  {
   "cell_type": "code",
   "execution_count": 84,
   "id": "0e28e60d",
   "metadata": {},
   "outputs": [
    {
     "data": {
      "image/png": "[encoded data removed]",
      "text/plain": [
       "<Figure size 400x400 with 2 Axes>"
      ]
     },
     "metadata": {},
     "output_type": "display_data"
    },
    {
     "name": "stdout",
     "output_type": "stream",
     "text": [
      "Classification Report for the Train Subset: \n",
      "\n",
      "               precision    recall  f1-score   support\n",
      "\n",
      "           0       0.94      0.99      0.97      1436\n",
      "           1       0.90      0.59      0.72       219\n",
      "\n",
      "    accuracy                           0.94      1655\n",
      "   macro avg       0.92      0.79      0.84      1655\n",
      "weighted avg       0.94      0.94      0.93      1655\n",
      "\n"
     ]
    }
   ],
   "source": [
    "# Computing the confusion matrix for the train subset\n",
    "\n",
    "from sklearn.metrics import confusion_matrix, classification_report\n",
    "\n",
    "train_c_matrix = confusion_matrix(y_train, y_train_pred) # Compute the train confusion matrix\n",
    "plt.figure(figsize=(4,4))\n",
    "sns.heatmap(train_c_matrix, annot=True, fmt=\".1f\", linewidths=.5, square = True,cmap = 'Pastel1');\n",
    "plt.ylabel('Actual label');\n",
    "plt.xlabel('Predicted label');\n",
    "all_sample_title = 'Train Accuracy: {0}'.format(round(train_score, 4))\n",
    "plt.title(all_sample_title, size = 15);\n",
    "plt.show()\n",
    "# Print the train classification report\n",
    "print('Classification Report for the Train Subset: \\n\\n',classification_report(y_train, y_train_pred))\n"
   ]
  },
  {
   "cell_type": "code",
   "execution_count": 85,
   "id": "7f7eacef",
   "metadata": {},
   "outputs": [
    {
     "data": {
      "image/png": "[encoded data removed]",
      "text/plain": [
       "<Figure size 400x400 with 2 Axes>"
      ]
     },
     "metadata": {},
     "output_type": "display_data"
    },
    {
     "name": "stdout",
     "output_type": "stream",
     "text": [
      "Classification Report for the Test Subset: \n",
      "\n",
      "               precision    recall  f1-score   support\n",
      "\n",
      "           0       0.95      0.99      0.97       494\n",
      "           1       0.82      0.55      0.66        58\n",
      "\n",
      "    accuracy                           0.94       552\n",
      "   macro avg       0.88      0.77      0.81       552\n",
      "weighted avg       0.94      0.94      0.93       552\n",
      "\n"
     ]
    }
   ],
   "source": [
    "# Computing the confusion matrix for the test subset\n",
    "\n",
    "test_c_matrix = confusion_matrix(y_test, y_test_pred) # Compute the test confusion matrix\n",
    "plt.figure(figsize=(4,4))\n",
    "sns.heatmap(test_c_matrix, annot=True, fmt=\".1f\", linewidths=.5, square = True,cmap = 'Pastel1');\n",
    "plt.ylabel('Actual label');\n",
    "plt.xlabel('Predicted label');\n",
    "all_sample_title = 'Test Accuracy: {0}'.format(round(test_score, 4))\n",
    "plt.title(all_sample_title, size = 15);\n",
    "plt.show()\n",
    "# Print the train classification report\n",
    "print('Classification Report for the Test Subset: \\n\\n',classification_report(y_test, y_test_pred))\n"
   ]
  },
  {
   "cell_type": "code",
   "execution_count": 86,
   "id": "5f0786aa",
   "metadata": {},
   "outputs": [
    {
     "data": {
      "image/png": "[encoded data removed]",
      "text/plain": [
       "<Figure size 800x600 with 1 Axes>"
      ]
     },
     "metadata": {},
     "output_type": "display_data"
    }
   ],
   "source": [
    " # Plotting the ROC curve for the test subset\n",
    "    \n",
    "from sklearn.metrics import roc_curve, auc # Importing 'roc_curve' and 'auc' from sklearn\n",
    "fpr, tpr, thresholds = roc_curve(y_test_pred, y_test) # Computing ROC for the test subset\n",
    "auc(fpr, tpr) # Computing AUC for the test subset\n",
    "plt.figure(figsize=(8, 6))\n",
    "plt.plot(fpr, tpr, color='red', label='Logistic Regression (AUC: %.2f)'\n",
    "% auc(fpr, tpr))\n",
    "plt.plot([0, 1], [0, 1], color='blue', linestyle='--')\n",
    "plt.xlim([0.0, 1.0])\n",
    "plt.ylim([0.0, 1.01])\n",
    "plt.title('ROC Curve for the Test Subset')\n",
    "plt.xlabel('False Positive Rate (FPR)')\n",
    "plt.ylabel('True Positive Rate (TPR)')\n",
    "plt.legend()\n",
    "plt.show()"
   ]
  },
  {
   "cell_type": "code",
   "execution_count": 88,
   "id": "3e69906c",
   "metadata": {},
   "outputs": [
    {
     "data": {
      "image/png": "[encoded data removed]",
      "text/plain": [
       "<Figure size 700x500 with 1 Axes>"
      ]
     },
     "metadata": {},
     "output_type": "display_data"
    }
   ],
   "source": [
    "# Plotting the decision regions\n",
    "import mlxtend\n",
    "from mlxtend.plotting import plot_decision_regions\n",
    "mlxtend.plotting.plot_decision_regions(X=X_test, y=y_test, clf=logreg) #Plotting the decision region\n",
    "plt.title('Regions for Feature Variables')\n",
    "plt.xlabel('% On-TimeGateArrivals')\n",
    "plt.ylabel('AverageBlockDelay')\n",
    "plt.legend(loc='lower right')\n",
    "plt.tight_layout()\n",
    "plt.gcf().set_size_inches(7, 5)\n",
    "plt.show()\n",
    "## 0: No Rain\n",
    "## 1: Rain"
   ]
  },
  {
   "cell_type": "markdown",
   "id": "3a374f94",
   "metadata": {},
   "source": [
    "Reeference from Lecture Notes - 8"
   ]
  },
  {
   "cell_type": "markdown",
   "id": "34d121f3",
   "metadata": {},
   "source": [
    "(d) Construct a support vector classifier to perform the classification task. Now use a cou\u0002ple of different kernels to construct support vector machines for the classification task at\n",
    "hand. In each case, calculate the accuracy metrics and present your assessment of each\n",
    "classifier. Define a range for the relevant hyperparameters and employ GridSearchCV to\n",
    "find the optimal choice of hyperparameters in the specified range. Rerun the classifiers\n",
    "with the optimal choices of hyperparameters and compare the performance of your clas\u0002sifier with the case where hyperparameters were not tuned. Plot the decision regions in\n",
    "the feature space.\n"
   ]
  },
  {
   "cell_type": "code",
   "execution_count": 89,
   "id": "4d3fff75",
   "metadata": {},
   "outputs": [
    {
     "data": {
      "text/html": [
       "<style>#sk-container-id-6 {color: black;}#sk-container-id-6 pre{padding: 0;}#sk-container-id-6 div.sk-toggleable {background-color: white;}#sk-container-id-6 label.sk-toggleable__label {cursor: pointer;display: block;width: 100%;margin-bottom: 0;padding: 0.3em;box-sizing: border-box;text-align: center;}#sk-container-id-6 label.sk-toggleable__label-arrow:before {content: \"▸\";float: left;margin-right: 0.25em;color: #696969;}#sk-container-id-6 label.sk-toggleable__label-arrow:hover:before {color: black;}#sk-container-id-6 div.sk-estimator:hover label.sk-toggleable__label-arrow:before {color: black;}#sk-container-id-6 div.sk-toggleable__content {max-height: 0;max-width: 0;overflow: hidden;text-align: left;background-color: #f0f8ff;}#sk-container-id-6 div.sk-toggleable__content pre {margin: 0.2em;color: black;border-radius: 0.25em;background-color: #f0f8ff;}#sk-container-id-6 input.sk-toggleable__control:checked~div.sk-toggleable__content {max-height: 200px;max-width: 100%;overflow: auto;}#sk-container-id-6 input.sk-toggleable__control:checked~label.sk-toggleable__label-arrow:before {content: \"▾\";}#sk-container-id-6 div.sk-estimator input.sk-toggleable__control:checked~label.sk-toggleable__label {background-color: #d4ebff;}#sk-container-id-6 div.sk-label input.sk-toggleable__control:checked~label.sk-toggleable__label {background-color: #d4ebff;}#sk-container-id-6 input.sk-hidden--visually {border: 0;clip: rect(1px 1px 1px 1px);clip: rect(1px, 1px, 1px, 1px);height: 1px;margin: -1px;overflow: hidden;padding: 0;position: absolute;width: 1px;}#sk-container-id-6 div.sk-estimator {font-family: monospace;background-color: #f0f8ff;border: 1px dotted black;border-radius: 0.25em;box-sizing: border-box;margin-bottom: 0.5em;}#sk-container-id-6 div.sk-estimator:hover {background-color: #d4ebff;}#sk-container-id-6 div.sk-parallel-item::after {content: \"\";width: 100%;border-bottom: 1px solid gray;flex-grow: 1;}#sk-container-id-6 div.sk-label:hover label.sk-toggleable__label {background-color: #d4ebff;}#sk-container-id-6 div.sk-serial::before {content: \"\";position: absolute;border-left: 1px solid gray;box-sizing: border-box;top: 0;bottom: 0;left: 50%;z-index: 0;}#sk-container-id-6 div.sk-serial {display: flex;flex-direction: column;align-items: center;background-color: white;padding-right: 0.2em;padding-left: 0.2em;position: relative;}#sk-container-id-6 div.sk-item {position: relative;z-index: 1;}#sk-container-id-6 div.sk-parallel {display: flex;align-items: stretch;justify-content: center;background-color: white;position: relative;}#sk-container-id-6 div.sk-item::before, #sk-container-id-6 div.sk-parallel-item::before {content: \"\";position: absolute;border-left: 1px solid gray;box-sizing: border-box;top: 0;bottom: 0;left: 50%;z-index: -1;}#sk-container-id-6 div.sk-parallel-item {display: flex;flex-direction: column;z-index: 1;position: relative;background-color: white;}#sk-container-id-6 div.sk-parallel-item:first-child::after {align-self: flex-end;width: 50%;}#sk-container-id-6 div.sk-parallel-item:last-child::after {align-self: flex-start;width: 50%;}#sk-container-id-6 div.sk-parallel-item:only-child::after {width: 0;}#sk-container-id-6 div.sk-dashed-wrapped {border: 1px dashed gray;margin: 0 0.4em 0.5em 0.4em;box-sizing: border-box;padding-bottom: 0.4em;background-color: white;}#sk-container-id-6 div.sk-label label {font-family: monospace;font-weight: bold;display: inline-block;line-height: 1.2em;}#sk-container-id-6 div.sk-label-container {text-align: center;}#sk-container-id-6 div.sk-container {/* jupyter's `normalize.less` sets `[hidden] { display: none; }` but bootstrap.min.css set `[hidden] { display: none !important; }` so we also need the `!important` here to be able to override the default hidden behavior on the sphinx rendered scikit-learn.org. See: https://github.com/scikit-learn/scikit-learn/issues/21755 */display: inline-block !important;position: relative;}#sk-container-id-6 div.sk-text-repr-fallback {display: none;}</style><div id=\"sk-container-id-6\" class=\"sk-top-container\"><div class=\"sk-text-repr-fallback\"><pre>SVC()</pre><b>In a Jupyter environment, please rerun this cell to show the HTML representation or trust the notebook. <br />On GitHub, the HTML representation is unable to render, please try loading this page with nbviewer.org.</b></div><div class=\"sk-container\" hidden><div class=\"sk-item\"><div class=\"sk-estimator sk-toggleable\"><input class=\"sk-toggleable__control sk-hidden--visually\" id=\"sk-estimator-id-6\" type=\"checkbox\" checked><label for=\"sk-estimator-id-6\" class=\"sk-toggleable__label sk-toggleable__label-arrow\">SVC</label><div class=\"sk-toggleable__content\"><pre>SVC()</pre></div></div></div></div></div>"
      ],
      "text/plain": [
       "SVC()"
      ]
     },
     "execution_count": 89,
     "metadata": {},
     "output_type": "execute_result"
    }
   ],
   "source": [
    " # We start by training an SVC\n",
    "    \n",
    "from sklearn.svm import SVC\n",
    "\n",
    "svc_clf = SVC()\n",
    "svc_clf.fit(X_train, y_train)"
   ]
  },
  {
   "cell_type": "code",
   "execution_count": 90,
   "id": "29bf4a65",
   "metadata": {},
   "outputs": [],
   "source": [
    "# Finding the predictions of SVC classifier for train and test subsets\n",
    "train_y_pred = svc_clf.predict(X_train)\n",
    "test_y_pred = svc_clf.predict(X_test)"
   ]
  },
  {
   "cell_type": "code",
   "execution_count": 91,
   "id": "1b8b0178",
   "metadata": {},
   "outputs": [
    {
     "name": "stdout",
     "output_type": "stream",
     "text": [
      "[0 0 0 ... 0 0 0]\n",
      "1655\n"
     ]
    }
   ],
   "source": [
    "print(train_y_pred)\n",
    "print(train_y_pred.shape[0])"
   ]
  },
  {
   "cell_type": "code",
   "execution_count": 92,
   "id": "1fb3928d",
   "metadata": {},
   "outputs": [
    {
     "name": "stdout",
     "output_type": "stream",
     "text": [
      "[0 0 0 0 0 0 0 0 0 0 0 0 0 0 0 0 0 0 0 0 0 0 1 0 0 0 0 0 0 0 0 0 0 0 0 0 0\n",
      " 0 0 0 1 0 0 0 0 0 0 0 0 0 0 0 0 0 0 0 0 0 0 0 0 0 0 0 0 0 0 0 0 0 0 0 0 0\n",
      " 0 1 0 0 1 0 0 0 0 0 0 1 0 0 0 0 0 1 0 0 0 0 0 0 1 0 0 0 0 0 0 0 0 0 0 0 0\n",
      " 1 0 0 0 0 0 1 0 0 0 0 0 0 0 0 0 0 0 0 0 0 0 1 0 0 0 0 0 0 0 0 0 0 0 0 0 0\n",
      " 0 0 0 0 0 0 0 0 0 0 0 1 0 0 0 0 0 0 0 0 0 0 0 0 0 0 0 0 0 0 0 0 0 0 0 0 0\n",
      " 1 0 1 0 0 0 0 0 0 0 0 0 0 0 0 0 0 0 0 0 0 0 0 0 0 0 0 0 0 0 0 0 0 0 0 0 0\n",
      " 0 0 0 0 0 0 1 0 0 0 0 0 0 0 0 0 0 0 0 0 0 0 1 0 0 1 0 0 0 0 0 0 0 0 0 0 0\n",
      " 0 0 0 0 0 0 0 0 0 0 0 0 0 0 0 0 0 0 0 0 0 0 0 0 0 0 0 1 0 0 0 0 0 0 0 0 0\n",
      " 0 1 0 0 0 0 0 0 0 0 0 1 1 0 0 0 0 0 0 0 0 0 1 0 0 0 0 0 0 0 0 0 0 0 0 0 0\n",
      " 0 0 0 0 0 0 0 0 1 0 0 0 0 0 1 1 0 0 0 0 0 0 0 0 0 0 1 0 0 0 0 0 0 0 0 0 0\n",
      " 0 0 0 0 0 0 0 0 0 0 0 0 0 0 0 0 0 0 0 0 0 0 0 0 0 0 0 0 0 0 0 0 0 0 0 0 0\n",
      " 0 0 0 0 0 0 0 0 0 0 0 0 0 0 0 0 0 0 0 0 0 0 0 0 1 0 0 0 0 0 1 0 1 0 1 0 0\n",
      " 0 0 0 0 0 0 0 0 0 0 1 0 1 0 0 0 0 0 0 0 1 0 0 0 0 0 0 0 0 0 0 1 0 0 0 0 1\n",
      " 0 0 0 1 0 0 0 0 0 0 0 0 0 0 0 0 0 0 0 0 0 1 0 0 0 1 0 0 0 0 0 0 0 0 0 0 0\n",
      " 0 0 0 0 1 0 0 0 0 0 1 0 0 0 0 1 0 0 0 0 0 0 0 0 0 0 0 1 0 0 0 1 0 0]\n",
      "552\n"
     ]
    }
   ],
   "source": [
    "print(test_y_pred)\n",
    "print(test_y_pred.shape[0])"
   ]
  },
  {
   "cell_type": "code",
   "execution_count": 93,
   "id": "7b1eac08",
   "metadata": {},
   "outputs": [
    {
     "name": "stdout",
     "output_type": "stream",
     "text": [
      "SVC Classifier Train Classification Report: \n",
      "\n",
      "               precision    recall  f1-score   support\n",
      "\n",
      "           0       0.95      0.99      0.97      1436\n",
      "           1       0.90      0.69      0.78       219\n",
      "\n",
      "    accuracy                           0.95      1655\n",
      "   macro avg       0.93      0.84      0.88      1655\n",
      "weighted avg       0.95      0.95      0.95      1655\n",
      " \n",
      "\n",
      "\n",
      "SVC Classifier Test Classification Report: \n",
      "\n",
      "               precision    recall  f1-score   support\n",
      "\n",
      "           0       0.95      0.98      0.97       494\n",
      "           1       0.81      0.59      0.68        58\n",
      "\n",
      "    accuracy                           0.94       552\n",
      "   macro avg       0.88      0.79      0.82       552\n",
      "weighted avg       0.94      0.94      0.94       552\n",
      "\n"
     ]
    }
   ],
   "source": [
    "train_score = metrics.accuracy_score(y_train, train_y_pred) # Compute train accuracy\n",
    "test_score = metrics.accuracy_score(y_test, test_y_pred) # Compute test accuracy\n",
    "train_report = classification_report(y_train, train_y_pred) # Generate classification report for train data\n",
    "test_report = classification_report(y_test, test_y_pred) # Generate classification report for test data\n",
    "print('SVC Classifier Train Classification Report: \\n\\n', train_report,'\\n\\n')\n",
    "print('SVC Classifier Test Classification Report: \\n\\n', test_report)"
   ]
  },
  {
   "cell_type": "code",
   "execution_count": 94,
   "id": "7263d948",
   "metadata": {},
   "outputs": [
    {
     "ename": "NameError",
     "evalue": "name 'BaggingClassifier' is not defined",
     "output_type": "error",
     "traceback": [
      "\u001b[1;31m---------------------------------------------------------------------------\u001b[0m",
      "\u001b[1;31mNameError\u001b[0m                                 Traceback (most recent call last)",
      "Cell \u001b[1;32mIn[94], line 2\u001b[0m\n\u001b[0;32m      1\u001b[0m \u001b[38;5;66;03m# Constructing a bagged-SVC classifier\u001b[39;00m\n\u001b[1;32m----> 2\u001b[0m bag_clf \u001b[38;5;241m=\u001b[39m BaggingClassifier(base_estimator\u001b[38;5;241m=\u001b[39mSVC(), n_estimators\u001b[38;5;241m=\u001b[39m\u001b[38;5;241m30\u001b[39m, random_state\u001b[38;5;241m=\u001b[39m\u001b[38;5;241m3\u001b[39m)\n\u001b[0;32m      3\u001b[0m bag_clf\u001b[38;5;241m.\u001b[39mfit(X_train, y_train)\n",
      "\u001b[1;31mNameError\u001b[0m: name 'BaggingClassifier' is not defined"
     ]
    }
   ],
   "source": [
    "# Constructing a bagged-SVC classifier\n",
    "bag_clf = BaggingClassifier(base_estimator=SVC(), n_estimators=30, random_state=3)\n",
    "bag_clf.fit(X_train, y_train)"
   ]
  },
  {
   "cell_type": "markdown",
   "id": "272621e3",
   "metadata": {},
   "source": [
    "(e) Construct a Gaussian naive Bayes classifier for the classification task at hand. Calcu\u0002late the relevant accuracy metrics and plot the decision regions in the feature space.\n",
    "Investigate whether (and to what extent) the underlying assumptions of the naive Bayes\n",
    "algorithm are fulfilled. Explain the validity of the assumptions in this case, and explain\n",
    "whether you trust the results obtained from this classifier."
   ]
  },
  {
   "cell_type": "code",
   "execution_count": 95,
   "id": "a17efdce",
   "metadata": {},
   "outputs": [
    {
     "data": {
      "text/html": [
       "<style>#sk-container-id-7 {color: black;}#sk-container-id-7 pre{padding: 0;}#sk-container-id-7 div.sk-toggleable {background-color: white;}#sk-container-id-7 label.sk-toggleable__label {cursor: pointer;display: block;width: 100%;margin-bottom: 0;padding: 0.3em;box-sizing: border-box;text-align: center;}#sk-container-id-7 label.sk-toggleable__label-arrow:before {content: \"▸\";float: left;margin-right: 0.25em;color: #696969;}#sk-container-id-7 label.sk-toggleable__label-arrow:hover:before {color: black;}#sk-container-id-7 div.sk-estimator:hover label.sk-toggleable__label-arrow:before {color: black;}#sk-container-id-7 div.sk-toggleable__content {max-height: 0;max-width: 0;overflow: hidden;text-align: left;background-color: #f0f8ff;}#sk-container-id-7 div.sk-toggleable__content pre {margin: 0.2em;color: black;border-radius: 0.25em;background-color: #f0f8ff;}#sk-container-id-7 input.sk-toggleable__control:checked~div.sk-toggleable__content {max-height: 200px;max-width: 100%;overflow: auto;}#sk-container-id-7 input.sk-toggleable__control:checked~label.sk-toggleable__label-arrow:before {content: \"▾\";}#sk-container-id-7 div.sk-estimator input.sk-toggleable__control:checked~label.sk-toggleable__label {background-color: #d4ebff;}#sk-container-id-7 div.sk-label input.sk-toggleable__control:checked~label.sk-toggleable__label {background-color: #d4ebff;}#sk-container-id-7 input.sk-hidden--visually {border: 0;clip: rect(1px 1px 1px 1px);clip: rect(1px, 1px, 1px, 1px);height: 1px;margin: -1px;overflow: hidden;padding: 0;position: absolute;width: 1px;}#sk-container-id-7 div.sk-estimator {font-family: monospace;background-color: #f0f8ff;border: 1px dotted black;border-radius: 0.25em;box-sizing: border-box;margin-bottom: 0.5em;}#sk-container-id-7 div.sk-estimator:hover {background-color: #d4ebff;}#sk-container-id-7 div.sk-parallel-item::after {content: \"\";width: 100%;border-bottom: 1px solid gray;flex-grow: 1;}#sk-container-id-7 div.sk-label:hover label.sk-toggleable__label {background-color: #d4ebff;}#sk-container-id-7 div.sk-serial::before {content: \"\";position: absolute;border-left: 1px solid gray;box-sizing: border-box;top: 0;bottom: 0;left: 50%;z-index: 0;}#sk-container-id-7 div.sk-serial {display: flex;flex-direction: column;align-items: center;background-color: white;padding-right: 0.2em;padding-left: 0.2em;position: relative;}#sk-container-id-7 div.sk-item {position: relative;z-index: 1;}#sk-container-id-7 div.sk-parallel {display: flex;align-items: stretch;justify-content: center;background-color: white;position: relative;}#sk-container-id-7 div.sk-item::before, #sk-container-id-7 div.sk-parallel-item::before {content: \"\";position: absolute;border-left: 1px solid gray;box-sizing: border-box;top: 0;bottom: 0;left: 50%;z-index: -1;}#sk-container-id-7 div.sk-parallel-item {display: flex;flex-direction: column;z-index: 1;position: relative;background-color: white;}#sk-container-id-7 div.sk-parallel-item:first-child::after {align-self: flex-end;width: 50%;}#sk-container-id-7 div.sk-parallel-item:last-child::after {align-self: flex-start;width: 50%;}#sk-container-id-7 div.sk-parallel-item:only-child::after {width: 0;}#sk-container-id-7 div.sk-dashed-wrapped {border: 1px dashed gray;margin: 0 0.4em 0.5em 0.4em;box-sizing: border-box;padding-bottom: 0.4em;background-color: white;}#sk-container-id-7 div.sk-label label {font-family: monospace;font-weight: bold;display: inline-block;line-height: 1.2em;}#sk-container-id-7 div.sk-label-container {text-align: center;}#sk-container-id-7 div.sk-container {/* jupyter's `normalize.less` sets `[hidden] { display: none; }` but bootstrap.min.css set `[hidden] { display: none !important; }` so we also need the `!important` here to be able to override the default hidden behavior on the sphinx rendered scikit-learn.org. See: https://github.com/scikit-learn/scikit-learn/issues/21755 */display: inline-block !important;position: relative;}#sk-container-id-7 div.sk-text-repr-fallback {display: none;}</style><div id=\"sk-container-id-7\" class=\"sk-top-container\"><div class=\"sk-text-repr-fallback\"><pre>GaussianNB()</pre><b>In a Jupyter environment, please rerun this cell to show the HTML representation or trust the notebook. <br />On GitHub, the HTML representation is unable to render, please try loading this page with nbviewer.org.</b></div><div class=\"sk-container\" hidden><div class=\"sk-item\"><div class=\"sk-estimator sk-toggleable\"><input class=\"sk-toggleable__control sk-hidden--visually\" id=\"sk-estimator-id-7\" type=\"checkbox\" checked><label for=\"sk-estimator-id-7\" class=\"sk-toggleable__label sk-toggleable__label-arrow\">GaussianNB</label><div class=\"sk-toggleable__content\"><pre>GaussianNB()</pre></div></div></div></div></div>"
      ],
      "text/plain": [
       "GaussianNB()"
      ]
     },
     "execution_count": 95,
     "metadata": {},
     "output_type": "execute_result"
    }
   ],
   "source": [
    "# Importing 'GaussianNB' from naive_bayes module\n",
    "from sklearn.naive_bayes import GaussianNB\n",
    "gnb_clf = GaussianNB() # Instantiating the gaussian naive Bayes classifier\n",
    "gnb_clf.fit(X_train, y_train) # Fitting the training data"
   ]
  },
  {
   "cell_type": "code",
   "execution_count": 96,
   "id": "bce0b7b5",
   "metadata": {},
   "outputs": [],
   "source": [
    " # Finding the predictions of the model for the train and test subsets\n",
    "train_y_pred = gnb_clf.predict(X_train)\n",
    "test_y_pred = gnb_clf.predict(X_test)"
   ]
  },
  {
   "cell_type": "code",
   "execution_count": 97,
   "id": "45a126a1",
   "metadata": {},
   "outputs": [
    {
     "name": "stdout",
     "output_type": "stream",
     "text": [
      "[0 0 0 ... 0 0 0]\n",
      "1655\n"
     ]
    }
   ],
   "source": [
    "print(train_y_pred)\n",
    "print(train_y_pred.shape[0])"
   ]
  },
  {
   "cell_type": "code",
   "execution_count": 98,
   "id": "391c808d",
   "metadata": {},
   "outputs": [
    {
     "name": "stdout",
     "output_type": "stream",
     "text": [
      "[0 0 1 0 0 0 0 0 0 1 0 0 0 0 0 0 0 0 0 0 0 0 1 0 0 0 0 0 0 0 0 0 0 0 0 0 0\n",
      " 0 0 0 1 0 0 0 0 1 1 0 0 0 0 0 0 0 0 0 0 0 1 0 0 0 1 0 0 0 0 1 0 0 0 0 0 0\n",
      " 0 1 0 0 1 0 0 1 0 0 0 1 0 1 0 0 0 1 0 0 0 0 0 0 1 0 0 0 0 0 1 1 0 0 0 0 0\n",
      " 1 0 0 0 0 0 1 0 1 0 0 0 1 0 0 0 0 0 0 0 0 0 1 0 0 0 0 0 0 1 0 0 0 0 0 1 0\n",
      " 0 0 0 0 0 0 0 0 0 0 0 0 0 0 0 0 0 0 0 0 0 0 0 0 0 0 0 0 0 0 0 0 0 0 1 0 0\n",
      " 1 0 1 0 0 0 0 0 0 0 0 0 0 0 0 0 0 0 0 0 0 0 0 0 0 0 0 0 0 1 0 0 0 0 0 0 0\n",
      " 0 0 0 0 0 0 1 0 0 0 1 0 0 0 1 1 0 0 0 0 0 0 1 0 0 1 0 0 0 0 0 0 0 0 0 0 0\n",
      " 0 0 0 0 0 0 1 1 1 0 0 1 1 0 0 0 0 0 1 0 0 0 1 0 1 0 0 1 0 0 0 0 0 0 0 0 0\n",
      " 0 1 0 0 0 0 0 0 0 0 0 0 1 0 0 0 0 0 0 0 0 0 0 0 0 0 0 0 0 0 0 0 0 0 0 0 0\n",
      " 1 0 1 0 0 0 0 0 1 0 0 0 0 0 0 1 0 0 0 0 1 0 0 0 0 0 0 1 1 0 0 0 0 0 0 0 0\n",
      " 0 0 0 0 0 0 0 0 0 1 0 0 0 0 0 0 0 0 0 0 0 0 0 0 0 0 0 0 0 0 0 0 0 0 0 0 0\n",
      " 0 0 0 0 0 0 0 0 0 0 0 0 0 0 0 0 0 0 0 0 0 0 0 0 1 0 0 0 0 0 0 0 1 0 1 0 0\n",
      " 0 0 0 0 0 0 0 0 0 0 1 0 0 1 0 0 0 0 0 0 1 1 0 0 0 0 0 0 0 0 0 0 0 0 0 0 1\n",
      " 0 0 0 1 0 0 0 0 0 0 0 0 0 1 0 0 1 0 1 0 0 0 0 0 0 1 0 0 0 0 0 0 0 0 0 0 0\n",
      " 1 1 0 0 0 0 0 0 0 0 1 0 0 0 1 0 0 0 0 0 1 0 0 0 0 0 0 1 0 0 0 1 0 0]\n",
      "552\n"
     ]
    }
   ],
   "source": [
    "print(test_y_pred)\n",
    "print(test_y_pred.shape[0])"
   ]
  },
  {
   "cell_type": "code",
   "execution_count": 99,
   "id": "900e9e60",
   "metadata": {},
   "outputs": [
    {
     "name": "stdout",
     "output_type": "stream",
     "text": [
      "Gaussian NB Train Classification Report: \n",
      "\n",
      "               precision    recall  f1-score   support\n",
      "\n",
      "           0       0.94      0.95      0.95      1436\n",
      "           1       0.64      0.63      0.64       219\n",
      "\n",
      "    accuracy                           0.91      1655\n",
      "   macro avg       0.79      0.79      0.79      1655\n",
      "weighted avg       0.90      0.91      0.90      1655\n",
      " \n",
      "\n",
      "\n",
      "Gaussian NB Test Classification Report: \n",
      "\n",
      "               precision    recall  f1-score   support\n",
      "\n",
      "           0       0.95      0.92      0.94       494\n",
      "           1       0.47      0.60      0.53        58\n",
      "\n",
      "    accuracy                           0.89       552\n",
      "   macro avg       0.71      0.76      0.73       552\n",
      "weighted avg       0.90      0.89      0.89       552\n",
      "\n"
     ]
    }
   ],
   "source": [
    "# Computing various classification evaluation metrics and presenting the classification report\n",
    "\n",
    "from sklearn import metrics\n",
    "from sklearn.metrics import confusion_matrix, classification_report\n",
    "\n",
    "train_score = metrics.accuracy_score(y_train, train_y_pred) # Compute train accuracy\n",
    "test_score = metrics.accuracy_score(y_test, test_y_pred) # Compute test accuracy\n",
    "train_report = classification_report(y_train, train_y_pred) # Generate classification report for train data\n",
    "test_report = classification_report(y_test, test_y_pred) # Generate classification report for test data\n",
    "print('Gaussian NB Train Classification Report: \\n\\n', train_report,'\\n\\n')\n",
    "print('Gaussian NB Test Classification Report: \\n\\n', test_report)"
   ]
  },
  {
   "cell_type": "code",
   "execution_count": 100,
   "id": "d83782fc",
   "metadata": {},
   "outputs": [
    {
     "data": {
      "image/png": "[encoded data removed]",
      "text/plain": [
       "<Figure size 400x400 with 2 Axes>"
      ]
     },
     "metadata": {},
     "output_type": "display_data"
    }
   ],
   "source": [
    "# Computing the confusion matrix\n",
    "\n",
    "gnb_c_matrix = confusion_matrix(y_test, test_y_pred)\n",
    "plt.figure(figsize=(4,4))\n",
    "sns.heatmap(gnb_c_matrix, annot=True, fmt=\".0f\", linewidths=.5, square = True, cmap = 'Pastel1');\n",
    "plt.ylabel('Actual label');\n",
    "plt.xlabel('Predicted label');\n",
    "all_sample_title = 'Accuracy Score: {0}'.format(round(test_score, 4))\n",
    "plt.title(all_sample_title, size = 15);\n",
    "plt.show()"
   ]
  },
  {
   "cell_type": "code",
   "execution_count": 101,
   "id": "4aaa35b0",
   "metadata": {},
   "outputs": [
    {
     "data": {
      "image/png": "[encoded data removed]",
      "text/plain": [
       "<Figure size 700x500 with 1 Axes>"
      ]
     },
     "metadata": {},
     "output_type": "display_data"
    }
   ],
   "source": [
    "# Plotting the decision regions\n",
    "\n",
    "import mlxtend\n",
    "from mlxtend.plotting import plot_decision_regions\n",
    "\n",
    "mlxtend.plotting.plot_decision_regions(X=X_test, y=y_test, clf=gnb_clf) # Plotting the decision region\n",
    "\n",
    "plt.title('Regions for Feature Variables')\n",
    "plt.xlabel('% On-TimeGateArrivals')\n",
    "plt.ylabel('AverageBlockDelay') \n",
    "plt.legend(loc='upper right')\n",
    "plt.tight_layout()\n",
    "plt.gcf().set_size_inches(7, 5)\n",
    "plt.show()"
   ]
  },
  {
   "cell_type": "markdown",
   "id": "d23a21f2",
   "metadata": {},
   "source": [
    "Reference from Lecture Notes - 6"
   ]
  },
  {
   "cell_type": "markdown",
   "id": "2f969f0e",
   "metadata": {},
   "source": [
    "(f) Construct an LDA classifier and carefully assess its performance. Plot the decision\n",
    "regions in the feature space."
   ]
  },
  {
   "cell_type": "code",
   "execution_count": 102,
   "id": "2e4c8325",
   "metadata": {},
   "outputs": [
    {
     "data": {
      "text/html": [
       "<style>#sk-container-id-8 {color: black;}#sk-container-id-8 pre{padding: 0;}#sk-container-id-8 div.sk-toggleable {background-color: white;}#sk-container-id-8 label.sk-toggleable__label {cursor: pointer;display: block;width: 100%;margin-bottom: 0;padding: 0.3em;box-sizing: border-box;text-align: center;}#sk-container-id-8 label.sk-toggleable__label-arrow:before {content: \"▸\";float: left;margin-right: 0.25em;color: #696969;}#sk-container-id-8 label.sk-toggleable__label-arrow:hover:before {color: black;}#sk-container-id-8 div.sk-estimator:hover label.sk-toggleable__label-arrow:before {color: black;}#sk-container-id-8 div.sk-toggleable__content {max-height: 0;max-width: 0;overflow: hidden;text-align: left;background-color: #f0f8ff;}#sk-container-id-8 div.sk-toggleable__content pre {margin: 0.2em;color: black;border-radius: 0.25em;background-color: #f0f8ff;}#sk-container-id-8 input.sk-toggleable__control:checked~div.sk-toggleable__content {max-height: 200px;max-width: 100%;overflow: auto;}#sk-container-id-8 input.sk-toggleable__control:checked~label.sk-toggleable__label-arrow:before {content: \"▾\";}#sk-container-id-8 div.sk-estimator input.sk-toggleable__control:checked~label.sk-toggleable__label {background-color: #d4ebff;}#sk-container-id-8 div.sk-label input.sk-toggleable__control:checked~label.sk-toggleable__label {background-color: #d4ebff;}#sk-container-id-8 input.sk-hidden--visually {border: 0;clip: rect(1px 1px 1px 1px);clip: rect(1px, 1px, 1px, 1px);height: 1px;margin: -1px;overflow: hidden;padding: 0;position: absolute;width: 1px;}#sk-container-id-8 div.sk-estimator {font-family: monospace;background-color: #f0f8ff;border: 1px dotted black;border-radius: 0.25em;box-sizing: border-box;margin-bottom: 0.5em;}#sk-container-id-8 div.sk-estimator:hover {background-color: #d4ebff;}#sk-container-id-8 div.sk-parallel-item::after {content: \"\";width: 100%;border-bottom: 1px solid gray;flex-grow: 1;}#sk-container-id-8 div.sk-label:hover label.sk-toggleable__label {background-color: #d4ebff;}#sk-container-id-8 div.sk-serial::before {content: \"\";position: absolute;border-left: 1px solid gray;box-sizing: border-box;top: 0;bottom: 0;left: 50%;z-index: 0;}#sk-container-id-8 div.sk-serial {display: flex;flex-direction: column;align-items: center;background-color: white;padding-right: 0.2em;padding-left: 0.2em;position: relative;}#sk-container-id-8 div.sk-item {position: relative;z-index: 1;}#sk-container-id-8 div.sk-parallel {display: flex;align-items: stretch;justify-content: center;background-color: white;position: relative;}#sk-container-id-8 div.sk-item::before, #sk-container-id-8 div.sk-parallel-item::before {content: \"\";position: absolute;border-left: 1px solid gray;box-sizing: border-box;top: 0;bottom: 0;left: 50%;z-index: -1;}#sk-container-id-8 div.sk-parallel-item {display: flex;flex-direction: column;z-index: 1;position: relative;background-color: white;}#sk-container-id-8 div.sk-parallel-item:first-child::after {align-self: flex-end;width: 50%;}#sk-container-id-8 div.sk-parallel-item:last-child::after {align-self: flex-start;width: 50%;}#sk-container-id-8 div.sk-parallel-item:only-child::after {width: 0;}#sk-container-id-8 div.sk-dashed-wrapped {border: 1px dashed gray;margin: 0 0.4em 0.5em 0.4em;box-sizing: border-box;padding-bottom: 0.4em;background-color: white;}#sk-container-id-8 div.sk-label label {font-family: monospace;font-weight: bold;display: inline-block;line-height: 1.2em;}#sk-container-id-8 div.sk-label-container {text-align: center;}#sk-container-id-8 div.sk-container {/* jupyter's `normalize.less` sets `[hidden] { display: none; }` but bootstrap.min.css set `[hidden] { display: none !important; }` so we also need the `!important` here to be able to override the default hidden behavior on the sphinx rendered scikit-learn.org. See: https://github.com/scikit-learn/scikit-learn/issues/21755 */display: inline-block !important;position: relative;}#sk-container-id-8 div.sk-text-repr-fallback {display: none;}</style><div id=\"sk-container-id-8\" class=\"sk-top-container\"><div class=\"sk-text-repr-fallback\"><pre>LinearDiscriminantAnalysis()</pre><b>In a Jupyter environment, please rerun this cell to show the HTML representation or trust the notebook. <br />On GitHub, the HTML representation is unable to render, please try loading this page with nbviewer.org.</b></div><div class=\"sk-container\" hidden><div class=\"sk-item\"><div class=\"sk-estimator sk-toggleable\"><input class=\"sk-toggleable__control sk-hidden--visually\" id=\"sk-estimator-id-8\" type=\"checkbox\" checked><label for=\"sk-estimator-id-8\" class=\"sk-toggleable__label sk-toggleable__label-arrow\">LinearDiscriminantAnalysis</label><div class=\"sk-toggleable__content\"><pre>LinearDiscriminantAnalysis()</pre></div></div></div></div></div>"
      ],
      "text/plain": [
       "LinearDiscriminantAnalysis()"
      ]
     },
     "execution_count": 102,
     "metadata": {},
     "output_type": "execute_result"
    }
   ],
   "source": [
    " # Loading 'LinearDiscriminantAnalysis' from 'discriminant_analysis' module\n",
    "    \n",
    "from sklearn.discriminant_analysis import LinearDiscriminantAnalysis\n",
    "\n",
    "lda_clf = LinearDiscriminantAnalysis() # Instantiating the lda classifier\n",
    "lda_clf.fit(X_train, y_train) # Fitting the train data"
   ]
  },
  {
   "cell_type": "code",
   "execution_count": 103,
   "id": "1d69465d",
   "metadata": {},
   "outputs": [],
   "source": [
    "# Finding the predictions of the lda classifier for train and test subsets\n",
    "train_y_pred = lda_clf.predict(X_train)\n",
    "test_y_pred = lda_clf.predict(X_test)"
   ]
  },
  {
   "cell_type": "code",
   "execution_count": 104,
   "id": "319f6683",
   "metadata": {},
   "outputs": [
    {
     "name": "stdout",
     "output_type": "stream",
     "text": [
      "[0 0 0 ... 0 0 0]\n",
      "1655\n"
     ]
    }
   ],
   "source": [
    "print(train_y_pred)\n",
    "print(train_y_pred.shape[0])"
   ]
  },
  {
   "cell_type": "code",
   "execution_count": 105,
   "id": "09565842",
   "metadata": {},
   "outputs": [
    {
     "name": "stdout",
     "output_type": "stream",
     "text": [
      "[0 0 0 0 0 0 0 0 0 1 0 0 0 0 0 0 0 0 0 0 0 0 1 0 0 0 0 0 0 0 0 0 0 0 0 0 0\n",
      " 0 0 0 1 0 0 0 0 1 0 0 0 0 0 0 0 0 0 0 0 0 1 0 0 0 0 0 0 0 0 1 0 0 0 0 0 0\n",
      " 0 1 0 0 1 0 0 0 0 0 0 1 0 0 0 0 0 1 0 0 0 0 0 0 1 0 0 0 0 0 0 1 0 0 0 0 0\n",
      " 1 0 0 0 0 0 1 0 1 0 0 0 1 0 0 0 0 0 0 0 0 0 1 0 0 0 0 0 0 1 0 0 0 0 0 1 0\n",
      " 0 0 0 0 0 0 0 0 0 0 0 0 0 0 0 0 0 0 0 0 0 0 0 0 0 0 0 0 0 0 0 0 0 0 1 0 0\n",
      " 1 0 1 0 0 0 0 0 0 0 0 0 0 0 0 0 0 0 0 0 0 0 0 0 0 0 0 0 0 1 0 0 0 0 0 0 0\n",
      " 0 0 0 0 0 0 1 0 0 0 1 0 0 0 1 1 0 0 0 0 0 0 1 0 0 1 0 0 0 0 0 0 0 0 0 0 0\n",
      " 0 0 0 0 0 0 1 1 0 0 0 1 1 0 0 0 0 0 1 0 0 0 1 0 1 0 0 1 0 0 0 0 0 0 0 0 0\n",
      " 0 0 0 0 0 0 0 0 0 0 0 0 1 0 0 0 0 0 0 0 0 0 0 0 0 0 0 0 0 0 0 0 0 0 0 0 0\n",
      " 1 0 1 0 0 0 0 0 1 0 0 0 0 0 0 0 0 0 0 0 1 0 0 0 0 0 0 1 0 0 0 0 0 0 0 0 0\n",
      " 0 0 0 0 0 0 0 0 0 1 0 0 0 0 0 0 0 0 0 0 0 0 0 0 0 0 0 0 0 0 0 0 0 0 0 0 0\n",
      " 0 0 0 0 0 0 0 0 0 0 0 0 0 0 0 0 0 0 0 0 0 0 0 0 1 0 0 0 0 0 0 0 1 0 0 0 0\n",
      " 0 0 0 0 0 0 0 0 0 0 1 0 0 1 0 0 0 0 0 0 1 1 0 0 0 0 0 0 0 0 0 0 0 0 0 0 1\n",
      " 0 0 0 1 0 0 0 0 0 0 0 0 0 1 0 0 1 0 1 0 0 0 0 0 0 1 0 0 0 0 0 0 0 0 0 0 0\n",
      " 1 1 0 0 0 0 0 0 0 0 1 0 0 0 1 0 0 0 0 0 1 0 0 0 0 0 0 1 0 0 0 1 0 0]\n",
      "552\n"
     ]
    }
   ],
   "source": [
    "print(test_y_pred)\n",
    "print(test_y_pred.shape[0])"
   ]
  },
  {
   "cell_type": "code",
   "execution_count": 106,
   "id": "6cff7246",
   "metadata": {},
   "outputs": [
    {
     "name": "stdout",
     "output_type": "stream",
     "text": [
      "LDA Train Classification Report: \n",
      "\n",
      "               precision    recall  f1-score   support\n",
      "\n",
      "           0       0.93      0.96      0.95      1436\n",
      "           1       0.67      0.54      0.60       219\n",
      "\n",
      "    accuracy                           0.90      1655\n",
      "   macro avg       0.80      0.75      0.77      1655\n",
      "weighted avg       0.90      0.90      0.90      1655\n",
      " \n",
      "\n",
      "\n",
      "LDA Test Classification Report: \n",
      "\n",
      "               precision    recall  f1-score   support\n",
      "\n",
      "           0       0.94      0.93      0.94       494\n",
      "           1       0.48      0.52      0.50        58\n",
      "\n",
      "    accuracy                           0.89       552\n",
      "   macro avg       0.71      0.73      0.72       552\n",
      "weighted avg       0.89      0.89      0.89       552\n",
      "\n"
     ]
    }
   ],
   "source": [
    " train_score = metrics.accuracy_score(y_train, train_y_pred) # Compute train accuracy\n",
    "test_score = metrics.accuracy_score(y_test, test_y_pred) # Compute test accuracy\n",
    "train_report = classification_report(y_train, train_y_pred) # Generate classification report for train data\n",
    "test_report = classification_report(y_test, test_y_pred) # Generate classification report for test data\n",
    "print('LDA Train Classification Report: \\n\\n', train_report,'\\n\\n')\n",
    "print('LDA Test Classification Report: \\n\\n', test_report)"
   ]
  },
  {
   "cell_type": "code",
   "execution_count": 107,
   "id": "e95835df",
   "metadata": {},
   "outputs": [
    {
     "data": {
      "image/png": "[encoded data removed]",
      "text/plain": [
       "<Figure size 700x500 with 1 Axes>"
      ]
     },
     "metadata": {},
     "output_type": "display_data"
    }
   ],
   "source": [
    "# Plotting the decision regions\n",
    "\n",
    "import mlxtend\n",
    "from mlxtend.plotting import plot_decision_regions\n",
    "\n",
    "mlxtend.plotting.plot_decision_regions(X=X_test, y=y_test, clf=lda_clf) # Plotting the decision region\n",
    "\n",
    "plt.title('Regions for Feature Variables')\n",
    "plt.xlabel('% On-TimeGateArrivals')\n",
    "plt.ylabel('AverageBlockDelay') \n",
    "plt.legend(loc='upper right')\n",
    "plt.tight_layout()\n",
    "plt.gcf().set_size_inches(7, 5)\n",
    "plt.show()"
   ]
  },
  {
   "cell_type": "markdown",
   "id": "13352d82",
   "metadata": {},
   "source": [
    "Reference from Lecture Notes - 6"
   ]
  },
  {
   "cell_type": "markdown",
   "id": "51d0eb35",
   "metadata": {},
   "source": [
    "(g) Construct a decision tree classifier for the classification task at hand. Initially do NOT\n",
    "tune any of the hyperparameters of the tree. Does your tree suffer from overfitting?\n",
    "Use GridSearchCV and tune some of the hyperparameters of your tree to cure the high\n",
    "variance. Calculate the relevant accuracy metrics after tuning the hyperparameters of\n",
    "your tree. How successful were you in curing the high variance?"
   ]
  },
  {
   "cell_type": "code",
   "execution_count": 108,
   "id": "a8be3d26",
   "metadata": {},
   "outputs": [
    {
     "data": {
      "text/html": [
       "<style>#sk-container-id-9 {color: black;}#sk-container-id-9 pre{padding: 0;}#sk-container-id-9 div.sk-toggleable {background-color: white;}#sk-container-id-9 label.sk-toggleable__label {cursor: pointer;display: block;width: 100%;margin-bottom: 0;padding: 0.3em;box-sizing: border-box;text-align: center;}#sk-container-id-9 label.sk-toggleable__label-arrow:before {content: \"▸\";float: left;margin-right: 0.25em;color: #696969;}#sk-container-id-9 label.sk-toggleable__label-arrow:hover:before {color: black;}#sk-container-id-9 div.sk-estimator:hover label.sk-toggleable__label-arrow:before {color: black;}#sk-container-id-9 div.sk-toggleable__content {max-height: 0;max-width: 0;overflow: hidden;text-align: left;background-color: #f0f8ff;}#sk-container-id-9 div.sk-toggleable__content pre {margin: 0.2em;color: black;border-radius: 0.25em;background-color: #f0f8ff;}#sk-container-id-9 input.sk-toggleable__control:checked~div.sk-toggleable__content {max-height: 200px;max-width: 100%;overflow: auto;}#sk-container-id-9 input.sk-toggleable__control:checked~label.sk-toggleable__label-arrow:before {content: \"▾\";}#sk-container-id-9 div.sk-estimator input.sk-toggleable__control:checked~label.sk-toggleable__label {background-color: #d4ebff;}#sk-container-id-9 div.sk-label input.sk-toggleable__control:checked~label.sk-toggleable__label {background-color: #d4ebff;}#sk-container-id-9 input.sk-hidden--visually {border: 0;clip: rect(1px 1px 1px 1px);clip: rect(1px, 1px, 1px, 1px);height: 1px;margin: -1px;overflow: hidden;padding: 0;position: absolute;width: 1px;}#sk-container-id-9 div.sk-estimator {font-family: monospace;background-color: #f0f8ff;border: 1px dotted black;border-radius: 0.25em;box-sizing: border-box;margin-bottom: 0.5em;}#sk-container-id-9 div.sk-estimator:hover {background-color: #d4ebff;}#sk-container-id-9 div.sk-parallel-item::after {content: \"\";width: 100%;border-bottom: 1px solid gray;flex-grow: 1;}#sk-container-id-9 div.sk-label:hover label.sk-toggleable__label {background-color: #d4ebff;}#sk-container-id-9 div.sk-serial::before {content: \"\";position: absolute;border-left: 1px solid gray;box-sizing: border-box;top: 0;bottom: 0;left: 50%;z-index: 0;}#sk-container-id-9 div.sk-serial {display: flex;flex-direction: column;align-items: center;background-color: white;padding-right: 0.2em;padding-left: 0.2em;position: relative;}#sk-container-id-9 div.sk-item {position: relative;z-index: 1;}#sk-container-id-9 div.sk-parallel {display: flex;align-items: stretch;justify-content: center;background-color: white;position: relative;}#sk-container-id-9 div.sk-item::before, #sk-container-id-9 div.sk-parallel-item::before {content: \"\";position: absolute;border-left: 1px solid gray;box-sizing: border-box;top: 0;bottom: 0;left: 50%;z-index: -1;}#sk-container-id-9 div.sk-parallel-item {display: flex;flex-direction: column;z-index: 1;position: relative;background-color: white;}#sk-container-id-9 div.sk-parallel-item:first-child::after {align-self: flex-end;width: 50%;}#sk-container-id-9 div.sk-parallel-item:last-child::after {align-self: flex-start;width: 50%;}#sk-container-id-9 div.sk-parallel-item:only-child::after {width: 0;}#sk-container-id-9 div.sk-dashed-wrapped {border: 1px dashed gray;margin: 0 0.4em 0.5em 0.4em;box-sizing: border-box;padding-bottom: 0.4em;background-color: white;}#sk-container-id-9 div.sk-label label {font-family: monospace;font-weight: bold;display: inline-block;line-height: 1.2em;}#sk-container-id-9 div.sk-label-container {text-align: center;}#sk-container-id-9 div.sk-container {/* jupyter's `normalize.less` sets `[hidden] { display: none; }` but bootstrap.min.css set `[hidden] { display: none !important; }` so we also need the `!important` here to be able to override the default hidden behavior on the sphinx rendered scikit-learn.org. See: https://github.com/scikit-learn/scikit-learn/issues/21755 */display: inline-block !important;position: relative;}#sk-container-id-9 div.sk-text-repr-fallback {display: none;}</style><div id=\"sk-container-id-9\" class=\"sk-top-container\"><div class=\"sk-text-repr-fallback\"><pre>DecisionTreeClassifier()</pre><b>In a Jupyter environment, please rerun this cell to show the HTML representation or trust the notebook. <br />On GitHub, the HTML representation is unable to render, please try loading this page with nbviewer.org.</b></div><div class=\"sk-container\" hidden><div class=\"sk-item\"><div class=\"sk-estimator sk-toggleable\"><input class=\"sk-toggleable__control sk-hidden--visually\" id=\"sk-estimator-id-9\" type=\"checkbox\" checked><label for=\"sk-estimator-id-9\" class=\"sk-toggleable__label sk-toggleable__label-arrow\">DecisionTreeClassifier</label><div class=\"sk-toggleable__content\"><pre>DecisionTreeClassifier()</pre></div></div></div></div></div>"
      ],
      "text/plain": [
       "DecisionTreeClassifier()"
      ]
     },
     "execution_count": 108,
     "metadata": {},
     "output_type": "execute_result"
    }
   ],
   "source": [
    "from sklearn import tree                # Importing 'tree' module from sklearn\n",
    "\n",
    "# Constructing tree classifier with no specified hyperparameters\n",
    "\n",
    "tr_clf = tree.DecisionTreeClassifier()\n",
    "tr_clf.fit(X_train, y_train)"
   ]
  },
  {
   "cell_type": "code",
   "execution_count": 109,
   "id": "41d163ef",
   "metadata": {},
   "outputs": [],
   "source": [
    " # Finding the predictions of tree classifier for train and test subsets\n",
    "train_y_pred = tr_clf.predict(X_train)\n",
    "test_y_pred = tr_clf.predict(X_test)\n"
   ]
  },
  {
   "cell_type": "code",
   "execution_count": 110,
   "id": "4cf8716e",
   "metadata": {},
   "outputs": [
    {
     "name": "stdout",
     "output_type": "stream",
     "text": [
      "[0 0 0 ... 0 0 0]\n",
      "1655\n"
     ]
    }
   ],
   "source": [
    "print(train_y_pred)\n",
    "print(train_y_pred.shape[0])"
   ]
  },
  {
   "cell_type": "code",
   "execution_count": 111,
   "id": "15824bcc",
   "metadata": {},
   "outputs": [
    {
     "name": "stdout",
     "output_type": "stream",
     "text": [
      "[0 0 1 0 0 0 0 0 0 0 0 0 0 0 0 0 0 0 0 0 1 0 1 0 0 0 0 0 0 0 0 0 0 0 0 0 0\n",
      " 0 0 0 1 0 0 0 0 0 0 0 0 0 0 0 0 0 0 0 0 0 0 0 0 0 0 0 0 0 0 1 0 0 0 0 0 0\n",
      " 0 0 1 0 1 0 0 1 0 0 0 1 0 0 0 0 0 1 0 0 0 0 0 0 1 0 0 0 0 1 0 0 0 0 0 0 0\n",
      " 1 0 0 0 0 0 1 0 0 0 0 0 0 0 0 0 0 0 0 0 0 0 1 0 0 0 0 0 0 0 0 0 0 0 0 0 0\n",
      " 0 0 0 0 0 0 0 0 0 0 0 0 0 0 0 1 0 0 0 0 0 0 0 0 0 0 0 0 0 0 0 0 0 0 0 0 0\n",
      " 1 0 1 0 0 0 0 0 0 0 0 0 0 0 0 0 0 0 0 1 0 0 0 0 0 0 0 0 0 0 0 0 0 0 0 0 0\n",
      " 0 0 0 1 0 0 1 0 0 0 0 0 0 0 0 0 0 0 0 0 0 0 1 0 0 1 0 0 0 0 0 0 0 0 0 0 0\n",
      " 0 0 0 0 0 0 0 0 0 0 0 0 1 0 0 0 0 0 0 0 0 0 0 0 0 0 0 1 0 0 0 0 1 0 0 0 0\n",
      " 0 1 0 0 0 0 0 0 0 0 0 0 1 0 0 0 0 0 0 0 0 0 1 0 0 0 0 0 0 0 0 0 0 0 0 0 1\n",
      " 0 0 0 0 0 0 0 0 1 0 0 0 0 0 0 0 0 0 0 0 1 0 0 0 0 0 0 0 0 0 0 0 0 0 0 0 0\n",
      " 1 0 0 0 0 0 0 0 0 1 0 0 1 0 0 1 0 1 0 0 0 0 0 0 0 0 0 0 0 0 0 0 0 0 0 0 0\n",
      " 0 0 0 0 0 0 0 0 0 0 0 0 0 0 0 0 0 0 0 0 0 0 0 0 1 0 0 0 1 0 1 0 1 0 0 0 0\n",
      " 0 0 0 0 0 0 0 0 0 0 1 0 1 0 0 1 0 0 0 0 1 0 0 0 0 0 0 0 0 0 0 0 0 0 0 0 1\n",
      " 0 0 0 1 0 0 0 0 0 0 0 0 0 0 0 0 0 0 0 0 0 0 0 0 0 1 0 0 0 1 0 0 0 0 0 0 0\n",
      " 0 0 0 0 1 0 0 0 0 0 1 0 0 0 0 1 0 0 0 0 0 0 0 0 0 0 0 1 0 0 0 1 0 0]\n",
      "552\n"
     ]
    }
   ],
   "source": [
    "print(test_y_pred)\n",
    "print(test_y_pred.shape[0])"
   ]
  },
  {
   "cell_type": "code",
   "execution_count": 112,
   "id": "69d9f0a4",
   "metadata": {},
   "outputs": [
    {
     "name": "stdout",
     "output_type": "stream",
     "text": [
      "Decision Tree Train Classification Report: \n",
      "\n",
      "               precision    recall  f1-score   support\n",
      "\n",
      "           0       0.99      1.00      1.00      1436\n",
      "           1       1.00      0.96      0.98       219\n",
      "\n",
      "    accuracy                           0.99      1655\n",
      "   macro avg       0.99      0.98      0.99      1655\n",
      "weighted avg       0.99      0.99      0.99      1655\n",
      " \n",
      "\n",
      "\n",
      "Decision Tree Test Classification Report: \n",
      "\n",
      "               precision    recall  f1-score   support\n",
      "\n",
      "           0       0.96      0.97      0.97       494\n",
      "           1       0.74      0.69      0.71        58\n",
      "\n",
      "    accuracy                           0.94       552\n",
      "   macro avg       0.85      0.83      0.84       552\n",
      "weighted avg       0.94      0.94      0.94       552\n",
      "\n"
     ]
    }
   ],
   "source": [
    " train_score = metrics.accuracy_score(y_train, train_y_pred) # Compute train accuracy\n",
    "test_score = metrics.accuracy_score(y_test, test_y_pred) # Compute test␣ accuracy\n",
    "train_report = classification_report(y_train, train_y_pred) # Generate classification report for train data\n",
    "test_report = classification_report(y_test, test_y_pred) # Generate␣ classification report for test data\n",
    "print('Decision Tree Train Classification Report: \\n\\n', train_report,'\\n\\n')\n",
    "print('Decision Tree Test Classification Report: \\n\\n', test_report)"
   ]
  },
  {
   "cell_type": "code",
   "execution_count": null,
   "id": "f9e921a5",
   "metadata": {},
   "outputs": [],
   "source": []
  },
  {
   "cell_type": "code",
   "execution_count": null,
   "id": "60c10bc0",
   "metadata": {},
   "outputs": [],
   "source": []
  },
  {
   "cell_type": "code",
   "execution_count": null,
   "id": "a5691acd",
   "metadata": {},
   "outputs": [],
   "source": []
  },
  {
   "cell_type": "code",
   "execution_count": null,
   "id": "1b875456",
   "metadata": {},
   "outputs": [],
   "source": []
  },
  {
   "cell_type": "code",
   "execution_count": null,
   "id": "a5a6cef3",
   "metadata": {},
   "outputs": [],
   "source": []
  },
  {
   "cell_type": "code",
   "execution_count": null,
   "id": "ea601ab2",
   "metadata": {},
   "outputs": [],
   "source": []
  },
  {
   "cell_type": "code",
   "execution_count": null,
   "id": "8d1bc0b1",
   "metadata": {},
   "outputs": [],
   "source": []
  },
  {
   "cell_type": "code",
   "execution_count": null,
   "id": "b2a08a01",
   "metadata": {},
   "outputs": [],
   "source": []
  },
  {
   "cell_type": "code",
   "execution_count": null,
   "id": "73b9288c",
   "metadata": {},
   "outputs": [],
   "source": []
  },
  {
   "cell_type": "code",
   "execution_count": null,
   "id": "c226c62d",
   "metadata": {},
   "outputs": [],
   "source": []
  },
  {
   "cell_type": "code",
   "execution_count": null,
   "id": "80a9cbe6",
   "metadata": {},
   "outputs": [],
   "source": []
  },
  {
   "cell_type": "code",
   "execution_count": null,
   "id": "2e144005",
   "metadata": {},
   "outputs": [],
   "source": []
  },
  {
   "cell_type": "code",
   "execution_count": null,
   "id": "2dc9224e",
   "metadata": {},
   "outputs": [],
   "source": []
  },
  {
   "cell_type": "code",
   "execution_count": null,
   "id": "fb7e4428",
   "metadata": {},
   "outputs": [],
   "source": []
  },
  {
   "cell_type": "code",
   "execution_count": null,
   "id": "20627e3d",
   "metadata": {},
   "outputs": [],
   "source": []
  },
  {
   "cell_type": "code",
   "execution_count": null,
   "id": "f082e223",
   "metadata": {},
   "outputs": [],
   "source": []
  },
  {
   "cell_type": "markdown",
   "id": "ab31e78d",
   "metadata": {},
   "source": [
    "6. Ensemble Methods Applied to Regression Problems: Consider the same dataset (GateArrivalDelay.csv) in problem 4 of HW 1. Use one of the ensemble learning methods for regression (e.g. random forest regressor, gradient boosting regressor, extreme boostingregressor) to construct a model whose accuracy (R2-score) beats the highest accuracy you could achieve in HW 1. Make sure that the model you construct in this problem is not suffering from a severe high variance problem."
   ]
  },
  {
   "cell_type": "code",
   "execution_count": null,
   "id": "c105c7e6",
   "metadata": {},
   "outputs": [],
   "source": [
    "import numpy as np\n",
    "\n",
    "gadelay_df=pd.read_csv('C:/Users/manis/OneDrive/Documents/DATA-602 - Data Analysis & ML/Assignment - 1/GateArrivalDelay.csv')\n",
    "gadelay_df"
   ]
  },
  {
   "cell_type": "code",
   "execution_count": null,
   "id": "31e9af17",
   "metadata": {},
   "outputs": [],
   "source": [
    "from sklearn.metrics import r2_score\n",
    "from sklearn.model_selection import train_test_split\n",
    "\n",
    "x=gadelay_df[[\"% On-TimeGateArrivals\",\"AverageBlockDelay\"]] # Features \n",
    "y=gadelay_df[[\"AverageGateArrivalDelay\"]] # Target Variable\n",
    "\n",
    "\n",
    "X_train, X_test, y_train, y_test = train_test_split( x, y, test_size=0.25, random_state=0)"
   ]
  },
  {
   "cell_type": "code",
   "execution_count": null,
   "id": "cfeaba9c",
   "metadata": {},
   "outputs": [],
   "source": [
    "print(X_train)"
   ]
  },
  {
   "cell_type": "code",
   "execution_count": null,
   "id": "2b700bd1",
   "metadata": {},
   "outputs": [],
   "source": [
    "print(X_test)"
   ]
  },
  {
   "cell_type": "code",
   "execution_count": null,
   "id": "afba9716",
   "metadata": {},
   "outputs": [],
   "source": [
    "print(y_train)"
   ]
  },
  {
   "cell_type": "code",
   "execution_count": null,
   "id": "9d61e3bd",
   "metadata": {},
   "outputs": [],
   "source": [
    "print(y_test)"
   ]
  },
  {
   "cell_type": "code",
   "execution_count": null,
   "id": "d48c0c57",
   "metadata": {},
   "outputs": [],
   "source": [
    "from sklearn.ensemble import GradientBoostingRegressor\n",
    "\n",
    "gb_reg = GradientBoostingRegressor()  # Instantiating GradientBoostingRegressor\n",
    "gb_reg.fit(X_train, y_train)   "
   ]
  },
  {
   "cell_type": "code",
   "execution_count": null,
   "id": "dd0088a6",
   "metadata": {},
   "outputs": [],
   "source": [
    "# Finding the predictions of gradient boosting regressor for train and test subsets\n",
    "\n",
    "train_y_pred = gb_reg.predict(X_train)\n",
    "test_y_pred = gb_reg.predict(X_test)"
   ]
  },
  {
   "cell_type": "code",
   "execution_count": null,
   "id": "f3b893a8",
   "metadata": {},
   "outputs": [],
   "source": [
    "print(train_y_pred)\n",
    "print(train_y_pred.shape[0])"
   ]
  },
  {
   "cell_type": "code",
   "execution_count": null,
   "id": "21b49c45",
   "metadata": {},
   "outputs": [],
   "source": [
    "print(test_y_pred)\n",
    "print(test_y_pred.shape[0])"
   ]
  },
  {
   "cell_type": "code",
   "execution_count": null,
   "id": "ffdfb60a",
   "metadata": {},
   "outputs": [],
   "source": [
    "r2_train_score = gb_reg.score(X_train, y_train) # Calculating R^2 score for train\n",
    "r2_test_score = gb_reg.score(X_test, y_test) # Calculating R^2 score for test\n",
    "print('R^2 score for train dataset = ', round(r2_train_score, 4), '\\n')\n",
    "print('R^2 score for test dataset = ', round(r2_test_score, 4), '\\n')\n"
   ]
  },
  {
   "cell_type": "code",
   "execution_count": null,
   "id": "6fec6f28",
   "metadata": {},
   "outputs": [],
   "source": [
    " # Setting new hyperparameters for gradient boosting regressor\n",
    "gb_params = {'n_estimators': 1000, 'max_depth': 6, 'min_samples_split': 15,'learning_rate': 0.01}\n",
    "gb_reg = GradientBoostingRegressor(**gb_params) # Applying the new hyperparameters\n",
    "gb_reg.fit(X_train, y_train) # Fitting the train data"
   ]
  },
  {
   "cell_type": "code",
   "execution_count": null,
   "id": "50753151",
   "metadata": {},
   "outputs": [],
   "source": [
    " # Finding the predictions of gradient boosting regressor for train and test subsets\n",
    "train_y_pred = gb_reg.predict(X_train)\n",
    "test_y_pred = gb_reg.predict(X_test)"
   ]
  },
  {
   "cell_type": "code",
   "execution_count": null,
   "id": "c8696309",
   "metadata": {},
   "outputs": [],
   "source": [
    "print(train_y_pred)\n",
    "print(train_y_pred.shape[0])"
   ]
  },
  {
   "cell_type": "code",
   "execution_count": null,
   "id": "9354184b",
   "metadata": {},
   "outputs": [],
   "source": [
    "print(test_y_pred)\n",
    "print(test_y_pred.shape[0])"
   ]
  },
  {
   "cell_type": "code",
   "execution_count": null,
   "id": "a70fccc7",
   "metadata": {},
   "outputs": [],
   "source": [
    "r2_train_score = gb_reg.score(X_train, y_train) # Calculating R^2 score for train\n",
    "r2_test_score = gb_reg.score(X_test, y_test) # Calculating R^2 score for test\n",
    "print('R^2 score for train dataset = ', round(r2_train_score, 4), '\\n')\n",
    "print('R^2 score for test dataset = ', round(r2_test_score, 4), '\\n')"
   ]
  },
  {
   "cell_type": "markdown",
   "id": "6adafa6b",
   "metadata": {},
   "source": [
    "Analysis\n",
    "My HW1 r2 scores were as follows\n",
    "R2 score of Train data is : 0.6488\n",
    "R2 score of Test data is : 0.7108\n",
    "I have implemented gradient boosting ensemble method and my R2 scores are as follows\n",
    "R^2 score for train dataset = 0.9202\n",
    "R^2 score for test dataset = 0.7852\n",
    "After initializing hyperparameters with values ('n_estimators': 2000, 'max_depth': 7, 'min_samples_split': 15, 'learning_rate': 0.001)\n",
    "My new R2 scores are as follows\n",
    "R^2 score for train dataset = 0.9502\n",
    "R^2 score for test dataset = 0.7851\n",
    "Variance score got reduced after adding hyperparameters and my new R2 score is more accurate than previous homeowrk with less variance."
   ]
  },
  {
   "cell_type": "markdown",
   "id": "3a355ab0",
   "metadata": {},
   "source": [
    "Reference from Lecture Notes - 8 and Assignment - 1"
   ]
  },
  {
   "cell_type": "markdown",
   "id": "e5a4c4c3",
   "metadata": {},
   "source": [
    "questions pending - 5 (c), (d), (e),  , 6"
   ]
  }
 ],
 "metadata": {
  "kernelspec": {
   "display_name": "Python 3 (ipykernel)",
   "language": "python",
   "name": "python3"
  },
  "language_info": {
   "codemirror_mode": {
    "name": "ipython",
    "version": 3
   },
   "file_extension": ".py",
   "mimetype": "text/x-python",
   "name": "python",
   "nbconvert_exporter": "python",
   "pygments_lexer": "ipython3",
   "version": "3.11.4"
  }
 },
 "nbformat": 4,
 "nbformat_minor": 5
}
