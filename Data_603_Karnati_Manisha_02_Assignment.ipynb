{
 "cells": [
  {
   "cell_type": "code",
   "execution_count": 1,
   "id": "5e1940d4",
   "metadata": {},
   "outputs": [
    {
     "name": "stdout",
     "output_type": "stream",
     "text": [
      "Requirement already satisfied: mrjob in c:\\users\\manis\\anaconda3\\lib\\site-packages (0.7.4)\n",
      "Requirement already satisfied: PyYAML>=3.10 in c:\\users\\manis\\anaconda3\\lib\\site-packages (from mrjob) (6.0)\n"
     ]
    }
   ],
   "source": [
    "!pip install mrjob"
   ]
  },
  {
   "cell_type": "code",
   "execution_count": 43,
   "id": "b49c3734",
   "metadata": {},
   "outputs": [
    {
     "name": "stdout",
     "output_type": "stream",
     "text": [
      "Requirement already satisfied: pandas in c:\\users\\manis\\anaconda3\\lib\\site-packages (1.5.3)\n",
      "Requirement already satisfied: pytz>=2020.1 in c:\\users\\manis\\anaconda3\\lib\\site-packages (from pandas) (2022.7)\n",
      "Requirement already satisfied: python-dateutil>=2.8.1 in c:\\users\\manis\\anaconda3\\lib\\site-packages (from pandas) (2.8.2)\n",
      "Requirement already satisfied: numpy>=1.21.0 in c:\\users\\manis\\anaconda3\\lib\\site-packages (from pandas) (1.23.5)\n",
      "Requirement already satisfied: six>=1.5 in c:\\users\\manis\\anaconda3\\lib\\site-packages (from python-dateutil>=2.8.1->pandas) (1.16.0)\n",
      "Note: you may need to restart the kernel to use updated packages.\n"
     ]
    }
   ],
   "source": [
    "pip install pandas"
   ]
  },
  {
   "cell_type": "code",
   "execution_count": 6,
   "id": "8e0f3dbb",
   "metadata": {},
   "outputs": [],
   "source": [
    "import pandas as pd\n",
    "\n",
    "# Reading the yelp.csv file\n",
    "df = pd.read_csv(\"yelp.csv\")\n",
    "\n",
    "# Replacing newline characters with spaces in all the columns of the yelp.csv file\n",
    "df = df.replace(r'\\n', ' ', regex=True)\n",
    "\n",
    "# Saving the modified DataFrame to a new CSV file which is new_yelp.csv file with a specific delimiter\n",
    "df.to_csv(\"new_yelp.csv\")"
   ]
  },
  {
   "cell_type": "code",
   "execution_count": null,
   "id": "52c3cf11",
   "metadata": {},
   "outputs": [],
   "source": []
  },
  {
   "cell_type": "code",
   "execution_count": null,
   "id": "57f8ef17",
   "metadata": {},
   "outputs": [],
   "source": [
    "TASK 1. Average number of words in each review "
   ]
  },
  {
   "cell_type": "code",
   "execution_count": 55,
   "id": "7f83772b",
   "metadata": {},
   "outputs": [
    {
     "name": "stdout",
     "output_type": "stream",
     "text": [
      "Writing average_word_count.py\n"
     ]
    }
   ],
   "source": [
    "%%file average_word_count.py\n",
    "\n",
    "from mrjob.job import MRJob\n",
    "import csv\n",
    "\n",
    "class AverageWordCount(MRJob):\n",
    "\n",
    "    def mapper(self, _, line):\n",
    "        row = next(csv.reader([line]))\n",
    "        id, business_id,date,review_id,stars,text,type,user_id,cool,useful,funny=row\n",
    "        #business_id, date, review_id, stars, text, type, user_id, cool, useful, funny = line.strip().split('\\t')\n",
    "        \n",
    "        # Split the text into words and yield the length of the words and store in word_count\n",
    "        word_count = len(text.split())\n",
    "        \n",
    "        # Emit null as the key and the word_count as the value\n",
    "        yield None, word_count\n",
    "        \n",
    "\n",
    "    def reducer(self, keys, word_count):\n",
    "        \n",
    "        # Calculate the average word count for each review\n",
    "        l1=list(word_count)\n",
    "        total_words = sum(l1)\n",
    "        num_reviews = len(l1)\n",
    "        if num_reviews>0:\n",
    "            average_word_count = total_words / num_reviews\n",
    "            \n",
    "            # Emit the Average_Word_Count string as the key and the average_word_count as the value\n",
    "            yield \"Average_Word_Count\", average_word_count\n",
    "\n",
    "            \n",
    "if __name__ == '__main__':\n",
    "    AverageWordCount.run()\n"
   ]
  },
  {
   "cell_type": "code",
   "execution_count": 56,
   "id": "c014993e",
   "metadata": {
    "scrolled": false
   },
   "outputs": [
    {
     "name": "stderr",
     "output_type": "stream",
     "text": [
      "No configs specified for inline runner\n"
     ]
    },
    {
     "name": "stdout",
     "output_type": "stream",
     "text": [
      "Average_Word_Count: 131.02659734026597\n"
     ]
    }
   ],
   "source": [
    "import average_word_count\n",
    "\n",
    "# Creating an instance of the AverageWordCount MRJob with the new_yelp.csv input file\n",
    "mr_job = average_word_count.AverageWordCount(args=['new_yelp.csv'])\n",
    "\n",
    "# Execute the MRJob and printing the results in the console\n",
    "with mr_job.make_runner() as runner:\n",
    "    runner.run()\n",
    "    for key, value in mr_job.parse_output(runner.cat_output()):\n",
    "        print(f\"{key}: {value}\")\n"
   ]
  },
  {
   "cell_type": "code",
   "execution_count": null,
   "id": "b5d16a95",
   "metadata": {},
   "outputs": [],
   "source": []
  },
  {
   "cell_type": "code",
   "execution_count": null,
   "id": "876ad1d3",
   "metadata": {},
   "outputs": [],
   "source": [
    "TASK 2. Count of reviews by year-month "
   ]
  },
  {
   "cell_type": "code",
   "execution_count": 48,
   "id": "211878f0",
   "metadata": {},
   "outputs": [
    {
     "name": "stdout",
     "output_type": "stream",
     "text": [
      "Writing year_month_review_count.py\n"
     ]
    }
   ],
   "source": [
    "%%file year_month_review_count.py\n",
    "\n",
    "from mrjob.job import MRJob\n",
    "import csv\n",
    "\n",
    "class CountofReview(MRJob):\n",
    "\n",
    "    def mapper(self, _, line):\n",
    "        row = next(csv.reader([line]))\n",
    "        id, business_id, date, review_id, stars, text, type, user_id, cool, useful, funny = row\n",
    "        \n",
    "        # Extracting the YYYY-MM format from date column and store in date_review_count\n",
    "        date_review_count = date[:7]\n",
    "        \n",
    "        # Emit the date_review_count as the key and 1 as the value\n",
    "        yield date_review_count, 1\n",
    "        \n",
    "\n",
    "    def reducer(self, date_review_count, values):\n",
    "        total_count_of_reviews = sum(values)\n",
    "        \n",
    "        # Emit the date_review_count as the key and the total_count_of_reviews as the value\n",
    "        yield date_review_count, total_count_of_reviews\n",
    "\n",
    "if __name__ == '__main__':\n",
    "    CountofReview.run()\n"
   ]
  },
  {
   "cell_type": "code",
   "execution_count": 49,
   "id": "a920b75f",
   "metadata": {},
   "outputs": [
    {
     "name": "stderr",
     "output_type": "stream",
     "text": [
      "No configs specified for inline runner\n"
     ]
    },
    {
     "name": "stdout",
     "output_type": "stream",
     "text": [
      "2005-04: 1\n",
      "2005-07: 2\n",
      "2005-12: 1\n",
      "2006-01: 6\n",
      "2006-02: 9\n",
      "2006-04: 2\n",
      "2006-05: 1\n",
      "2006-06: 5\n",
      "2006-07: 2\n",
      "2006-08: 9\n",
      "2006-09: 4\n",
      "2006-10: 5\n",
      "2006-11: 6\n",
      "2006-12: 6\n",
      "2007-01: 14\n",
      "2007-02: 20\n",
      "2007-03: 42\n",
      "2007-04: 8\n",
      "2007-05: 23\n",
      "2007-06: 12\n",
      "2007-07: 35\n",
      "2007-08: 29\n",
      "2007-09: 26\n",
      "2007-10: 23\n",
      "2007-11: 28\n",
      "2007-12: 25\n",
      "2008-01: 46\n",
      "2008-02: 48\n",
      "2008-03: 47\n",
      "2008-04: 53\n",
      "2008-05: 65\n",
      "2008-06: 76\n",
      "2008-07: 80\n",
      "2008-08: 75\n",
      "2008-09: 59\n",
      "2008-10: 79\n",
      "2008-11: 66\n",
      "2008-12: 71\n",
      "2009-01: 108\n",
      "2009-02: 79\n",
      "2009-03: 126\n",
      "2009-04: 101\n",
      "2009-05: 101\n",
      "2009-06: 67\n",
      "2009-07: 95\n",
      "2009-08: 98\n",
      "2009-09: 113\n",
      "2009-10: 101\n",
      "2009-11: 78\n",
      "2009-12: 104\n",
      "2010-01: 154\n",
      "2010-02: 148\n",
      "2010-03: 168\n",
      "2010-04: 148\n",
      "2010-05: 154\n",
      "2010-06: 118\n",
      "2010-07: 160\n",
      "2010-08: 201\n",
      "2010-09: 150\n",
      "2010-10: 144\n",
      "2010-11: 147\n",
      "2010-12: 160\n",
      "2011-01: 239\n",
      "2011-02: 216\n",
      "2011-03: 263\n",
      "2011-04: 263\n",
      "2011-05: 229\n",
      "2011-06: 230\n",
      "2011-07: 236\n",
      "2011-08: 266\n",
      "2011-09: 193\n",
      "2011-10: 204\n",
      "2011-11: 203\n",
      "2011-12: 249\n",
      "2012-01: 304\n",
      "2012-02: 219\n",
      "2012-03: 259\n",
      "2012-04: 265\n",
      "2012-05: 275\n",
      "2012-06: 272\n",
      "2012-07: 281\n",
      "2012-08: 249\n",
      "2012-09: 239\n",
      "2012-10: 258\n",
      "2012-11: 208\n",
      "2012-12: 196\n",
      "2013-01: 52\n",
      "date: 1\n"
     ]
    }
   ],
   "source": [
    "import year_month_review_count\n",
    "\n",
    "# Creating an instance of the CountofReview MRJob with the new_yelp.csv input file\n",
    "mr_job = year_month_review_count.CountofReview(args=['new_yelp.csv'])\n",
    "\n",
    "# Execute the MRJob and printing the results in the console\n",
    "with mr_job.make_runner() as runner:\n",
    "    runner.run()\n",
    "    for key, value in mr_job.parse_output(runner.cat_output()):\n",
    "        print(f\"{key}: {value}\")\n"
   ]
  },
  {
   "cell_type": "code",
   "execution_count": null,
   "id": "7e92ffc7",
   "metadata": {},
   "outputs": [],
   "source": []
  },
  {
   "cell_type": "code",
   "execution_count": null,
   "id": "bd348161",
   "metadata": {},
   "outputs": [],
   "source": [
    "TASK 3. Average rating of any review marked ”cool” "
   ]
  },
  {
   "cell_type": "code",
   "execution_count": 112,
   "id": "9b0ddfe1",
   "metadata": {},
   "outputs": [
    {
     "name": "stdout",
     "output_type": "stream",
     "text": [
      "Writing avg_cool_rating.py\n"
     ]
    }
   ],
   "source": [
    "%%file avg_cool_rating.py\n",
    "\n",
    "from mrjob.job import MRJob\n",
    "import csv\n",
    "\n",
    "class AverageCoolRating(MRJob):\n",
    "\n",
    "    def mapper(self, _, line):\n",
    "        row = next(csv.reader([line]))\n",
    "        id, business_id, date, review_id, stars, text, type, user_id, cool, useful, funny = row\n",
    "        total_stars=0\n",
    "        count=0\n",
    "        \n",
    "        # Checking if cool is not equal to 0\n",
    "        if cool!=0:\n",
    "            #total_stars+=int(stars)\n",
    "            #count+=1\n",
    "            if stars!=\"stars\":\n",
    "                total_stars+=int(stars)\n",
    "                count+=1\n",
    "                \n",
    "            # Emit null as the key and both total_stars,count as the value\n",
    "            yield None, (total_stars,count)\n",
    "            \n",
    "\n",
    "    def reducer(self, keys, values):\n",
    "        #l2=len(total_stars)\n",
    "        total_rating = 0\n",
    "        total_cool_count = 0\n",
    "        for total_stars, count in values:\n",
    "            total_rating += total_stars\n",
    "            total_cool_count += count\n",
    "        if total_cool_count>0:\n",
    "            average_cool_rating = total_rating / total_cool_count\n",
    "            \n",
    "            # Emit the Average_Word_Count string as the key and the average_cool_rating as the value\n",
    "            yield \"Average_Word_Count\", average_cool_rating\n",
    "        #yield \"Average\", cool\n",
    "\n",
    "if __name__ == '__main__':\n",
    "    CountofReview.run()\n"
   ]
  },
  {
   "cell_type": "code",
   "execution_count": 113,
   "id": "6d366f12",
   "metadata": {},
   "outputs": [
    {
     "name": "stderr",
     "output_type": "stream",
     "text": [
      "No configs specified for inline runner\n"
     ]
    },
    {
     "name": "stdout",
     "output_type": "stream",
     "text": [
      "Average_Word_Count: 3.7775\n"
     ]
    }
   ],
   "source": [
    "import avg_cool_rating\n",
    "\n",
    "# Creating an instance of the AverageCoolRating MRJob with the new_yelp.csv input file\n",
    "mr_job = avg_cool_rating.AverageCoolRating(args=['new_yelp.csv'])\n",
    "\n",
    "# Execute the MRJob and printing the results in the console\n",
    "with mr_job.make_runner() as runner:\n",
    "    runner.run()\n",
    "    for key, value in mr_job.parse_output(runner.cat_output()):\n",
    "        print(f\"{key}: {value}\")\n"
   ]
  },
  {
   "cell_type": "code",
   "execution_count": null,
   "id": "be23297f",
   "metadata": {},
   "outputs": [],
   "source": []
  }
 ],
 "metadata": {
  "kernelspec": {
   "display_name": "Python 3 (ipykernel)",
   "language": "python",
   "name": "python3"
  },
  "language_info": {
   "codemirror_mode": {
    "name": "ipython",
    "version": 3
   },
   "file_extension": ".py",
   "mimetype": "text/x-python",
   "name": "python",
   "nbconvert_exporter": "python",
   "pygments_lexer": "ipython3",
   "version": "3.10.9"
  }
 },
 "nbformat": 4,
 "nbformat_minor": 5
}
